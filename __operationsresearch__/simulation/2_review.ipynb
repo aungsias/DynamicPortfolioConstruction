{
 "cells": [
  {
   "cell_type": "code",
   "execution_count": 467,
   "metadata": {},
   "outputs": [],
   "source": [
    "import pandas as pd\n",
    "import numpy as np\n",
    "import matplotlib.pyplot as plt\n",
    "import seaborn as sns\n",
    "from tqdm.auto import tqdm"
   ]
  },
  {
   "cell_type": "markdown",
   "metadata": {},
   "source": [
    "### 1. \n",
    "\n",
    "A news vendor sells newspapers and tries to maximize\n",
    "profits. The number of papers sold each day is a random\n",
    "variable. However, analysis of the past month’s data shows\n",
    "the distribution of daily demand in the table below. A paper costs\n",
    "the vendor 20¢. The vendor sells the paper for 30¢. Any\n",
    "unsold papers are returned to the publisher for a credit of\n",
    "10¢. Any unsatisfied demand is estimated to cost 10¢ in\n",
    "goodwill and lost profit. If the policy is to order a quantity\n",
    "equal to the preceding day’s demand, determine the average\n",
    "daily profit of the news vendor by simulating this system.\n",
    "Assume that the demand for day 0 is equal to 32.\n",
    "\n",
    "Demand per Day|Probability\n",
    ":-:|:-:\n",
    "30|.05\n",
    "31|.15\n",
    "32|.22\n",
    "33|.38\n",
    "34|.14\n",
    "35|.06"
   ]
  },
  {
   "cell_type": "code",
   "execution_count": 10,
   "metadata": {},
   "outputs": [
    {
     "name": "stdout",
     "output_type": "stream",
     "text": [
      "$3.05\n"
     ]
    }
   ],
   "source": [
    "def generate_demand(demand_dict):\n",
    "\n",
    "    r, c = np.random.random(), 0\n",
    "\n",
    "    for d, p in demand_dict.items():\n",
    "        c += p\n",
    "        if c >= r:\n",
    "            return d\n",
    "        \n",
    "demand_per_day = {\n",
    "    30: 0.05,\n",
    "    31: 0.15,\n",
    "    32: 0.22,\n",
    "    33: 0.38,\n",
    "    34: 0.14,\n",
    "    35: 0.06\n",
    "}\n",
    "\n",
    "\n",
    "sim = pd.DataFrame({\n",
    "    \"demand\": [generate_demand(demand_per_day) for _ in range(10_000)]\n",
    "})\n",
    "\n",
    "\n",
    "sim[\"policy\"] = sim[\"demand\"].shift().fillna(32).astype(int)\n",
    "\n",
    "sim[\"profit\"] = sim.apply(\n",
    "    lambda r: r[\"policy\"] * 0.3 - (r[\"demand\"] - r[\"policy\"])*0.1 - r[\"policy\"] * 0.2 if r[\"policy\"] < r[\"demand\"] \\\n",
    "        else r[\"demand\"] * 0.3 + (r[\"policy\"] - r[\"demand\"])*0.1 - r[\"policy\"] * 0.2 if r[\"policy\"] > r[\"demand\"] \\\n",
    "            else r[\"demand\"] * 0.3 - r[\"demand\"] * 0.2, \\\n",
    "                axis=1\n",
    ")\n",
    "\n",
    "print(f\"${sim['profit'].mean():,.2f}\")"
   ]
  },
  {
   "cell_type": "markdown",
   "metadata": {},
   "source": [
    "### 2.\n",
    "\n",
    "An airport hotel has 100 rooms. On any given night, it\n",
    "takes up to 105 reservations, because of the possibility of\n",
    "no-shows. Past records indicate that the number of daily\n",
    "reservations is uniformly distributed over the integer range\n",
    "[96, 105]. That is, each integer number in this range has an\n",
    "equal probability, .1, of showing up. The no-shows are\n",
    "represented by the distribution in the table below. Develop a\n",
    "simulation model to find the following measures of\n",
    "performance of this booking system: the expected number\n",
    "of rooms used per night and the percentage of nights when\n",
    "more than 100 rooms are claimed.\n",
    "\n",
    "Number of No-Shows|Probability|||Number of Reservations|Probability\n",
    ":-:|:-:|:-:|:-:|:-:|:-:\n",
    "0|0.10|||96|0.1\n",
    "1|0.20|||97|0.1\n",
    "2|0.25|||98|0.1\n",
    "3|0.30|||99|0.1\n",
    "4|0.10|||100|0.1\n",
    "5|0.05|||101|0.1\n",
    "$\\text{ }$||||102|0.1\n",
    "$\\text{ }$||||103|0.1\n",
    "$\\text{ }$||||104|0.1\n",
    "$\\text{ }$||||105|0.1"
   ]
  },
  {
   "cell_type": "code",
   "execution_count": 361,
   "metadata": {},
   "outputs": [
    {
     "name": "stdout",
     "output_type": "stream",
     "text": [
      "- Expected Number of Rooms Used: 98\n",
      "- Exceeds 100 rooms 27.39% of the nights.\n"
     ]
    }
   ],
   "source": [
    "def generate_no_shows(ns_dist):\n",
    "    r = np.random.random()\n",
    "    c = 0\n",
    "    for i, p in ns_dist.items():\n",
    "        c += p\n",
    "        if c >= r:\n",
    "            return i\n",
    "\n",
    "ns_dist = {0: .1, 1: .2, 2: .25, 3: .3, 4: .1, 5: .05}\n",
    "cap = 100\n",
    "\n",
    "n_it = 100_000\n",
    "sim_results = [np.random.randint(96, 106) - generate_no_shows(ns_dist) for _ in range(n_it)]\n",
    "\n",
    "expected_num_rooms_used = int(np.mean(sim_results))\n",
    "exceeds_cap = sum(i > cap for i in sim_results) / n_it\n",
    "\n",
    "print(f\"- Expected Number of Rooms Used: {expected_num_rooms_used}\")\n",
    "print(f\"- Exceeds 100 rooms {exceeds_cap*100:,.2f}% of the nights.\")"
   ]
  },
  {
   "cell_type": "markdown",
   "metadata": {},
   "source": [
    "### 3.\n",
    "\n",
    "The university library has one copying machine for the\n",
    "students to use. Students arrive at the machine with\n",
    "the distribution of interarrival times shown in the table below (left). The\n",
    "time to make a copy is uniformly distributed over the range\n",
    "[16, 25] seconds. Analysis of past data has shown that the\n",
    "number of copies a student makes during a visit has\n",
    "the distribution in the table below (right). The librarian feels that under\n",
    "the present system, the lines in front of the copying machine\n",
    "are too long and that the time a student spends in the system\n",
    "(waiting time $+$ service time) is excessive. Develop a\n",
    "simulation model to estimate the average length of the\n",
    "waiting line and the expected waiting time in the system.\n",
    "\n",
    "Interarrival Time (minutes) | Probability | | | Number of Copies | Probability\n",
    ":-:|:-:|:-:|:-:|:-:|:-:\n",
    "1|.2|||6|.2\n",
    "2|.25|||7|.25\n",
    "3|.4|||8|.35\n",
    "4|.1|||9|.15\n",
    "5|.05|||10|.05"
   ]
  },
  {
   "cell_type": "code",
   "execution_count": 842,
   "metadata": {},
   "outputs": [
    {
     "data": {
      "application/vnd.jupyter.widget-view+json": {
       "model_id": "82991d72a868405ca0b119e922c35b63",
       "version_major": 2,
       "version_minor": 0
      },
      "text/plain": [
       "  0%|          | 0/1000 [00:00<?, ?it/s]"
      ]
     },
     "metadata": {},
     "output_type": "display_data"
    },
    {
     "name": "stdout",
     "output_type": "stream",
     "text": [
      "0.7686499999999999\n",
      "147.7189\n"
     ]
    }
   ],
   "source": [
    "def gen_copying_time(range):\n",
    "    return np.random.randint(range[0], range[1]+1)\n",
    "\n",
    "def gen_value(dist):\n",
    "    r, c = np.random.random(), 0\n",
    "    for i, p in dist.items():\n",
    "        c += p\n",
    "        if c >= r:\n",
    "            return i\n",
    "\n",
    "def gen_student_data(n_students, i_dist, c_dist, t_range):\n",
    "\n",
    "    sim = pd.DataFrame({\n",
    "        \"student\": [i+1 for i in range(n_students)],\n",
    "        \"interarrival_time_(s)\": [0] + [gen_value(i_dist) * 60 for _ in range(n_students - 1)],\n",
    "        \"num_copies\": [gen_value(c_dist) for _ in range(n_students)],\n",
    "        \"copy_time_(s)\": [gen_copying_time(t_range) for _ in range(n_students)]\n",
    "    }).set_index('student')\n",
    "\n",
    "    sim[\"time_taken_(s)\"] = sim[\"copy_time_(s)\"] * sim[\"num_copies\"]\n",
    "    sim[\"expected_wait_time\"] = np.nan\n",
    "\n",
    "    for i in range(1, len(sim)+1):\n",
    "        if i == 1:\n",
    "            sim.loc[i, \"expected_wait_time\"] = 0\n",
    "        else:\n",
    "            if sim.loc[i-1, \"time_taken_(s)\"] + sim.loc[i-1, \"expected_wait_time\"] > sim.loc[i, \"interarrival_time_(s)\"]:\n",
    "                sim.loc[i, \"expected_wait_time\"] = sim.loc[i-1, \"time_taken_(s)\"] + sim.loc[i-1, \"expected_wait_time\"] - sim.loc[i, \"interarrival_time_(s)\"]\n",
    "            else:\n",
    "                sim.loc[i, \"expected_wait_time\"] = 0\n",
    "\n",
    "    sim[\"waiting_line\"] = sim[\"expected_wait_time\"].apply(lambda x: 1 if x > 0 else 0)\n",
    "    \n",
    "    return sum(sim[\"waiting_line\"]) / n_students, sum(sim[\"expected_wait_time\"]) / n_students\n",
    "\n",
    "i_dist = {1: .2, 2: .25, 3: .4, 4: .1, 5: .05}\n",
    "c_dist = {6: .2, 7: .25, 8: .35, 9: .15, 10: .05}\n",
    "t_range = [16, 25]\n",
    "\n",
    "n_students = 20\n",
    "\n",
    "wls, wts = [], []\n",
    "for i in tqdm(range(1000)):\n",
    "    wl, wt = gen_student_data(n_students, i_dist, c_dist, t_range)\n",
    "    wls.append(wl)\n",
    "    wts.append(wt)\n",
    "\n",
    "print(np.mean(wls))\n",
    "print(np.mean(wts))"
   ]
  }
 ],
 "metadata": {
  "kernelspec": {
   "display_name": "base",
   "language": "python",
   "name": "python3"
  },
  "language_info": {
   "codemirror_mode": {
    "name": "ipython",
    "version": 3
   },
   "file_extension": ".py",
   "mimetype": "text/x-python",
   "name": "python",
   "nbconvert_exporter": "python",
   "pygments_lexer": "ipython3",
   "version": "3.11.5"
  }
 },
 "nbformat": 4,
 "nbformat_minor": 2
}

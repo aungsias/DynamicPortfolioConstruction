{
 "cells": [
  {
   "cell_type": "code",
   "execution_count": 1,
   "metadata": {},
   "outputs": [],
   "source": [
    "import pandas as pd\n",
    "import matplotlib.pyplot as plt\n",
    "import numpy as np\n",
    "\n",
    "from sklearn.model_selection import TimeSeriesSplit\n",
    "from workflow import TradeEnv, train_A2C, trade\n",
    "\n",
    "from tqdm.auto import tqdm"
   ]
  },
  {
   "cell_type": "code",
   "execution_count": 2,
   "metadata": {},
   "outputs": [
    {
     "data": {
      "text/html": [
       "<div>\n",
       "<style scoped>\n",
       "    .dataframe tbody tr th:only-of-type {\n",
       "        vertical-align: middle;\n",
       "    }\n",
       "\n",
       "    .dataframe tbody tr th {\n",
       "        vertical-align: top;\n",
       "    }\n",
       "\n",
       "    .dataframe thead th {\n",
       "        text-align: right;\n",
       "    }\n",
       "</style>\n",
       "<table border=\"1\" class=\"dataframe\">\n",
       "  <thead>\n",
       "    <tr style=\"text-align: right;\">\n",
       "      <th></th>\n",
       "      <th>AAPL</th>\n",
       "      <th>DIS</th>\n",
       "      <th>JPM</th>\n",
       "      <th>AAPL_M</th>\n",
       "      <th>DIS_M</th>\n",
       "      <th>JPM_M</th>\n",
       "      <th>AAPL_H</th>\n",
       "      <th>DIS_H</th>\n",
       "      <th>JPM_H</th>\n",
       "      <th>AAPL_R</th>\n",
       "      <th>DIS_R</th>\n",
       "      <th>JPM_R</th>\n",
       "      <th>AAPL_C</th>\n",
       "      <th>DIS_C</th>\n",
       "      <th>JPM_C</th>\n",
       "      <th>AAPL_X</th>\n",
       "      <th>DIS_X</th>\n",
       "      <th>JPM_X</th>\n",
       "      <th>TURB</th>\n",
       "    </tr>\n",
       "    <tr>\n",
       "      <th>Date</th>\n",
       "      <th></th>\n",
       "      <th></th>\n",
       "      <th></th>\n",
       "      <th></th>\n",
       "      <th></th>\n",
       "      <th></th>\n",
       "      <th></th>\n",
       "      <th></th>\n",
       "      <th></th>\n",
       "      <th></th>\n",
       "      <th></th>\n",
       "      <th></th>\n",
       "      <th></th>\n",
       "      <th></th>\n",
       "      <th></th>\n",
       "      <th></th>\n",
       "      <th></th>\n",
       "      <th></th>\n",
       "      <th></th>\n",
       "    </tr>\n",
       "  </thead>\n",
       "  <tbody>\n",
       "    <tr>\n",
       "      <th>2009-03-17</th>\n",
       "      <td>3.017134</td>\n",
       "      <td>15.344792</td>\n",
       "      <td>17.415800</td>\n",
       "      <td>0.028964</td>\n",
       "      <td>-0.496127</td>\n",
       "      <td>-0.220801</td>\n",
       "      <td>0.034247</td>\n",
       "      <td>0.259793</td>\n",
       "      <td>0.561729</td>\n",
       "      <td>62.816630</td>\n",
       "      <td>53.582561</td>\n",
       "      <td>58.959516</td>\n",
       "      <td>136.322306</td>\n",
       "      <td>71.048919</td>\n",
       "      <td>96.572930</td>\n",
       "      <td>73.974536</td>\n",
       "      <td>55.254589</td>\n",
       "      <td>62.899241</td>\n",
       "      <td>0.653865</td>\n",
       "    </tr>\n",
       "    <tr>\n",
       "      <th>2009-03-18</th>\n",
       "      <td>3.073445</td>\n",
       "      <td>15.594510</td>\n",
       "      <td>18.780525</td>\n",
       "      <td>0.047260</td>\n",
       "      <td>-0.385191</td>\n",
       "      <td>0.094233</td>\n",
       "      <td>0.042034</td>\n",
       "      <td>0.296583</td>\n",
       "      <td>0.701410</td>\n",
       "      <td>68.653609</td>\n",
       "      <td>60.064399</td>\n",
       "      <td>60.315013</td>\n",
       "      <td>163.097253</td>\n",
       "      <td>106.417535</td>\n",
       "      <td>130.380095</td>\n",
       "      <td>72.994244</td>\n",
       "      <td>50.816621</td>\n",
       "      <td>59.225709</td>\n",
       "      <td>2.282002</td>\n",
       "    </tr>\n",
       "    <tr>\n",
       "      <th>2009-03-19</th>\n",
       "      <td>3.076473</td>\n",
       "      <td>15.241461</td>\n",
       "      <td>17.284174</td>\n",
       "      <td>0.061297</td>\n",
       "      <td>-0.322049</td>\n",
       "      <td>0.220614</td>\n",
       "      <td>0.044857</td>\n",
       "      <td>0.287780</td>\n",
       "      <td>0.662233</td>\n",
       "      <td>68.634656</td>\n",
       "      <td>57.120986</td>\n",
       "      <td>54.852097</td>\n",
       "      <td>137.339404</td>\n",
       "      <td>87.350880</td>\n",
       "      <td>103.148275</td>\n",
       "      <td>72.187684</td>\n",
       "      <td>45.995264</td>\n",
       "      <td>55.465220</td>\n",
       "      <td>0.990593</td>\n",
       "    </tr>\n",
       "  </tbody>\n",
       "</table>\n",
       "</div>"
      ],
      "text/plain": [
       "                AAPL        DIS        JPM    AAPL_M     DIS_M     JPM_M  \\\n",
       "Date                                                                       \n",
       "2009-03-17  3.017134  15.344792  17.415800  0.028964 -0.496127 -0.220801   \n",
       "2009-03-18  3.073445  15.594510  18.780525  0.047260 -0.385191  0.094233   \n",
       "2009-03-19  3.076473  15.241461  17.284174  0.061297 -0.322049  0.220614   \n",
       "\n",
       "              AAPL_H     DIS_H     JPM_H     AAPL_R      DIS_R      JPM_R  \\\n",
       "Date                                                                        \n",
       "2009-03-17  0.034247  0.259793  0.561729  62.816630  53.582561  58.959516   \n",
       "2009-03-18  0.042034  0.296583  0.701410  68.653609  60.064399  60.315013   \n",
       "2009-03-19  0.044857  0.287780  0.662233  68.634656  57.120986  54.852097   \n",
       "\n",
       "                AAPL_C       DIS_C       JPM_C     AAPL_X      DIS_X  \\\n",
       "Date                                                                   \n",
       "2009-03-17  136.322306   71.048919   96.572930  73.974536  55.254589   \n",
       "2009-03-18  163.097253  106.417535  130.380095  72.994244  50.816621   \n",
       "2009-03-19  137.339404   87.350880  103.148275  72.187684  45.995264   \n",
       "\n",
       "                JPM_X      TURB  \n",
       "Date                             \n",
       "2009-03-17  62.899241  0.653865  \n",
       "2009-03-18  59.225709  2.282002  \n",
       "2009-03-19  55.465220  0.990593  "
      ]
     },
     "execution_count": 2,
     "metadata": {},
     "output_type": "execute_result"
    }
   ],
   "source": [
    "df = pd.read_csv(\"prices_and_features.csv\", index_col=0, parse_dates=True)\n",
    "\n",
    "df.head(3)"
   ]
  },
  {
   "cell_type": "code",
   "execution_count": 3,
   "metadata": {},
   "outputs": [
    {
     "data": {
      "text/plain": [
       "((1008, 19), (2685, 19))"
      ]
     },
     "execution_count": 3,
     "metadata": {},
     "output_type": "execute_result"
    }
   ],
   "source": [
    "trading_days = 252\n",
    "years = 4\n",
    "train_idx = trading_days * years\n",
    "\n",
    "train_df = df.iloc[:train_idx]\n",
    "test_df = df.loc[df.index[~df.index.isin(train_df.index)]]\n",
    "\n",
    "train_df.shape, test_df.shape"
   ]
  },
  {
   "cell_type": "code",
   "execution_count": 4,
   "metadata": {},
   "outputs": [
    {
     "data": {
      "application/vnd.jupyter.widget-view+json": {
       "model_id": "00a8365f71c249238b383afc1393f7b1",
       "version_major": 2,
       "version_minor": 0
      },
      "text/plain": [
       "Output()"
      ]
     },
     "metadata": {},
     "output_type": "display_data"
    },
    {
     "data": {
      "text/html": [
       "<pre style=\"white-space:pre;overflow-x:auto;line-height:normal;font-family:Menlo,'DejaVu Sans Mono',consolas,'Courier New',monospace\"></pre>\n"
      ],
      "text/plain": []
     },
     "metadata": {},
     "output_type": "display_data"
    },
    {
     "data": {
      "text/html": [
       "<pre style=\"white-space:pre;overflow-x:auto;line-height:normal;font-family:Menlo,'DejaVu Sans Mono',consolas,'Courier New',monospace\">\n",
       "</pre>\n"
      ],
      "text/plain": [
       "\n"
      ]
     },
     "metadata": {},
     "output_type": "display_data"
    }
   ],
   "source": [
    "balance = 1_000\n",
    "n_eps = 10\n",
    "\n",
    "init_env = TradeEnv(train_df, n_stocks=3, balance=balance)\n",
    "a2c = train_A2C(init_env, n_eps, progress_bar=True)"
   ]
  },
  {
   "cell_type": "code",
   "execution_count": 5,
   "metadata": {},
   "outputs": [
    {
     "name": "stdout",
     "output_type": "stream",
     "text": [
      "2013-09-11 balance: $1,049.77\n",
      "2014-03-07 balance: $1,067.00\n",
      "2014-08-29 balance: $1,454.34\n",
      "2015-02-25 balance: $1,638.72\n",
      "2015-08-19 balance: $1,765.76\n",
      "2016-02-12 balance: $1,612.30\n",
      "2016-08-08 balance: $1,743.39\n",
      "2017-02-01 balance: $2,017.39\n",
      "2017-07-27 balance: $2,378.45\n",
      "2018-01-22 balance: $2,754.21\n",
      "2018-07-17 balance: $2,880.61\n",
      "2019-01-10 balance: $2,952.38\n",
      "2019-07-08 balance: $3,711.38\n",
      "2019-12-30 balance: $5,036.95\n",
      "2020-06-24 balance: $3,413.21\n",
      "2020-12-16 balance: $4,543.44\n"
     ]
    }
   ],
   "source": [
    "retrain_period = 126\n",
    "n_splits = len(test_df) // retrain_period\n",
    "tss = TimeSeriesSplit(n_splits=n_splits)\n",
    "growing_train_df = train_df\n",
    "preds = []\n",
    "\n",
    "for i, (train_idx, test_idx) in enumerate(tss.split(test_df)):\n",
    "\n",
    "    if i == 0:\n",
    "        \n",
    "        temp_test_df = test_df.iloc[train_idx]\n",
    "        temp_test_env = TradeEnv(temp_test_df, n_stocks=3, balance=balance)\n",
    "\n",
    "        equity, balance, preds = trade(temp_test_env, a2c, preds, progress=True)\n",
    "\n",
    "        temp_train_df = temp_test_df\n",
    "        growing_train_df = pd.concat([growing_train_df, temp_train_df])\n",
    "        temp_test_df = test_df.iloc[test_idx]\n",
    "        \n",
    "        temp_train_env = TradeEnv(growing_train_df, n_stocks=3, balance=balance)\n",
    "        temp_test_env = TradeEnv(temp_test_df, n_stocks=3, balance=balance)\n",
    "\n",
    "        a2c = train_A2C(temp_train_env, n_eps=10)\n",
    "        equity, balance, preds = trade(temp_test_env, a2c, preds, progress=True)\n",
    "    \n",
    "    else:\n",
    "\n",
    "        temp_train_df = test_df.iloc[train_idx]\n",
    "        growing_train_df = pd.concat([growing_train_df, temp_train_df])\n",
    "        temp_test_df = test_df.iloc[test_idx]\n",
    "\n",
    "        temp_train_env = TradeEnv(growing_train_df, n_stocks=3, balance=balance)\n",
    "        temp_test_env = TradeEnv(temp_test_df, n_stocks=3, balance=balance)\n",
    "\n",
    "        a2c = train_A2C(temp_train_env, n_eps=10)\n",
    "        equity, balance, preds = trade(temp_test_env, a2c, preds, progress=True)\n",
    "\n",
    "preds = pd.concat(preds)"
   ]
  },
  {
   "cell_type": "code",
   "execution_count": null,
   "metadata": {},
   "outputs": [
    {
     "name": "stdout",
     "output_type": "stream",
     "text": [
      "[*********************100%%**********************]  1 of 1 completed\n"
     ]
    },
    {
     "data": {
      "text/plain": [
       "<Axes: xlabel='Date'>"
      ]
     },
     "execution_count": 8,
     "metadata": {},
     "output_type": "execute_result"
    },
    {
     "data": {
      "image/png": "[encoded data removed]",
      "text/plain": [
       "<Figure size 640x480 with 1 Axes>"
      ]
     },
     "metadata": {},
     "output_type": "display_data"
    }
   ],
   "source": [
    "import yfinance as yf\n",
    "\n",
    "spy_prices = yf.download(\"SPY\", preds.index.min(), preds.index.max()+pd.DateOffset(days=1))[\"Adj Close\"]\n",
    "\n",
    "backtest = pd.concat([spy_prices, preds], axis=1)\n",
    "backtest.columns = [\"SPY\", \"DRL\"]\n",
    "\n",
    "backtest_rets = np.log(backtest).diff().dropna()\n",
    "backtest_rets.cumsum().plot()"
   ]
  },
  {
   "cell_type": "code",
   "execution_count": null,
   "metadata": {},
   "outputs": [
    {
     "data": {
      "text/html": [
       "<div>\n",
       "<style scoped>\n",
       "    .dataframe tbody tr th:only-of-type {\n",
       "        vertical-align: middle;\n",
       "    }\n",
       "\n",
       "    .dataframe tbody tr th {\n",
       "        vertical-align: top;\n",
       "    }\n",
       "\n",
       "    .dataframe thead th {\n",
       "        text-align: right;\n",
       "    }\n",
       "</style>\n",
       "<table border=\"1\" class=\"dataframe\">\n",
       "  <thead>\n",
       "    <tr style=\"text-align: right;\">\n",
       "      <th></th>\n",
       "      <th>SHARPE</th>\n",
       "      <th>CUMU_RET</th>\n",
       "      <th>ANN_RET</th>\n",
       "      <th>ANN_VOL</th>\n",
       "      <th>MAX_DD</th>\n",
       "    </tr>\n",
       "  </thead>\n",
       "  <tbody>\n",
       "    <tr>\n",
       "      <th>SPY</th>\n",
       "      <td>0.624257</td>\n",
       "      <td>0.858551</td>\n",
       "      <td>0.117202</td>\n",
       "      <td>0.187747</td>\n",
       "      <td>-0.411241</td>\n",
       "    </tr>\n",
       "    <tr>\n",
       "      <th>DRL</th>\n",
       "      <td>0.394354</td>\n",
       "      <td>0.884792</td>\n",
       "      <td>0.120784</td>\n",
       "      <td>0.306284</td>\n",
       "      <td>-0.847295</td>\n",
       "    </tr>\n",
       "  </tbody>\n",
       "</table>\n",
       "</div>"
      ],
      "text/plain": [
       "       SHARPE  CUMU_RET   ANN_RET   ANN_VOL    MAX_DD\n",
       "SPY  0.624257  0.858551  0.117202  0.187747 -0.411241\n",
       "DRL  0.394354  0.884792  0.120784  0.306284 -0.847295"
      ]
     },
     "execution_count": 9,
     "metadata": {},
     "output_type": "execute_result"
    }
   ],
   "source": [
    "from portfolio_stats import PortfolioStats\n",
    "\n",
    "stats = PortfolioStats(backtest_rets, log=True)\n",
    "stats.info"
   ]
  },
  {
   "cell_type": "code",
   "execution_count": null,
   "metadata": {},
   "outputs": [],
   "source": []
  }
 ],
 "metadata": {
  "kernelspec": {
   "display_name": "base",
   "language": "python",
   "name": "python3"
  },
  "language_info": {
   "codemirror_mode": {
    "name": "ipython",
    "version": 3
   },
   "file_extension": ".py",
   "mimetype": "text/x-python",
   "name": "python",
   "nbconvert_exporter": "python",
   "pygments_lexer": "ipython3",
   "version": "3.11.5"
  }
 },
 "nbformat": 4,
 "nbformat_minor": 2
}

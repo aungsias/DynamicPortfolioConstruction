{
 "cells": [
  {
   "cell_type": "markdown",
   "metadata": {},
   "source": [
    "$$ \\max_{\\theta}J(\\theta) = \\max_{\\theta}\\mathbb{E}_{\\tau \\sim \\pi_{\\theta}} \\bigl[R(\\tau) \\bigr]$$\n",
    "$$\\nabla_{\\theta}(J(\\theta)) = \\mathbb{E}_{P(\\tau|\\theta)} \\Biggl[ \\sum^{\\infty}_{t=1}\\nabla_{\\theta} \\log P(a_{t}|a_{t-1}) \\cdot R \\Biggr]$$"
   ]
  }
 ],
 "metadata": {
  "kernelspec": {
   "display_name": "base",
   "language": "python",
   "name": "python3"
  },
  "language_info": {
   "name": "python",
   "version": "3.11.5"
  }
 },
 "nbformat": 4,
 "nbformat_minor": 2
}

{
 "cells": [
  {
   "cell_type": "code",
   "execution_count": 1,
   "metadata": {},
   "outputs": [],
   "source": [
    "import yfinance as yf\n",
    "import pandas as pd\n",
    "import random\n",
    "import numpy as np\n",
    "import random\n",
    "\n",
    "from datetime import datetime as dt\n",
    "from workflow import Indicators"
   ]
  },
  {
   "cell_type": "code",
   "execution_count": 6,
   "metadata": {},
   "outputs": [
    {
     "data": {
      "text/plain": [
       "3"
      ]
     },
     "execution_count": 6,
     "metadata": {},
     "output_type": "execute_result"
    }
   ],
   "source": [
    "stocks = [\"AAPL\", \"JPM\", \"DIS\"]\n",
    "\n",
    "len(stocks)"
   ]
  },
  {
   "cell_type": "markdown",
   "metadata": {},
   "source": [
    "State Space:\n",
    "- $B_{t}$, Portfolio Balance\n",
    "- $V_{t}$, Turbulence Index\n",
    "- $P_{t}$, Stock Prices\n",
    "- $M_{t}$, Moving-Average Convergence Divergence (MACD) Signal\n",
    "- $H_{t}$, MACD Histogram\n",
    "- $R_{t}$, Relative Strength Index (RSI)\n",
    "- $C_{t}$, Commodity Channel Index (CCI)\n",
    "- $X_{t}$, Average Directional Index\n",
    "\n",
    "State Space:\n",
    "- $\\bigl[B_{t}\\bigr] + \\bigl[V_{t}\\bigr] + \\bigl[\\text{Number of Stocks} \\times \\bigl[S_{t},\\text{ }P_{t},\\text{ }M_{t},\\text{ }H_{t},\\text{ }R_{t},\\text{ }C_{t},\\text{ }X_{t}\\bigr]\\bigr]$"
   ]
  },
  {
   "cell_type": "code",
   "execution_count": 16,
   "metadata": {},
   "outputs": [
    {
     "data": {
      "text/plain": [
       "23"
      ]
     },
     "execution_count": 16,
     "metadata": {},
     "output_type": "execute_result"
    }
   ],
   "source": [
    "stock_dim = 3\n",
    "feature_dim = 5\n",
    "account_dim = 2\n",
    "balance_dim = 1\n",
    "turbulence_dim = 1\n",
    "\n",
    "state_dim = balance_dim + turbulence_dim + stock_dim * (feature_dim + account_dim)\n",
    "state_dim"
   ]
  },
  {
   "cell_type": "code",
   "execution_count": 8,
   "metadata": {},
   "outputs": [
    {
     "name": "stdout",
     "output_type": "stream",
     "text": [
      "[*********************100%%**********************]  3 of 3 completed\n"
     ]
    },
    {
     "data": {
      "text/plain": [
       "('3 stocks', '14.87Y')"
      ]
     },
     "execution_count": 8,
     "metadata": {},
     "output_type": "execute_result"
    }
   ],
   "source": [
    "start = \"2009-01-01\"\n",
    "end = dt.now()\n",
    "\n",
    "stock_data = yf.download(stocks, start, end).dropna(axis=1)\n",
    "stock_prices = stock_data[\"Adj Close\"]\n",
    "\n",
    "f\"{len(stock_prices.columns)} stocks\", \\\n",
    "    f\"{round((stock_prices.index.max() - stock_prices.index.min()).days / 365, 2)}Y\""
   ]
  },
  {
   "cell_type": "code",
   "execution_count": 9,
   "metadata": {},
   "outputs": [
    {
     "data": {
      "text/html": [
       "<div>\n",
       "<style scoped>\n",
       "    .dataframe tbody tr th:only-of-type {\n",
       "        vertical-align: middle;\n",
       "    }\n",
       "\n",
       "    .dataframe tbody tr th {\n",
       "        vertical-align: top;\n",
       "    }\n",
       "\n",
       "    .dataframe thead th {\n",
       "        text-align: right;\n",
       "    }\n",
       "</style>\n",
       "<table border=\"1\" class=\"dataframe\">\n",
       "  <thead>\n",
       "    <tr style=\"text-align: right;\">\n",
       "      <th></th>\n",
       "      <th>AAPL_M</th>\n",
       "      <th>DIS_M</th>\n",
       "      <th>JPM_M</th>\n",
       "      <th>AAPL_H</th>\n",
       "      <th>DIS_H</th>\n",
       "      <th>JPM_H</th>\n",
       "      <th>AAPL_R</th>\n",
       "      <th>DIS_R</th>\n",
       "      <th>JPM_R</th>\n",
       "      <th>AAPL_C</th>\n",
       "      <th>DIS_C</th>\n",
       "      <th>JPM_C</th>\n",
       "      <th>AAPL_X</th>\n",
       "      <th>DIS_X</th>\n",
       "      <th>JPM_X</th>\n",
       "      <th>TURB</th>\n",
       "    </tr>\n",
       "    <tr>\n",
       "      <th>Date</th>\n",
       "      <th></th>\n",
       "      <th></th>\n",
       "      <th></th>\n",
       "      <th></th>\n",
       "      <th></th>\n",
       "      <th></th>\n",
       "      <th></th>\n",
       "      <th></th>\n",
       "      <th></th>\n",
       "      <th></th>\n",
       "      <th></th>\n",
       "      <th></th>\n",
       "      <th></th>\n",
       "      <th></th>\n",
       "      <th></th>\n",
       "      <th></th>\n",
       "    </tr>\n",
       "  </thead>\n",
       "  <tbody>\n",
       "    <tr>\n",
       "      <th>2009-01-02</th>\n",
       "      <td>0.000000</td>\n",
       "      <td>0.000000</td>\n",
       "      <td>0.000000</td>\n",
       "      <td>0.000000</td>\n",
       "      <td>0.000000</td>\n",
       "      <td>0.000000</td>\n",
       "      <td>NaN</td>\n",
       "      <td>NaN</td>\n",
       "      <td>NaN</td>\n",
       "      <td>NaN</td>\n",
       "      <td>NaN</td>\n",
       "      <td>NaN</td>\n",
       "      <td>NaN</td>\n",
       "      <td>NaN</td>\n",
       "      <td>NaN</td>\n",
       "      <td>NaN</td>\n",
       "    </tr>\n",
       "    <tr>\n",
       "      <th>2009-01-05</th>\n",
       "      <td>0.009250</td>\n",
       "      <td>-0.028850</td>\n",
       "      <td>-0.116050</td>\n",
       "      <td>0.007400</td>\n",
       "      <td>-0.023080</td>\n",
       "      <td>-0.092840</td>\n",
       "      <td>NaN</td>\n",
       "      <td>NaN</td>\n",
       "      <td>NaN</td>\n",
       "      <td>NaN</td>\n",
       "      <td>NaN</td>\n",
       "      <td>NaN</td>\n",
       "      <td>NaN</td>\n",
       "      <td>NaN</td>\n",
       "      <td>NaN</td>\n",
       "      <td>NaN</td>\n",
       "    </tr>\n",
       "    <tr>\n",
       "      <th>2009-01-06</th>\n",
       "      <td>0.012624</td>\n",
       "      <td>0.004515</td>\n",
       "      <td>-0.170835</td>\n",
       "      <td>0.008619</td>\n",
       "      <td>0.008228</td>\n",
       "      <td>-0.118100</td>\n",
       "      <td>NaN</td>\n",
       "      <td>NaN</td>\n",
       "      <td>NaN</td>\n",
       "      <td>NaN</td>\n",
       "      <td>NaN</td>\n",
       "      <td>NaN</td>\n",
       "      <td>NaN</td>\n",
       "      <td>NaN</td>\n",
       "      <td>NaN</td>\n",
       "      <td>NaN</td>\n",
       "    </tr>\n",
       "    <tr>\n",
       "      <th>2009-01-07</th>\n",
       "      <td>0.010269</td>\n",
       "      <td>-0.047017</td>\n",
       "      <td>-0.310731</td>\n",
       "      <td>0.005011</td>\n",
       "      <td>-0.034643</td>\n",
       "      <td>-0.206396</td>\n",
       "      <td>NaN</td>\n",
       "      <td>NaN</td>\n",
       "      <td>NaN</td>\n",
       "      <td>NaN</td>\n",
       "      <td>NaN</td>\n",
       "      <td>NaN</td>\n",
       "      <td>NaN</td>\n",
       "      <td>NaN</td>\n",
       "      <td>NaN</td>\n",
       "      <td>NaN</td>\n",
       "    </tr>\n",
       "    <tr>\n",
       "      <th>2009-01-08</th>\n",
       "      <td>0.012389</td>\n",
       "      <td>-0.106089</td>\n",
       "      <td>-0.464873</td>\n",
       "      <td>0.005705</td>\n",
       "      <td>-0.074972</td>\n",
       "      <td>-0.288431</td>\n",
       "      <td>NaN</td>\n",
       "      <td>NaN</td>\n",
       "      <td>NaN</td>\n",
       "      <td>NaN</td>\n",
       "      <td>NaN</td>\n",
       "      <td>NaN</td>\n",
       "      <td>NaN</td>\n",
       "      <td>NaN</td>\n",
       "      <td>NaN</td>\n",
       "      <td>NaN</td>\n",
       "    </tr>\n",
       "  </tbody>\n",
       "</table>\n",
       "</div>"
      ],
      "text/plain": [
       "              AAPL_M     DIS_M     JPM_M    AAPL_H     DIS_H     JPM_H  \\\n",
       "Date                                                                     \n",
       "2009-01-02  0.000000  0.000000  0.000000  0.000000  0.000000  0.000000   \n",
       "2009-01-05  0.009250 -0.028850 -0.116050  0.007400 -0.023080 -0.092840   \n",
       "2009-01-06  0.012624  0.004515 -0.170835  0.008619  0.008228 -0.118100   \n",
       "2009-01-07  0.010269 -0.047017 -0.310731  0.005011 -0.034643 -0.206396   \n",
       "2009-01-08  0.012389 -0.106089 -0.464873  0.005705 -0.074972 -0.288431   \n",
       "\n",
       "            AAPL_R  DIS_R  JPM_R  AAPL_C  DIS_C  JPM_C  AAPL_X  DIS_X  JPM_X  \\\n",
       "Date                                                                           \n",
       "2009-01-02     NaN    NaN    NaN     NaN    NaN    NaN     NaN    NaN    NaN   \n",
       "2009-01-05     NaN    NaN    NaN     NaN    NaN    NaN     NaN    NaN    NaN   \n",
       "2009-01-06     NaN    NaN    NaN     NaN    NaN    NaN     NaN    NaN    NaN   \n",
       "2009-01-07     NaN    NaN    NaN     NaN    NaN    NaN     NaN    NaN    NaN   \n",
       "2009-01-08     NaN    NaN    NaN     NaN    NaN    NaN     NaN    NaN    NaN   \n",
       "\n",
       "            TURB  \n",
       "Date              \n",
       "2009-01-02   NaN  \n",
       "2009-01-05   NaN  \n",
       "2009-01-06   NaN  \n",
       "2009-01-07   NaN  \n",
       "2009-01-08   NaN  "
      ]
     },
     "execution_count": 9,
     "metadata": {},
     "output_type": "execute_result"
    }
   ],
   "source": [
    "indicators = Indicators(stock_data)\n",
    "features = indicators.get()\n",
    "\n",
    "features.head()"
   ]
  },
  {
   "cell_type": "code",
   "execution_count": 10,
   "metadata": {},
   "outputs": [
    {
     "data": {
      "text/plain": [
       "((3693, 19),\n",
       "                 AAPL        DIS        JPM    AAPL_M     DIS_M     JPM_M  \\\n",
       " Date                                                                       \n",
       " 2009-03-17  3.017134  15.344792  17.415800  0.028964 -0.496127 -0.220801   \n",
       " 2009-03-18  3.073445  15.594510  18.780525  0.047260 -0.385191  0.094233   \n",
       " 2009-03-19  3.076473  15.241461  17.284174  0.061297 -0.322049  0.220614   \n",
       " 2009-03-20  3.075564  15.026186  16.037222  0.071524 -0.286082  0.217644   \n",
       " 2009-03-23  3.259328  16.292004  19.992840  0.093380 -0.153666  0.528384   \n",
       " \n",
       "               AAPL_H     DIS_H     JPM_H     AAPL_R      DIS_R      JPM_R  \\\n",
       " Date                                                                        \n",
       " 2009-03-17  0.034247  0.259793  0.561729  62.816630  53.582561  58.959516   \n",
       " 2009-03-18  0.042034  0.296583  0.701410  68.653609  60.064399  60.315013   \n",
       " 2009-03-19  0.044857  0.287780  0.662233  68.634656  57.120986  54.852097   \n",
       " 2009-03-20  0.044067  0.258998  0.527410  71.536805  61.551146  54.574687   \n",
       " 2009-03-23  0.052739  0.313132  0.670521  75.837153  67.728521  64.372005   \n",
       " \n",
       "                 AAPL_C       DIS_C       JPM_C     AAPL_X      DIS_X  \\\n",
       " Date                                                                   \n",
       " 2009-03-17  136.322306   71.048919   96.572930  73.974536  55.254589   \n",
       " 2009-03-18  163.097253  106.417535  130.380095  72.994244  50.816621   \n",
       " 2009-03-19  137.339404   87.350880  103.148275  72.187684  45.995264   \n",
       " 2009-03-20  118.782628   55.767250   52.344674  69.890520  41.027051   \n",
       " 2009-03-23  140.559789  132.997839  123.686635  66.091446  35.544905   \n",
       " \n",
       "                 JPM_X      TURB  \n",
       " Date                             \n",
       " 2009-03-17  62.899241  0.653865  \n",
       " 2009-03-18  59.225709  2.282002  \n",
       " 2009-03-19  55.465220  0.990593  \n",
       " 2009-03-20  51.995370  1.603047  \n",
       " 2009-03-23  46.995639  1.180779  )"
      ]
     },
     "execution_count": 10,
     "metadata": {},
     "output_type": "execute_result"
    }
   ],
   "source": [
    "s = pd.concat([stock_prices, features], axis=1).dropna()\n",
    "\n",
    "s.shape, s.head()"
   ]
  },
  {
   "cell_type": "code",
   "execution_count": 11,
   "metadata": {},
   "outputs": [],
   "source": [
    "s.to_csv(\"prices_and_features.csv\")"
   ]
  },
  {
   "cell_type": "code",
   "execution_count": 15,
   "metadata": {},
   "outputs": [
    {
     "data": {
      "text/plain": [
       "3"
      ]
     },
     "execution_count": 15,
     "metadata": {},
     "output_type": "execute_result"
    }
   ],
   "source": [
    "(len(s.columns[len(stocks):]) - feature_dim) // len(stocks)"
   ]
  }
 ],
 "metadata": {
  "kernelspec": {
   "display_name": "base",
   "language": "python",
   "name": "python3"
  },
  "language_info": {
   "codemirror_mode": {
    "name": "ipython",
    "version": 3
   },
   "file_extension": ".py",
   "mimetype": "text/x-python",
   "name": "python",
   "nbconvert_exporter": "python",
   "pygments_lexer": "ipython3",
   "version": "3.11.5"
  }
 },
 "nbformat": 4,
 "nbformat_minor": 2
}

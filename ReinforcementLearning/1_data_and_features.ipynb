{
 "cells": [
  {
   "cell_type": "code",
   "execution_count": 1,
   "metadata": {},
   "outputs": [],
   "source": [
    "import yfinance as yf\n",
    "\n",
    "import pandas as pd\n",
    "import numpy as np\n",
    "\n",
    "import matplotlib.pyplot as plt\n",
    "\n",
    "from datetime import datetime as dt\n",
    "from snp500 import SNP500"
   ]
  },
  {
   "cell_type": "code",
   "execution_count": 2,
   "metadata": {},
   "outputs": [
    {
     "name": "stdout",
     "output_type": "stream",
     "text": [
      "[*********************100%%**********************]  4 of 4 completed\n"
     ]
    },
    {
     "data": {
      "text/html": [
       "<div>\n",
       "<style scoped>\n",
       "    .dataframe tbody tr th:only-of-type {\n",
       "        vertical-align: middle;\n",
       "    }\n",
       "\n",
       "    .dataframe tbody tr th {\n",
       "        vertical-align: top;\n",
       "    }\n",
       "\n",
       "    .dataframe thead th {\n",
       "        text-align: right;\n",
       "    }\n",
       "</style>\n",
       "<table border=\"1\" class=\"dataframe\">\n",
       "  <thead>\n",
       "    <tr style=\"text-align: right;\">\n",
       "      <th></th>\n",
       "      <th>BONDS</th>\n",
       "      <th>COMMODITIES</th>\n",
       "      <th>STOCKS</th>\n",
       "      <th>VOLATILITY</th>\n",
       "    </tr>\n",
       "    <tr>\n",
       "      <th>Date</th>\n",
       "      <th></th>\n",
       "      <th></th>\n",
       "      <th></th>\n",
       "      <th></th>\n",
       "    </tr>\n",
       "  </thead>\n",
       "  <tbody>\n",
       "    <tr>\n",
       "      <th>2006-02-06</th>\n",
       "      <td>58.557709</td>\n",
       "      <td>21.916016</td>\n",
       "      <td>45.302422</td>\n",
       "      <td>13.04</td>\n",
       "    </tr>\n",
       "    <tr>\n",
       "      <th>2006-02-07</th>\n",
       "      <td>58.516781</td>\n",
       "      <td>21.282082</td>\n",
       "      <td>44.861328</td>\n",
       "      <td>13.59</td>\n",
       "    </tr>\n",
       "    <tr>\n",
       "      <th>2006-02-08</th>\n",
       "      <td>58.487572</td>\n",
       "      <td>21.191517</td>\n",
       "      <td>45.184090</td>\n",
       "      <td>12.83</td>\n",
       "    </tr>\n",
       "    <tr>\n",
       "      <th>2006-02-09</th>\n",
       "      <td>58.522655</td>\n",
       "      <td>21.390755</td>\n",
       "      <td>45.098019</td>\n",
       "      <td>13.12</td>\n",
       "    </tr>\n",
       "    <tr>\n",
       "      <th>2006-02-10</th>\n",
       "      <td>58.399929</td>\n",
       "      <td>21.001337</td>\n",
       "      <td>45.191257</td>\n",
       "      <td>12.87</td>\n",
       "    </tr>\n",
       "  </tbody>\n",
       "</table>\n",
       "</div>"
      ],
      "text/plain": [
       "                BONDS  COMMODITIES     STOCKS  VOLATILITY\n",
       "Date                                                     \n",
       "2006-02-06  58.557709    21.916016  45.302422       13.04\n",
       "2006-02-07  58.516781    21.282082  44.861328       13.59\n",
       "2006-02-08  58.487572    21.191517  45.184090       12.83\n",
       "2006-02-09  58.522655    21.390755  45.098019       13.12\n",
       "2006-02-10  58.399929    21.001337  45.191257       12.87"
      ]
     },
     "execution_count": 2,
     "metadata": {},
     "output_type": "execute_result"
    }
   ],
   "source": [
    "tickers = [\"VTI\", \"AGG\", \"DBC\", \"^VIX\"]\n",
    "indices = [\"STOCKS\", \"BONDS\", \"COMMODITIES\", \"VOLATILITY\"]\n",
    "\n",
    "start = \"2006-01-01\"\n",
    "end = dt.now()\n",
    "\n",
    "prices = yf.download(tickers, start, end)[\"Adj Close\"].dropna()\n",
    "prices = prices.rename(columns={t: i for t, i in zip(tickers, indices)})\n",
    "\n",
    "prices.head()"
   ]
  },
  {
   "cell_type": "code",
   "execution_count": 3,
   "metadata": {},
   "outputs": [
    {
     "data": {
      "text/plain": [
       "(             BONDS_R  COMMODITIES_R  STOCKS_R  VOLATILITY_R  BONDS_STD  \\\n",
       " Date                                                                     \n",
       " 2006-07-14  0.001330       0.004539 -0.005871      0.014509   0.002549   \n",
       " 2006-07-17 -0.002149      -0.022902 -0.001719      0.032164   0.002568   \n",
       " 2006-07-18 -0.000716      -0.006197  0.003353     -0.049488   0.002559   \n",
       " 2006-07-19  0.003886       0.003490  0.016358     -0.131761   0.002614   \n",
       " 2006-07-20  0.001021      -0.010508 -0.010253      0.041568   0.002615   \n",
       " \n",
       "             COMMODITIES_STD  STOCKS_STD  VOLATILITY_STD  BONDS_MOM  \\\n",
       " Date                                                                 \n",
       " 2006-07-14         0.013597    0.009581        0.098703   0.008557   \n",
       " 2006-07-17         0.013886    0.009543        0.098721   0.006906   \n",
       " 2006-07-18         0.013831    0.009462        0.098983   0.004336   \n",
       " 2006-07-19         0.013833    0.009788        0.100878   0.007527   \n",
       " 2006-07-20         0.013733    0.009870        0.101005   0.009071   \n",
       " \n",
       "             COMMODITIES_MOM  ...  BONDS_MOM_60D_LAG  COMMODITIES_MOM_1D_LAG  \\\n",
       " Date                         ...                                              \n",
       " 2006-07-14         0.029926  ...          -0.010674                0.006870   \n",
       " 2006-07-17         0.018883  ...          -0.011491                0.029926   \n",
       " 2006-07-18         0.001556  ...          -0.011098                0.018883   \n",
       " 2006-07-19         0.007803  ...          -0.007968                0.001556   \n",
       " 2006-07-20        -0.018056  ...          -0.009210                0.007803   \n",
       " \n",
       "             COMMODITIES_MOM_30D_LAG  COMMODITIES_MOM_60D_LAG  \\\n",
       " Date                                                           \n",
       " 2006-07-14                 0.099913                 0.070248   \n",
       " 2006-07-17                 0.123689                 0.089362   \n",
       " 2006-07-18                 0.101848                 0.117094   \n",
       " 2006-07-19                 0.094746                 0.084674   \n",
       " 2006-07-20                 0.080908                 0.108237   \n",
       " \n",
       "             STOCKS_MOM_1D_LAG  STOCKS_MOM_30D_LAG  STOCKS_MOM_60D_LAG  \\\n",
       " Date                                                                    \n",
       " 2006-07-14          -0.057357           -0.002953            0.040616   \n",
       " 2006-07-17          -0.060150           -0.007029            0.052293   \n",
       " 2006-07-18          -0.066124           -0.023488            0.044298   \n",
       " 2006-07-19          -0.070913           -0.029167            0.043257   \n",
       " 2006-07-20          -0.056445           -0.034824            0.037759   \n",
       " \n",
       "             VOLATILITY_MOM_1D_LAG  VOLATILITY_MOM_30D_LAG  \\\n",
       " Date                                                        \n",
       " 2006-07-14               0.483737                0.249570   \n",
       " 2006-07-17               0.505421                0.277431   \n",
       " 2006-07-18               0.571669                0.490600   \n",
       " 2006-07-19               0.526678                0.549598   \n",
       " 2006-07-20               0.295833                0.553229   \n",
       " \n",
       "             VOLATILITY_MOM_60D_LAG  \n",
       " Date                                \n",
       " 2006-07-14               -0.131902  \n",
       " 2006-07-17               -0.143488  \n",
       " 2006-07-18               -0.096648  \n",
       " 2006-07-19               -0.104421  \n",
       " 2006-07-20               -0.087024  \n",
       " \n",
       " [5 rows x 48 columns],\n",
       " (4353, 48))"
      ]
     },
     "execution_count": 3,
     "metadata": {},
     "output_type": "execute_result"
    }
   ],
   "source": [
    "log_rets = np.log(prices).diff()[1:]\n",
    "\n",
    "lookback = 50\n",
    "std = log_rets.rolling(lookback).std()\n",
    "momentum = prices.pct_change(lookback)\n",
    "\n",
    "log_rets.columns = [f\"{col}_R\" for col in log_rets]\n",
    "std.columns = [f\"{col}_STD\" for col in std]\n",
    "momentum.columns = [f\"{col}_MOM\" for col in momentum]\n",
    "\n",
    "features = pd.concat([log_rets, std, momentum], axis=1)\n",
    "\n",
    "for col in features:\n",
    "    for w in [1, 30, 60]:\n",
    "        features[f\"{col}_{w}D_LAG\"] = features[col].shift(w)\n",
    "\n",
    "features = features.dropna()\n",
    "\n",
    "features.head(), features.shape"
   ]
  },
  {
   "cell_type": "code",
   "execution_count": 13,
   "metadata": {},
   "outputs": [],
   "source": [
    "features.to_csv(\"workflow/data/features.csv\")"
   ]
  },
  {
   "cell_type": "code",
   "execution_count": null,
   "metadata": {},
   "outputs": [],
   "source": []
  }
 ],
 "metadata": {
  "kernelspec": {
   "display_name": "base",
   "language": "python",
   "name": "python3"
  },
  "language_info": {
   "codemirror_mode": {
    "name": "ipython",
    "version": 3
   },
   "file_extension": ".py",
   "mimetype": "text/x-python",
   "name": "python",
   "nbconvert_exporter": "python",
   "pygments_lexer": "ipython3",
   "version": "3.11.5"
  }
 },
 "nbformat": 4,
 "nbformat_minor": 2
}

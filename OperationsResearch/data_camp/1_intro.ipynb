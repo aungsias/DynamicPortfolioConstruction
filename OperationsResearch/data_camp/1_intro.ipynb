{
 "cells": [
  {
   "cell_type": "markdown",
   "metadata": {},
   "source": [
    "## Introduction to Linear and Integer Programming\n",
    "\n",
    "- **Definition:** Linear programming (LP) is a method to achieve the best outcome in a mathematical model whose requirements are represented by linear relationships. Integer programming (IP) is a specific case of LP where the solution space is restricted to integers.\n",
    "\n",
    "- **Key Difference:** LP allows continuous decision variables, while IP restricts variables to discrete values (integers).\n",
    "\n",
    "- **Applications:** These techniques are widely used in business for resource allocation, logistics, scheduling, and maximizing efficiency or profit.\n",
    "\n",
    "### Components of a Linear Programming Model\n",
    "\n",
    "- **Decision Variables:** These are the variables whose values are to be determined in order to optimize the objective function.\n",
    "\n",
    "- **Objective Function:** A linear function to be maximized or minimized (e.g., maximize profit, minimize cost).\n",
    "\n",
    "- **Constraints:** Linear inequalities or equalities representing restrictions or limitations on the decision variables (e.g., resource limits, capacity constraints).\n",
    "\n",
    "Formulating a Linear Programming Problem\n",
    "\n",
    "- **Identifying Decision Variables:** Understanding what quantities or factors need optimization.\n",
    "\n",
    "- **Setting up the Objective Function:** Determining what is to be optimized (cost, profit, time, etc.).\n",
    "\n",
    "- **Defining Constraints** Identifying and mathematically formulating limitations or requirements.\n",
    "\n",
    "### Introduction to Integer Programming\n",
    "\n",
    "- **Difference from LP:** In IP, decision variables are integers, which is crucial for problems where solutions are discrete (e.g., number of items, people).\n",
    "\n",
    "- **Applications:** Used in situations where fractional answers are not practical (e.g., scheduling, manufacturing with batch restrictions)."
   ]
  },
  {
   "cell_type": "markdown",
   "metadata": {},
   "source": [
    "### Problems\n",
    "\n",
    "[1. Intro to Linear / Integer Programming](#1-intro-to-linear--integer-programming)\\\n",
    "[2. Resource Scheduling (Using `puLP`)](#2-resource-scheduling-using-pulp)\\\n",
    "[3. Getting started with `LpProblem()`](#3-getting-started-with-lpproblem)\\\n",
    "[4. Simple resource scheduling exercise](#4-simple-resource-scheduling-exercise)\\\n",
    "[5. Logistics planning problem](#5-logistics-planning-problem)\\\n",
    "[6. Example Scheduling Problem](#6-example-scheduling-problem)"
   ]
  },
  {
   "cell_type": "code",
   "execution_count": 1,
   "metadata": {},
   "outputs": [],
   "source": [
    "import pandas as pd\n",
    "import numpy as np\n",
    "import warnings\n",
    "\n",
    "from scipy.optimize import minimize\n",
    "from pulp import *\n",
    "\n",
    "warnings.filterwarnings(\"ignore\")"
   ]
  },
  {
   "cell_type": "markdown",
   "metadata": {},
   "source": [
    "### 1. Intro to Linear / Integer Programming\n",
    "\n",
    "Linear programming involves:\n",
    "1) Decision variables\n",
    "2) Objective function\n",
    "3) Constraints\n",
    "\n",
    "Ex:\n",
    "\n",
    "| | Pushup | Running |\n",
    "|:-:|:-:| :-:|\n",
    "|Minutes|0.2 per pushup|10 per mile|\n",
    "|Calories|3 per pushup|130 per mile|\n",
    "\n",
    "Constraint - only 10 minutes to exercise\n",
    "\n",
    "1) Decision Variables:\n",
    "- \\# Pushups & \\# Miles Ran\n",
    "\n",
    "2) Obj. Function:\n",
    "- $\\text{maximize } 3P + 130M$\n",
    "- where $P$ is the number of pushups and $M$ is the number miles to run.\n",
    "\n",
    "3) Constraints:\n",
    "- $0.2P + 10M \\le 10$\n",
    "- $P \\ge 0$\n",
    "- $M \\ge 0$"
   ]
  },
  {
   "cell_type": "code",
   "execution_count": 2,
   "metadata": {},
   "outputs": [
    {
     "name": "stdout",
     "output_type": "stream",
     "text": [
      "do 50 pushups and run 0 miles\n"
     ]
    }
   ],
   "source": [
    "# Define objective function\n",
    "def obj_func(x):\n",
    "    return (3 * x[0] + 130 * x[1])\n",
    "\n",
    "# Construct bounds and constraints\n",
    "bounds = [(0, None), (0, None)]\n",
    "constraints = {\"type\": \"ineq\", \"fun\": lambda x: 10 - (.2 * x[0] + 10 * x[1])}\n",
    "\n",
    "# Initial guess\n",
    "i = [0, 0]\n",
    "\n",
    "# Construct the optimization problem\n",
    "opt = minimize(lambda x: -obj_func(x), i, bounds=bounds, constraints=constraints)\n",
    "result = opt.x\n",
    "\n",
    "print(\"do\", round(result[0]), \"pushups and run\", round(result[1]), \"miles\")"
   ]
  },
  {
   "cell_type": "markdown",
   "metadata": {},
   "source": [
    "### 2. Resource Scheduling (Using `puLP`)\n",
    "\n",
    "1. Sells $2$ types of cakes\n",
    "2. $30$-day month\n",
    "3. Available items:\n",
    "    - $1$ oven\n",
    "    - $2$ bakers\n",
    "    - $1$ packaging packer - works only $22$ days.\n",
    "\n",
    "Resource needs:\n",
    "\n",
    "|     | Cake A | Cake B |\n",
    "| :-: | :----: | :----: |\n",
    " Oven | 0.5 days | 1 day |\n",
    "| Bakers | 1 day | 2.5 days |\n",
    "| Packers | 1 day | 2 days |\n",
    "\n",
    "<br>\n",
    "\n",
    "|     | Cake A | Cake B |\n",
    "| :-: | :----: | :----: |\n",
    "|Profit|$20.00|$40.00|\n",
    "\n",
    "**Objective Function**:\n",
    "\n",
    "- $\\text{maximize } 20A + 40B$\n",
    "\n",
    "**Constraints**:\n",
    "\n",
    "- $0.5A + B \\le 30$\n",
    "- $A + 2.5B \\le 30 \\times 2$\n",
    "- $A + 2B \\le 22$\n",
    "- $A \\ge 0$\n",
    "- $B \\ge 0$"
   ]
  },
  {
   "cell_type": "code",
   "execution_count": 3,
   "metadata": {},
   "outputs": [
    {
     "data": {
      "text/plain": [
       "array([4.4, 8.8])"
      ]
     },
     "execution_count": 3,
     "metadata": {},
     "output_type": "execute_result"
    }
   ],
   "source": [
    "def obj_func_2(x, pA, pB):\n",
    "    return pA * x[0] + pB * x[1]\n",
    "\n",
    "pA = 20\n",
    "pB = 40\n",
    "n_ovens = 1\n",
    "n_bakers = 2\n",
    "n_days_mo = 30\n",
    "n_days_pkg = 22\n",
    "n_packers = 1\n",
    "\n",
    "i = [0, 0]\n",
    "bounds = [(0, None) for _ in range(len(i))]\n",
    "constraints = [\n",
    "    # 30 * 1 - (0.5A + B) >= 0\n",
    "    {\"type\": \"ineq\", \"fun\": lambda x: n_days_mo * n_ovens - (0.5 * x[0] + x[1])},\n",
    "    # 30 * 2 - (A + 2.5B) >= 0\n",
    "    {\"type\": \"ineq\", \"fun\": lambda x: n_days_mo * n_bakers - (x[0] + 2.5 * x[1])},\n",
    "    # 22 * 1 - (A + 2B) >= 0\n",
    "    {\"type\": \"ineq\", \"fun\": lambda x: n_days_pkg * n_packers - (x[0] + 2 * x[1])}\n",
    "]\n",
    "\n",
    "opt = minimize(\n",
    "    lambda n_cakes: -obj_func_2(n_cakes, pA=20, pB=40), \n",
    "    i, \n",
    "    bounds=bounds, \n",
    "    constraints=constraints\n",
    ")\n",
    "\n",
    "opt.x"
   ]
  },
  {
   "cell_type": "code",
   "execution_count": 4,
   "metadata": {},
   "outputs": [
    {
     "name": "stdout",
     "output_type": "stream",
     "text": [
      "Produce 0 of Cake A, and 11 of Cake B.\n"
     ]
    }
   ],
   "source": [
    "m = LpProblem(\"Maximize Bakery Profits\", LpMaximize)\n",
    "A = LpVariable(\"A\", lowBound=0, cat=\"Integer\")\n",
    "B = LpVariable(\"B\", lowBound=0, cat=\"Integer\")\n",
    "m += pA * A + pB * B\n",
    "m += 0.5 * A + 1 * B <= n_days_mo\n",
    "m += 1 * A + 2.5 * B <= n_days_mo * n_bakers\n",
    "m += 1 * A + 2 * B <= n_days_pkg * n_packers\n",
    "\n",
    "m.solve()\n",
    "print(f\"Produce {A.varValue:,.0f} of Cake A, and {B.varValue:,.0f} of Cake B.\")"
   ]
  },
  {
   "cell_type": "markdown",
   "metadata": {},
   "source": [
    "### 3. Getting started with LpProblem()\n",
    "\n",
    "You have been given the role of scheduler for a job shop. A job shop is a type of manufacturing process in which small batches of a variety of custom products are made. A poorly scheduled job shop will increase working capital and reduce the total number of jobs completed. These situations negatively affect a company's overall operations. You are looking to optimize the schedule.\n",
    "\n",
    "How could you model this in PuLP?\n",
    "\n",
    "1. Initialize `LpProblem()` with `LpMinimize`, and define the objective function as the number of jobs completed.\n",
    "\n",
    "2. Initialize `LpProblem()` with `LpMaximize`, and define the objective function as the number of jobs not completed.\n",
    "\n",
    "3. <u>***Initialize `LpProblem()` with `LpMinimize`, and define the objective function as the number of jobs not completed.***</u>\n",
    "\n",
    "4. Initialize `LpProblem()` with `LpMaximize`, and define the objective function as the amount of working capital."
   ]
  },
  {
   "cell_type": "markdown",
   "metadata": {},
   "source": [
    "### 4. Simple resource scheduling exercise\n",
    "\n",
    "<i>You are planning the production at a glass manufacturer. This manufacturer only produces wine and beer glasses:\n",
    "\n",
    "- there is a maximum production capacity of 60 hours\n",
    "\n",
    "- each batch of wine and beer glasses takes 6 and 5 hours respectively\n",
    "\n",
    "- the warehouse has a maximum capacity of 150 rack spaces\n",
    "\n",
    "- each batch of the wine and beer glasses takes 10 and 20 spaces respectively\n",
    "\n",
    "- the production equipment can only make full batches, no partial batches\n",
    "\n",
    "Also, we only have orders for 6 batches of wine glasses. Therefore, we do not want to produce more than this. Each batch of the wine glasses earns a profit of $5 and the beer $4.5.\n",
    "\n",
    "The objective is to maximize the profit for the manufacturer.</i>\n",
    "\n",
    "**Solution**:\n",
    "\n",
    "Since we are only able to make *full* batches, this is an *integer programming* problem. Our problem is defined as:\n",
    "\n",
    "\\begin{align*}\n",
    "\\text{maximize} \\quad & 5W + 4.5B\\\\\n",
    "\\text{subject to} \\quad & 6W + 5B \\le 60 \\\\\n",
    "                        & 10W + 20B \\le 150 \\\\\n",
    "                        & 0 \\le W \\le 6 \\\\\n",
    "                        & B \\ge 0\n",
    "\\end{align*}\n"
   ]
  },
  {
   "cell_type": "code",
   "execution_count": 5,
   "metadata": {},
   "outputs": [
    {
     "name": "stdout",
     "output_type": "stream",
     "text": [
      "Produce 6 batches of wine, and 4 batches of beer.\n"
     ]
    }
   ],
   "source": [
    "m = LpProblem(\"wine_beer_manufacturing\", LpMaximize)\n",
    "\n",
    "W = LpVariable(\"wine_batches\", lowBound=0, upBound=6, cat=\"Integer\")\n",
    "B = LpVariable(\"beer_batchces\", lowBound=0, cat=\"Integer\")\n",
    "\n",
    "m += 5 * W + 4.5 * B\n",
    "m += 6 * W + 5 * B <= 60\n",
    "m += 10 * W + 20 * B <= 150\n",
    "\n",
    "m.solve()\n",
    "\n",
    "print(f\"Produce {W.varValue:,.0f} batches of wine, and {B.varValue:,.0f} batches of beer.\")"
   ]
  },
  {
   "cell_type": "markdown",
   "metadata": {},
   "source": [
    "### 5. Logistics planning problem\n",
    "<i>You are consulting for kitchen oven manufacturer helping to plan their logistics for next month. There are two warehouse locations (New York, and Atlanta), and four regional customer locations (East, South, Midwest, West). The expected demand next month for East it is 1,800, for South it is 1,200, for the Midwest it is 1,100, and for West it is 1000. The cost for shipping each of the warehouse locations to the regional customer's is listed in the table below. Your goal is to fulfill the regional demand at the lowest price.</i>\n",
    "\n",
    "|Customer|\tNew York|\tAtlanta|\n",
    "|:-:|:-:|:-:|\n",
    "|East|\t$211|\t$232|\n",
    "|South|\t$232|\t$212\n",
    "|Midwest|\t$240|\t$230|\n",
    "|West|\t$300|\t$280|\n",
    "\n",
    "**Solution**:\n",
    "\n",
    "\\begin{align*}\n",
    "& N \\rightarrow \\text{Shipments from the New York warehouse} \\\\\n",
    "& A \\rightarrow \\text{Shipments from the Atlanta warehouse} \\\\\n",
    "\\\\\n",
    "\\text{minimize}   \\quad & C = 211N_E + 232A_E + 232N_S + 212A_S + 240N_M + 230A_M + 300N_W + 280A_W \\\\\n",
    "\\text{subject to} \\quad &N_E + A_E = 1800 \\\\\n",
    "                  \\quad & N_S + A_S = 1200 \\\\\n",
    "                  \\quad & N_M + A_M = 1100 \\\\\n",
    "                  \\quad & N_W + A_W = 1000 \\\\\n",
    "                  \\quad & N_E,N_S,N_M,N_W,A_E,A_S,A_M,A_W \\geq 0\n",
    "\n",
    "\\end{align*}"
   ]
  },
  {
   "cell_type": "code",
   "execution_count": 6,
   "metadata": {},
   "outputs": [
    {
     "name": "stdout",
     "output_type": "stream",
     "text": [
      "        New York Atlanta\n",
      "East       1,800       0\n",
      "South          0   1,200\n",
      "Midwest        0   1,100\n",
      "West           0   1,000 \n",
      "\n",
      "Total Cost: $1,167,200.00\n"
     ]
    }
   ],
   "source": [
    "# Define variables\n",
    "warehouses = [\"New York\", \"Atlanta\"]\n",
    "regions = [\"East\", \"South\", \"Midwest\", \"West\"]\n",
    "demand = [1800, 1200, 1100, 1000]\n",
    "costs_list = [211, 232, 240, 300, 232, 212, 230, 280]\n",
    "regional_demand = dict(zip(regions, demand))\n",
    "warehouse_regions = [(w, r) for w in warehouses for r in regions]\n",
    "costs = {wr: c for wr, c in zip(warehouse_regions, costs_list)}\n",
    "\n",
    "var_dict = {\n",
    "    k: LpVariable(f\"{k[0][0]}{k[1][0]}\", 0, None, \"Integer\") for k in costs.keys()\n",
    "}\n",
    "\n",
    "# Initialize model\n",
    "m = LpProblem(\"minimize_costs\", LpMinimize)\n",
    "\n",
    "# Define objective function\n",
    "m += lpSum([costs[wr] * var_dict[wr] for wr in warehouse_regions])\n",
    "\n",
    "for r in regions:\n",
    "    m += lpSum([var_dict[(w, r)] for w in warehouses]) == regional_demand[r]\n",
    "\n",
    "m.solve()\n",
    "\n",
    "if m.status == 1:\n",
    "    shipments_ = {wr: v.varValue for wr, v in var_dict.items()}\n",
    "    shipments = pd.DataFrame()\n",
    "    for (w, r), v in shipments_.items():\n",
    "        shipments.loc[w, r] = v\n",
    "    print(shipments.T.applymap(lambda x: f\"{x:,.0f}\"), \"\\n\")\n",
    "    print(f\"Total Cost: ${m.objective.value():,.2f}\")\n",
    "else:\n",
    "    print(\"Optimization failed.\")"
   ]
  },
  {
   "cell_type": "markdown",
   "metadata": {},
   "source": [
    "### 6. Example Scheduling Problem\n",
    "\n",
    "|Day of Week|Index|Drivers Needed|\n",
    "|:-:|:-:|:-:|\n",
    "|Monday|0|11\n",
    "|Tuesday|1|14\n",
    "Wednesday|2|23\n",
    "Thursday|3|21\n",
    "Friday|4|20\n",
    "Saturday|5|15\n",
    "Sunday|6|8\n",
    "\n",
    "How many drivers, in total, do we need to hire?\n",
    "\n",
    "Constraint:\n",
    "Each driver for 5 consecutive days, followed by 2 days off, repeated weekly.\n",
    "\n",
    "<b><i>Proposed</i> Solution</b>:\n",
    "\n",
    "\\begin{align*}\n",
    "\\text{minimize}     \\quad & T = \\sum^{6}_{i=0}X_i \\\\\n",
    "\\text{subject to}   \\quad & X_0 + X_1 + X_2 + X_3 + X_4 \\ge 20 \\\\\n",
    "                    \\quad & X_1 + X_2 + X_3 + X_4 + X_5 \\ge 15 \\\\\n",
    "                    \\quad & X_2 + X_3 + X_4 + X_5 + X_6 \\ge 8  \\\\\n",
    "                    \\quad & X_3 + X_4 + X_5 + X_6 + X_0 \\ge 11 \\\\\n",
    "                    \\quad & X_4 + X_5 + X_6 + X_0 + X_1 \\ge 14 \\\\\n",
    "                    \\quad & X_5 + X_6 + X_0 + X_1 + X_2 \\ge 23 \\\\\n",
    "                    \\quad & X_6 + X_0 + X_1 + X_2 + X_3 \\ge 21 \\\\\n",
    "\\end{align*}"
   ]
  },
  {
   "cell_type": "code",
   "execution_count": 7,
   "metadata": {},
   "outputs": [
    {
     "name": "stdout",
     "output_type": "stream",
     "text": [
      "    Drivers Needed\n",
      "Day               \n",
      "0                8\n",
      "1                8\n",
      "2                4\n",
      "3                1\n",
      "4                0\n",
      "5                3\n",
      "6                0\n"
     ]
    }
   ],
   "source": [
    "days = list(range(7))\n",
    "drivers_needed = [11, 14, 23, 21, 20, 15, 8]\n",
    "\n",
    "m = LpProblem(\"driver_optimization\", LpMinimize)\n",
    "\n",
    "x = LpVariable.dicts(\"drivers\", days, lowBound=0, cat=\"Integer\")\n",
    "\n",
    "m += lpSum([x[i] for i in days])\n",
    "\n",
    "m += x[0] + x[1] + x[2] + x[3] + x[4] >= 20\n",
    "m += x[1] + x[2] + x[3] + x[4] + x[5] >= 15\n",
    "m += x[2] + x[3] + x[4] + x[5] + x[6] >= 8\n",
    "m += x[3] + x[4] + x[5] + x[6] + x[0] >= 11\n",
    "m += x[4] + x[5] + x[6] + x[0] + x[1] >= 14\n",
    "m += x[5] + x[6] + x[0] + x[1] + x[2] >= 23\n",
    "m += x[6] + x[0] + x[1] + x[2] + x[3] >= 21\n",
    "\n",
    "m.solve()\n",
    "\n",
    "if m.status == 1:\n",
    "    drivers = pd.DataFrame(\n",
    "        {day: [drivers.varValue] for day, drivers in x.items()}\n",
    "    ).T.reset_index()\n",
    "    \n",
    "    drivers.columns = [\"Day\", \"Drivers Needed\"]\n",
    "    drivers = drivers.set_index(\"Day\")\n",
    "    print(pd.DataFrame(drivers).T.applymap(lambda x: f\"{x:,.0f}\").T)"
   ]
  },
  {
   "cell_type": "markdown",
   "metadata": {},
   "source": [
    "**DOES NOT MATCH REQUIREMENTS!**"
   ]
  }
 ],
 "metadata": {
  "kernelspec": {
   "display_name": "base",
   "language": "python",
   "name": "python3"
  },
  "language_info": {
   "codemirror_mode": {
    "name": "ipython",
    "version": 3
   },
   "file_extension": ".py",
   "mimetype": "text/x-python",
   "name": "python",
   "nbconvert_exporter": "python",
   "pygments_lexer": "ipython3",
   "version": "3.11.5"
  }
 },
 "nbformat": 4,
 "nbformat_minor": 2
}

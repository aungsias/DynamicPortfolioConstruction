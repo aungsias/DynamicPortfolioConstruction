{
 "cells": [
  {
   "cell_type": "markdown",
   "metadata": {},
   "source": [
    "## The Traveling Salesman Problem\n",
    "\n",
    "The traveling salesman problem (TSP) sets out to find the *shortest possible route* that a traveling salesman can take to visit a set of cities and return to the origin city.\n",
    "\n",
    "We are given $n$ cities, and the distance between each pair of cities is defined in a distance matrix $D$, where $D_{ij}$ represents the distance from city $i$ to city $j$. The objective is to **determine the sequence in which the cities should be visited to minimize the total distance traveled.** The sequence must start and end at the same city, ensuring that each city is visited exactly once.\n",
    "\n",
    "To formulate the TSP in terms of linear programming, binary decision variables $x_{ij}$ are introduced. These variables take the value $1$ if the route from city $i$ to city $j$ is included in the tour, and $0$ otherwise. The objective function then becomes the minimization of the total travel distsance, which is the sum of the distances for each of the paths included in the route:\n",
    "\n",
    "$$\\sum^n_{i=1} \\sum^n_{j=1,j \\neq i} D_{ij}x_{ij}$$\n",
    "\n",
    "The constraints of the TSP ensure that each city is part of the route and that the route forms a continuous path without any reptitions or subtours. Specifically, for every city $i$, there must be **exactly one outgoing path and one incoming path in the solution**. This is represented mathematically as\n",
    "\n",
    "$$\\sum^n_{j=1,j \\neq i} x_{ij} = 1$$\n",
    "\n",
    "for every $i$ and \n",
    "\n",
    "$$\\sum^n_{j=1,j \\neq i}x_{ji} = 1$$\n",
    "\n",
    "for every $i$, ensuring that the route enters and leaves each city $i$ exactly once.\n",
    "\n",
    "These constraints alone are insufficient to prevent subtours, which are smaller loops within the route that do not cover all cities. To address this, we introduce subtour elimination. A common approach involves using auxiliary variables, $u_i$ for each city $i$ to represent the order of the cities in the tour. The Miller-Tucker-Zemlin (MTZ) constraints are then applied: for each pair of cities $i$ and $j$:\n",
    "\n",
    "$$u_{i} - u_{j} + nx_{ij} \\le n - 1$$\n",
    "\n",
    "provided $i \\neq j$ and excluding the starting city. These constraints effectively prevent the formation of subtours by enforcing an order in the sequence of cities visited."
   ]
  },
  {
   "cell_type": "markdown",
   "metadata": {},
   "source": [
    "## Solution"
   ]
  },
  {
   "cell_type": "code",
   "execution_count": 139,
   "metadata": {},
   "outputs": [
    {
     "data": {
      "text/plain": [
       "array([[ 0, 29, 82, 46, 68, 52, 72, 42, 51, 55, 29, 74, 23, 72, 46],\n",
       "       [29,  0, 55, 46, 42, 43, 43, 23, 23, 31, 41, 51, 11, 52, 21],\n",
       "       [82, 55,  0, 68, 46, 55, 23, 43, 41, 29, 79, 21, 64, 31, 51],\n",
       "       [46, 46, 68,  0, 82, 15, 72, 31, 62, 42, 21, 51, 51, 43, 64],\n",
       "       [68, 42, 46, 82,  0, 74, 23, 52, 21, 46, 82, 58, 46, 65, 23],\n",
       "       [52, 43, 55, 15, 74,  0, 61, 23, 55, 31, 33, 37, 51, 29, 59],\n",
       "       [72, 43, 23, 72, 23, 61,  0, 42, 23, 31, 77, 37, 51, 46, 33],\n",
       "       [42, 23, 43, 31, 52, 23, 42,  0, 33, 15, 37, 33, 33, 31, 37],\n",
       "       [51, 23, 41, 62, 21, 55, 23, 33,  0, 29, 62, 46, 29, 51, 11],\n",
       "       [55, 31, 29, 42, 46, 31, 31, 15, 29,  0, 51, 21, 41, 23, 37],\n",
       "       [29, 41, 79, 21, 82, 33, 77, 37, 62, 51,  0, 65, 42, 59, 61],\n",
       "       [74, 51, 21, 51, 58, 37, 37, 33, 46, 21, 65,  0, 61, 11, 55],\n",
       "       [23, 11, 64, 51, 46, 51, 51, 33, 29, 41, 42, 61,  0, 62, 23],\n",
       "       [72, 52, 31, 43, 65, 29, 46, 31, 51, 23, 59, 11, 62,  0, 59],\n",
       "       [46, 21, 51, 64, 23, 59, 33, 37, 11, 37, 61, 55, 23, 59,  0]],\n",
       "      dtype=int64)"
      ]
     },
     "execution_count": 139,
     "metadata": {},
     "output_type": "execute_result"
    }
   ],
   "source": [
    "import pandas as pd\n",
    "from pulp import *\n",
    "\n",
    "dist = pd.read_csv(\"dist.csv\", index_col=0).values\n",
    "dist"
   ]
  },
  {
   "cell_type": "code",
   "execution_count": 194,
   "metadata": {},
   "outputs": [
    {
     "data": {
      "text/plain": [
       "([(0, 12),\n",
       "  (12, 1),\n",
       "  (1, 14),\n",
       "  (14, 8),\n",
       "  (8, 4),\n",
       "  (4, 6),\n",
       "  (6, 2),\n",
       "  (2, 11),\n",
       "  (11, 13),\n",
       "  (13, 9),\n",
       "  (9, 7),\n",
       "  (7, 5),\n",
       "  (5, 3),\n",
       "  (3, 10),\n",
       "  (10, 0)],\n",
       " True)"
      ]
     },
     "execution_count": 194,
     "metadata": {},
     "output_type": "execute_result"
    }
   ],
   "source": [
    "n = 15\n",
    "\n",
    "tsp = LpProblem(\"TSP\", LpMinimize)\n",
    "\n",
    "x = LpVariable.dicts(\"x\", ((i, j) for i in range(n) for j in range(n)), cat=\"Binary\")\n",
    "\n",
    "tsp += lpSum([dist[i, j] * x[i, j] for i in range(n) for j in range(n) if i != j])\n",
    "\n",
    "for i in range(n):\n",
    "    tsp += lpSum(x[i, j] for j in range(n) if i != j) == 1\n",
    "    tsp += lpSum(x[j, i] for j in range(n) if i != j) == 1\n",
    "\n",
    "u = LpVariable.dicts(\"u\", range(n), 0, n - 1, \"Continuous\")\n",
    "\n",
    "for i in range(1, n):\n",
    "    for j in range(1, n):\n",
    "        if i != j:\n",
    "            tsp += u[i] - u[j] + n * x[i, j] <= n - 1\n",
    "\n",
    "tsp.solve()\n",
    "\n",
    "if tsp.status == 1:\n",
    "    route = []\n",
    "    for i in range(n):\n",
    "        for j in range(n):\n",
    "            if x[i, j].varValue == 1:\n",
    "                route.append((i, j))\n",
    "\n",
    "for i in range(len(route) - 1):\n",
    "    for j in range(i + 1, len(route)):\n",
    "        if route[i][1] == route[j][0]:\n",
    "            route[i + 1], route[j] = route[j], route[i + 1]\n",
    "\n",
    "route, sum([dist[r] for r in route]) == tsp.objective.value()"
   ]
  }
 ],
 "metadata": {
  "kernelspec": {
   "display_name": "base",
   "language": "python",
   "name": "python3"
  },
  "language_info": {
   "codemirror_mode": {
    "name": "ipython",
    "version": 3
   },
   "file_extension": ".py",
   "mimetype": "text/x-python",
   "name": "python",
   "nbconvert_exporter": "python",
   "pygments_lexer": "ipython3",
   "version": "3.11.5"
  }
 },
 "nbformat": 4,
 "nbformat_minor": 2
}

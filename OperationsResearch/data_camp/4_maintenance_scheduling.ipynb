{
 "cells": [
  {
   "cell_type": "markdown",
   "metadata": {},
   "source": [
    "## Preventative maintenance scheduling\n",
    "At a quarry they use diamond saws to cut slabs of marble. For preventative maintenance the saws are only allowed to run for 4 consecutive hours, afterwards a 1 hour inspection is completed before they are allowed to go back into service. The quarry operates 10-hour shifts. At the end of the shift if the saw blades have not been used for 4 consecutive hours the remaining time will be used at the start of the next shift. The expected number of saw blades needed for each hour is listed below. Our goal is to determine the minimum number of saw blades are needed for the shift.\n",
    "\n",
    "Hour|\tSaws Needed\n",
    "|---|---\n",
    "0|\t7\n",
    "1|\t7\n",
    "2|\t7\n",
    "3|\t6\n",
    "4|\t5\n",
    "5|\t6\n",
    "6|\t6\n",
    "7|\t7\n",
    "8|\t7\n",
    "9|\t6"
   ]
  },
  {
   "cell_type": "code",
   "execution_count": 66,
   "metadata": {},
   "outputs": [
    {
     "name": "stdout",
     "output_type": "stream",
     "text": [
      "9.0\n"
     ]
    }
   ],
   "source": [
    "import pandas as pd\n",
    "from pulp import *\n",
    "\n",
    "prob = LpProblem(\"minimize_num_saws\", LpMinimize)\n",
    "\n",
    "h = 10\n",
    "\n",
    "n = LpVariable.dicts(\"n\", range(h), lowBound=0, upBound=None, cat=\"Integer\")\n",
    "\n",
    "prob += lpSum([n[i] for i in range(h)])\n",
    "\n",
    "saws_needed = [7, 7, 7, 6, 5, 6, 6, 7, 7, 6]\n",
    "\n",
    "for i in range(h):\n",
    "    prob += n[i] + \\\n",
    "            n[(i+2) % h] + \\\n",
    "            n[(i+3) % h] + \\\n",
    "            n[(i+4) % h] + \\\n",
    "            n[(i+5) % h] + \\\n",
    "            n[(i+7) % h] + \\\n",
    "            n[(i+8) % h] + \\\n",
    "            n[(i+9) % h] >= saws_needed[i]\n",
    "\n",
    "prob.solve()\n",
    "\n",
    "if prob.status == 1:\n",
    "    print(prob.objective.value())"
   ]
  },
  {
   "cell_type": "code",
   "execution_count": 67,
   "metadata": {},
   "outputs": [
    {
     "data": {
      "text/plain": [
       "{0: n_0,\n",
       " 1: n_1,\n",
       " 2: n_2,\n",
       " 3: n_3,\n",
       " 4: n_4,\n",
       " 5: n_5,\n",
       " 6: n_6,\n",
       " 7: n_7,\n",
       " 8: n_8,\n",
       " 9: n_9}"
      ]
     },
     "execution_count": 67,
     "metadata": {},
     "output_type": "execute_result"
    }
   ],
   "source": [
    "n"
   ]
  }
 ],
 "metadata": {
  "kernelspec": {
   "display_name": "base",
   "language": "python",
   "name": "python3"
  },
  "language_info": {
   "codemirror_mode": {
    "name": "ipython",
    "version": 3
   },
   "file_extension": ".py",
   "mimetype": "text/x-python",
   "name": "python",
   "nbconvert_exporter": "python",
   "pygments_lexer": "ipython3",
   "version": "3.11.5"
  }
 },
 "nbformat": 4,
 "nbformat_minor": 2
}

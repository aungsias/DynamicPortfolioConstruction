{
 "cells": [
  {
   "cell_type": "markdown",
   "metadata": {},
   "source": [
    "## Scheduling workers problem\n",
    "\n",
    "You are looking to hire workers to work in a warehouse. Each worker is expected to work 5 consecutive days and then have two days off. The chart below has the estimated number of workers you will need each day. You are looking to hire the minimum number of workers to handle the workload for each day.\n",
    "\n",
    "Day of Week|\tEmployees Needed\n",
    "---|---\n",
    "0 = Monday|\t31\n",
    "1 = Tuesday|\t45\n",
    "2 = Wednesday|\t40\n",
    "3 = Thursday|\t40\n",
    "4 = Friday|\t48\n",
    "5 = Saturday|\t30\n",
    "6 = Sunday|\t25"
   ]
  },
  {
   "cell_type": "code",
   "execution_count": 21,
   "metadata": {},
   "outputs": [
    {
     "name": "stdout",
     "output_type": "stream",
     "text": [
      "53.0\n"
     ]
    }
   ],
   "source": [
    "from pulp import *\n",
    "\n",
    "n = 7\n",
    "\n",
    "prob = LpProblem(\"minimize_workers\", LpMinimize)\n",
    "\n",
    "x = LpVariable.dicts(\"worker\", range(n), 0, None, \"Integer\")\n",
    "\n",
    "prob += lpSum(x)\n",
    "\n",
    "w = [31, 45, 40, 40, 48, 30, 25]\n",
    "\n",
    "for i in range(n):\n",
    "    prob += x[i] + \\\n",
    "            x[(i+1) % n] + \\\n",
    "            x[(i+2) % n] + \\\n",
    "            x[(i+3) % n] + \\\n",
    "            x[(i+4) % n] >= w[(i+4) % n]\n",
    "\n",
    "prob.solve()\n",
    "\n",
    "if prob.status == 1:\n",
    "    print(prob.objective.value())"
   ]
  },
  {
   "cell_type": "code",
   "execution_count": 25,
   "metadata": {},
   "outputs": [
    {
     "data": {
      "text/html": [
       "<div>\n",
       "<style scoped>\n",
       "    .dataframe tbody tr th:only-of-type {\n",
       "        vertical-align: middle;\n",
       "    }\n",
       "\n",
       "    .dataframe tbody tr th {\n",
       "        vertical-align: top;\n",
       "    }\n",
       "\n",
       "    .dataframe thead th {\n",
       "        text-align: right;\n",
       "    }\n",
       "</style>\n",
       "<table border=\"1\" class=\"dataframe\">\n",
       "  <thead>\n",
       "    <tr style=\"text-align: right;\">\n",
       "      <th></th>\n",
       "      <th>Workers Starting 5-Day Schedule</th>\n",
       "    </tr>\n",
       "  </thead>\n",
       "  <tbody>\n",
       "    <tr>\n",
       "      <th>0</th>\n",
       "      <td>13</td>\n",
       "    </tr>\n",
       "    <tr>\n",
       "      <th>1</th>\n",
       "      <td>15</td>\n",
       "    </tr>\n",
       "    <tr>\n",
       "      <th>2</th>\n",
       "      <td>7</td>\n",
       "    </tr>\n",
       "    <tr>\n",
       "      <th>3</th>\n",
       "      <td>0</td>\n",
       "    </tr>\n",
       "    <tr>\n",
       "      <th>4</th>\n",
       "      <td>13</td>\n",
       "    </tr>\n",
       "    <tr>\n",
       "      <th>5</th>\n",
       "      <td>0</td>\n",
       "    </tr>\n",
       "    <tr>\n",
       "      <th>6</th>\n",
       "      <td>5</td>\n",
       "    </tr>\n",
       "  </tbody>\n",
       "</table>\n",
       "</div>"
      ],
      "text/plain": [
       "  Workers Starting 5-Day Schedule\n",
       "0                              13\n",
       "1                              15\n",
       "2                               7\n",
       "3                               0\n",
       "4                              13\n",
       "5                               0\n",
       "6                               5"
      ]
     },
     "execution_count": 25,
     "metadata": {},
     "output_type": "execute_result"
    }
   ],
   "source": [
    "import pandas as pd\n",
    "\n",
    "workers_needed = pd.DataFrame({d: [w.varValue] for d, w in x.items()}).T\n",
    "workers_needed.columns = [\"Workers Starting 5-Day Schedule\"]\n",
    "\n",
    "workers_needed.applymap(lambda x: f\"{x:,.0f}\")"
   ]
  }
 ],
 "metadata": {
  "kernelspec": {
   "display_name": "base",
   "language": "python",
   "name": "python3"
  },
  "language_info": {
   "codemirror_mode": {
    "name": "ipython",
    "version": 3
   },
   "file_extension": ".py",
   "mimetype": "text/x-python",
   "name": "python",
   "nbconvert_exporter": "python",
   "pygments_lexer": "ipython3",
   "version": "3.11.5"
  }
 },
 "nbformat": 4,
 "nbformat_minor": 2
}

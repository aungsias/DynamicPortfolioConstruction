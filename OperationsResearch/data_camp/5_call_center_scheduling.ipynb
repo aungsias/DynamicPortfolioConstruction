{
 "cells": [
  {
   "cell_type": "markdown",
   "metadata": {},
   "source": [
    "## Call Center Scheduling\n",
    "\n",
    "A call center operates 24/7 and must schedule its employees to ensure adequate coverage. The number of agents needed varies each hour. The goal is to minimize the total number of employees while meeting or exceeding the required number of agents for each hour. Each employee works an 8-hour shift starting at the top of any hour. Employees can only work one shift per day. The expected number of agents needed for each hour is provided.\n",
    "\n",
    "\n",
    "Hour|\tAgents Needed\n",
    "---|---\n",
    "00|\t4\n",
    "01|\t3\n",
    "02|\t3\n",
    "03|\t2\n",
    "04|\t2\n",
    "05|\t3\n",
    "06|\t5\n",
    "07|\t6\n",
    "08|\t7\n",
    "09|\t8\n",
    "10|\t9\n",
    "11|\t10\n",
    "12|\t9\n",
    "13|\t8\n",
    "14|\t7\n",
    "15|\t6\n",
    "16|\t5\n",
    "17|\t6\n",
    "18|\t7\n",
    "19|\t8\n",
    "20|\t7\n",
    "21|\t6\n",
    "22|\t5\n",
    "23|\t4"
   ]
  },
  {
   "cell_type": "code",
   "execution_count": 12,
   "metadata": {},
   "outputs": [
    {
     "name": "stdout",
     "output_type": "stream",
     "text": [
      "20.0\n"
     ]
    }
   ],
   "source": [
    "from pulp import *\n",
    "\n",
    "h = 24\n",
    "agents_needed = [4, 3, 3, 2, 2, 3, 5, 6, 7, 8, 9, 10, 9, 8, 7, 6, 5, 6, 7, 8, 7, 6, 5, 4]\n",
    "\n",
    "prob = LpProblem(\"agents\", LpMinimize)\n",
    "\n",
    "n = LpVariable.dicts(\"n\", range(h), lowBound=0, upBound=None, cat=\"Integer\")\n",
    "\n",
    "prob += lpSum(n[i] for i in range(h))\n",
    "\n",
    "for i in range(h):\n",
    "    prob += n[i] + \\\n",
    "            n[(i + 17) % h] + \\\n",
    "            n[(i + 18) % h] + \\\n",
    "            n[(i + 19) % h] + \\\n",
    "            n[(i + 20) % h] + \\\n",
    "            n[(i + 21) % h] + \\\n",
    "            n[(i + 22) % h] + \\\n",
    "            n[(i + 23) % h] >= agents_needed[i]\n",
    "    \n",
    "prob.solve()\n",
    "\n",
    "if prob.status == 1:\n",
    "    print(prob.objective.value())"
   ]
  }
 ],
 "metadata": {
  "kernelspec": {
   "display_name": "base",
   "language": "python",
   "name": "python3"
  },
  "language_info": {
   "codemirror_mode": {
    "name": "ipython",
    "version": 3
   },
   "file_extension": ".py",
   "mimetype": "text/x-python",
   "name": "python",
   "nbconvert_exporter": "python",
   "pygments_lexer": "ipython3",
   "version": "3.11.5"
  }
 },
 "nbformat": 4,
 "nbformat_minor": 2
}

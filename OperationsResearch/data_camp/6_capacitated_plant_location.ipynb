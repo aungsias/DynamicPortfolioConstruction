{
 "cells": [
  {
   "cell_type": "markdown",
   "metadata": {},
   "source": [
    "## Capacitated Plant Location\n",
    "\n",
    "Optimize the global supply chain network to meet regional product demand at the lowest possible cost.\n",
    "\n",
    "Decision Variables:\n",
    "\n",
    "- **Production Quantity $x_{ij}$:** This represents the amount of product produced at a specific location $i$ and shipped to destination $j$. This variable will be adjusted to meet regional demands efficiently:\n",
    "\n",
    "- **Plant Operation Status $y_{is}$:** This binary variable indicates whether a plant at location $i$ with a certain capacity ($s$, which can be either low or high) is operational ($y = 1$) or closed ($y = 0$).\n",
    "\n",
    "- **Plant Capacity $s$:** This variable denotes the size of the production facilities, categorized as low or high capacity.\n",
    "\n",
    "Constraints:\n",
    "\n",
    "- **Production Capacity:** Each plant's production cannot exceed its capacity, whether it's a low or high capacity plant.\n",
    "\n",
    "- **Demand Fulfillment:** The total production and shipping from all plants must meet or exceed the regional demand for the product.\n",
    "\n",
    "- **Plant Operation:** A plant can only produce if it is operational (i.e., y = 1 for that plant).\n",
    "\n",
    "Objective:\n",
    "\n",
    "The objective is to minimize the total cost $z$:\n",
    "\n",
    "$$\n",
    "z = \\sum^{n}_{i=1} \\sum^{s}_{k=1} f_{isk}y_{isk} + \\sum^{n}_{i=1} \\sum^{m}_{j=1} c_{ij} x_{ij}\n",
    "$$\n",
    "\n",
    "where:\n",
    "- $n$ is the number of production facilities\n",
    "- $m$ is the number of markets or regional demands\n",
    "- $s$ is the number of capacity sizes\n",
    "- $f_{isk}$ is the fixed cost of keeping plant $i$ of capacity size $k$ open\n",
    "- $c_{ij}$ is the cost of producing and shipping from plant $i$ to region $j$\n",
    "- $x_{ij}$ is the production quantity from plant $i$ to region $j$\n",
    "- $y_{isk}$ is the binary variable indicating whether a plant $i$ with capacity size $k$ is operational\n",
    "- $\\mathbf{P}_{isk}$ is the capacity of plant $i$ with capacity size $k$\n",
    "- $\\mathbf{D}_{j}$ is the demand in region $j$.\n",
    "\n",
    "We aim to find the most cost-effective combination of production quantities, plant operational statuses, and plant capacities that satisfies the regional demand while minimizing the total cost:"
   ]
  },
  {
   "cell_type": "markdown",
   "metadata": {},
   "source": [
    "## Solution\n",
    "\n",
    "\\begin{align*}\n",
    "\\text{minimize}     \\quad   &   z = \\sum^{n}_{i=1} \\sum^{s}_{k=1} f_{isk}y_{isk} + \\sum^{n}_{i=1} \\sum^{m}_{j=1} c_{ij} x_{ij} \\\\\n",
    "\\text{subject to}   \\quad   &   \\sum^{m}_{j=1} x_{ij} \\le \\sum^{s}_{k=1} y_{isk} \\times P_{isk} \\quad \\forall i \\in \\{1, \\dots, n\\} \\\\\n",
    "                    \\quad   &   \\sum^{n}_{i=1} x_{ij} \\ge D_{j} \\quad \\forall j \\in \\{1, \\dots, m\\} \\\\\n",
    "                    \\quad   &   x_{ij} \\ge 0 \\quad \\forall i \\in \\{1, \\dots, n\\}, \\forall j \\in \\{1, \\dots, m\\} \\\\\n",
    "                    \\quad   &   y_{isk} \\in \\{0, 1\\} \\quad \\forall i \\in \\{1, \\dots, n\\}, \\forall k \\in \\{1, \\dots, s\\}\n",
    "\\end{align*}"
   ]
  },
  {
   "cell_type": "code",
   "execution_count": 185,
   "metadata": {},
   "outputs": [
    {
     "name": "stdout",
     "output_type": "stream",
     "text": [
      "         Demand\n",
      "DEMAND         \n",
      "USA      2719.6\n",
      "Germany    84.1\n",
      "Japan    1676.8\n",
      "Brazil    145.4\n",
      "India     156.4\n",
      "          Low_Cap  High_Cap\n",
      "CAPACITY                   \n",
      "USA           500      1500\n",
      "Germany       500      1500\n",
      "Japan         500      1500\n",
      "Brazil        500      1500\n",
      "India         500      1500\n",
      "             Low_Cap  High_Cap\n",
      "FIXED_COSTS                   \n",
      "USA             6500      9500\n",
      "Germany         4980      7270\n",
      "Japan           6230      9100\n",
      "Brazil          3230      4730\n",
      "India           2110      3080\n",
      "                USA  Germany  Japan  Brazil  India\n",
      "VARIABLE_COSTS                                    \n",
      "USA               6       13     20      12     22\n",
      "Germany          13        6     14      14     13\n",
      "Japan            20       14      3      21     10\n",
      "Brazil           12       14     21       8     23\n",
      "India            17       13      9      21      8\n"
     ]
    }
   ],
   "source": [
    "import pandas as pd\n",
    "from pprint import pprint\n",
    "\n",
    "demand = pd.read_csv(\"demand.csv\", index_col=0)\n",
    "cap = pd.read_csv(\"cap.csv\", index_col=0)\n",
    "fix_cost = pd.read_csv(\"fix_cost.csv\", index_col=0)\n",
    "var_cost = pd.read_csv(\"var_cost.csv\", index_col=0)\n",
    "\n",
    "dfs = [demand, cap, fix_cost, var_cost]\n",
    "\n",
    "names = [\"DEMAND\", \"CAPACITY\", \"FIXED_COSTS\", \"VARIABLE_COSTS\"]\n",
    "\n",
    "for i, df in enumerate(dfs):\n",
    "    df.index.name = names[i]\n",
    "    print(df)"
   ]
  },
  {
   "cell_type": "code",
   "execution_count": 240,
   "metadata": {},
   "outputs": [
    {
     "data": {
      "text/plain": [
       "1"
      ]
     },
     "execution_count": 240,
     "metadata": {},
     "output_type": "execute_result"
    }
   ],
   "source": [
    "from pulp import *\n",
    "\n",
    "locs = demand.index.to_list()\n",
    "size = cap.columns.to_list()\n",
    "n = len(locs)\n",
    "\n",
    "problem = LpProblem(\"minimize_costs\", LpMinimize)\n",
    "\n",
    "x = LpVariable.dicts(\"prod\", ((i, j) for i in locs for j in locs), lowBound=0, cat=\"Continuous\")\n",
    "y = LpVariable.dicts(\"plant\", ((i, s) for i in locs for s in size), cat=LpBinary)\n",
    "\n",
    "fy = [fix_cost.loc[i, s] * y[i, s] for s in size for i in locs]\n",
    "cx = [var_cost.loc[i, j] * x[i, j] for i in locs for j in locs]\n",
    "\n",
    "problem += lpSum(fy) + lpSum(cx)\n",
    "\n",
    "for i in locs:\n",
    "    problem += lpSum([x[i, j] for j in locs]) <= lpSum([y[i, s] * cap.loc[i, s] for s in size])\n",
    "\n",
    "for j in locs:\n",
    "    problem += lpSum([x[i, j] for i in locs]) == demand.loc[j, \"Demand\"]\n",
    "\n",
    "problem.solve()\n",
    "\n",
    "problem.status"
   ]
  },
  {
   "cell_type": "code",
   "execution_count": 241,
   "metadata": {},
   "outputs": [
    {
     "name": "stdout",
     "output_type": "stream",
     "text": [
      "               USA  Germany   Japan  Brazil  India\n",
      "PRODUCTION                                        \n",
      "USA         1500.0      0.0     0.0     0.0    0.0\n",
      "Germany        0.0      0.0     0.0     0.0    0.0\n",
      "Japan          0.0      0.0  1500.0     0.0    0.0\n",
      "Brazil      1219.6      0.0     0.0   145.4    0.0\n",
      "India          0.0     84.1   176.8     0.0  156.4 \n",
      "\n",
      "              Low_Cap  High_Cap\n",
      "PLANT_STATUS                   \n",
      "USA               0.0       1.0\n",
      "Germany           0.0       0.0\n",
      "Japan             0.0       1.0\n",
      "Brazil            0.0       1.0\n",
      "India             1.0       0.0 \n",
      "\n",
      "Total Cost: $58,674.10\n"
     ]
    }
   ],
   "source": [
    "production = pd.DataFrame()\n",
    "plant_status = pd.DataFrame()\n",
    "\n",
    "for loc1, loc2 in x.keys():\n",
    "    production.loc[loc1, loc2] = x[loc1, loc2].varValue\n",
    "\n",
    "for l, s in y.keys():\n",
    "    plant_status.loc[l, s] = y[l, s].varValue\n",
    "\n",
    "production.index.name = \"PRODUCTION\"\n",
    "plant_status.index.name = \"PLANT_STATUS\"\n",
    "\n",
    "for df in [production, plant_status]:\n",
    "    print(df, \"\\n\")\n",
    "\n",
    "print(f\"Total Cost: ${problem.objective.value():,.2f}\")"
   ]
  },
  {
   "cell_type": "code",
   "execution_count": null,
   "metadata": {},
   "outputs": [],
   "source": []
  }
 ],
 "metadata": {
  "kernelspec": {
   "display_name": "base",
   "language": "python",
   "name": "python3"
  },
  "language_info": {
   "codemirror_mode": {
    "name": "ipython",
    "version": 3
   },
   "file_extension": ".py",
   "mimetype": "text/x-python",
   "name": "python",
   "nbconvert_exporter": "python",
   "pygments_lexer": "ipython3",
   "version": "3.11.5"
  }
 },
 "nbformat": 4,
 "nbformat_minor": 2
}

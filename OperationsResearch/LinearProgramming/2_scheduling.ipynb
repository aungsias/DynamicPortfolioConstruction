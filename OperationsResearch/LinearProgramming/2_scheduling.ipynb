{
 "cells": [
  {
   "cell_type": "code",
   "execution_count": null,
   "metadata": {},
   "outputs": [],
   "source": [
    "import numpy as np\n",
    "import pandas as pd\n",
    "import matplotlib.pyplot as plt\n",
    "from pulp import *"
   ]
  },
  {
   "cell_type": "markdown",
   "metadata": {},
   "source": [
    "## 6. Scheduling\n",
    "\n",
    "***Example***<br>\n",
    "A post office requires different numbers of full-time employees on different days of the week. The number of full-time employees required on each day is given below. Union rules state that each full-time employee must work five consecutive days and then receive two days off. For example, an employee who works Monday to Friday must be off on Saturday and Sunday. The post office wants to meet its daily requirements using only full-time employees. Formulate an LP that the post office can use to minimize the number of full-time employees who must be hired.\n",
    "\n",
    "| Day | Number of Full-time Employees Required |\n",
    "|-----|----------------------------------------|\n",
    "| 1 = Monday | 17 |\n",
    "| 2 = Tuesday | 13 |\n",
    "| 3 = Wednesday | 15 |\n",
    "| 4 = Thursday | 19 |\n",
    "| 5 = Friday | 14 |\n",
    "| 6 = Saturday | 16 |\n",
    "| 7 = Sunday | 11 |\n"
   ]
  },
  {
   "cell_type": "markdown",
   "metadata": {},
   "source": [
    "***Solution***\n",
    "\n",
    "\\begin{align*}\n",
    "\\text{total number of employees } \\quad & E = x_1 + x_2 + x_3 + x_4 + x_5 + x_6 + x_7\\\\\n",
    "\\quad\\\\\n",
    "\\min \\quad & E\\\\\n",
    "\\text{s.t.} \\quad   &   \\text{Monday} = x_1 + x_4 + x_5 + x_6 + x_7 &\\ge 17\\\\\n",
    "            \\quad   &   \\text{Tuesday} = x_1 + x_2 + x_5 + x_6 + x_7 &\\ge 13\\\\\n",
    "            \\quad   &   \\text{Wednesday} = x_1 + x_2 + x_3 + x_6 + x_7 &\\ge 15\\\\\n",
    "            \\quad   &   \\text{Thursday} = x_1 + x_2 + x_3 + x_4 + x_7 &\\ge 19\\\\\n",
    "            \\quad   &   \\text{Friday} = x_1 + x_2 + x_3 + x_4 + x_5 &\\ge 14\\\\\n",
    "            \\quad   &   \\text{Saturday} = x_2 + x_3 + x_4 + x_5 + x_6 &\\ge 16\\\\\n",
    "            \\quad   &   \\text{Sunday} = x_3 + x_4 + x_5 + x_6 + x_7 &\\ge 11\\\\\n",
    "            \\quad   &   x_i &\\in \\mathbb{Z}^+ && \\forall i \\in \\{1,2,3,4,5,6,7\\}\n",
    "\\end{align*}"
   ]
  },
  {
   "cell_type": "code",
   "execution_count": 8,
   "metadata": {},
   "outputs": [
    {
     "name": "stdout",
     "output_type": "stream",
     "text": [
      "Mon \t= 2 employees\n",
      "Tues \t= 6 employees\n",
      "Wed \t= 0 employees\n",
      "Thurs \t= 7 employees\n",
      "Fri \t= 0 employees\n",
      "Sat \t= 3 employees\n",
      "Sun \t= 5 employees\n",
      "\n",
      "Minimum number of employees to hire: 23\n"
     ]
    }
   ],
   "source": [
    "days = range(7)\n",
    "emps = [17, 13, 15, 19, 14, 16, 11]\n",
    "n_days = len(days)\n",
    "day_dict = dict(zip(days, [\"Mon\", \"Tues\", \"Wed\", \"Thurs\", \"Fri\", \"Sat\", \"Sun\"]))\n",
    "\n",
    "model = LpProblem(\"min_employees\", LpMinimize)\n",
    "\n",
    "x = LpVariable.dicts(\"x\", days, lowBound=0, cat=\"Integer\")\n",
    "\n",
    "model += lpSum([x[i] for i in days])\n",
    "\n",
    "for i in days:\n",
    "    model += lpSum(([x[i] + x[(i-4)%n_days]] + x[(i-3)%n_days] + x[(i-2)%n_days] + x[(i-1)%n_days])) >= emps[i]\n",
    "\n",
    "model.solve()\n",
    "\n",
    "if model.status == 1:\n",
    "    for k, v in x.items():\n",
    "        print(f\"{day_dict[k]} \\t= {v.varValue:,.0f} employees\")\n",
    "    print()\n",
    "    print(f\"Minimum number of employees to hire: {model.objective.value():,.0f}\")"
   ]
  },
  {
   "cell_type": "markdown",
   "metadata": {},
   "source": [
    "### Problems"
   ]
  },
  {
   "cell_type": "markdown",
   "metadata": {},
   "source": [
    "1. In the post office example, suppose that each full-time employee works 8 hours per day. Thus, Monday’s requirement of 17 workers may be viewed as a requirement of 8(17) = 136 hours. The post office may meet its daily labor requirements by using both full-time and part-time employees. During each week, a full-time employee works 8 hours a day for five consecutive days, and a part-time employee works 4 hours a day for five consecutive days. A full-time employee costs the post office $15 per hour, whereas a part-time employee (with reduced fringe benefits) costs the post office only $10 per hour. Union requirements limit part-time labor to 25% of weekly labor requirements. Formulate an LP to minimize the post office’s weekly labor costs."
   ]
  },
  {
   "cell_type": "markdown",
   "metadata": {},
   "source": [
    "| Day | Hours Required\n",
    "|-----|----------------------------------------\n",
    "| 0 = Monday | 136\n",
    "| 1 = Tuesday | 104 \n",
    "| 2 = Wednesday | 120 \n",
    "| 3 = Thursday | 152 \n",
    "| 4 = Friday | 112 \n",
    "| 5 = Saturday | 128 \n",
    "| 6 = Sunday | 88 \n"
   ]
  },
  {
   "cell_type": "markdown",
   "metadata": {},
   "source": [
    "\\begin{aligned}\n",
    "\\min \\quad & \\sum^6_{i=0}15f_i + 10p_i\n",
    "\\quad\\\\\n",
    "\\text{s.t.} \\quad   &   8f_i + 4p_i & \\ge \\text{hours required for day } i && \\forall i \\in \\{0,...,6\\}\\\\\n",
    "            \\quad   &   \\sum^{6}_{i=0}4p_i &\\le \\sum^{6}_{i=0}0.25(8f_i)\\\\\n",
    "            \\quad   &   f_i, p_i    &\\in    \\mathbb{Z}^+  && \\forall i \\in \\{0,...,6\\}\n",
    "\\end{aligned}"
   ]
  },
  {
   "cell_type": "code",
   "execution_count": 9,
   "metadata": {},
   "outputs": [
    {
     "name": "stdout",
     "output_type": "stream",
     "text": [
      "f0 = 17.0 | p0 = 0.0\n",
      "f1 = 13.0 | p1 = 0.0\n",
      "f2 = 15.0 | p2 = 0.0\n",
      "f3 = 19.0 | p3 = 0.0\n",
      "f4 = 14.0 | p4 = 0.0\n",
      "f5 = 16.0 | p5 = 0.0\n",
      "f6 = 11.0 | p6 = 0.0\n"
     ]
    }
   ],
   "source": [
    "hours = [136, 104, 120, 152, 112, 128, 88]\n",
    "f_c = 15\n",
    "p_c = 10\n",
    "f_h = 8\n",
    "p_h = 4\n",
    "\n",
    "hours = dict(zip(days, hours))\n",
    "\n",
    "f = LpVariable.dicts(\"f\", days, lowBound=0, cat=\"Integer\")\n",
    "p = LpVariable.dicts(\"p\", days, lowBound=0, cat=\"Integer\")\n",
    "\n",
    "model = LpProblem(\"minimize_cost\", LpMinimize)\n",
    "\n",
    "model += f_c * lpSum(f[i] for i in days)  + p_c * lpSum(p[i] for i in days)\n",
    "\n",
    "for i in days:\n",
    "    model += f_h * f[i] + p_h * p[i] >= hours[i]\n",
    "\n",
    "model += lpSum([4 * p[i] for i in days]) <= 0.25 * lpSum([8 * f[i] for i in days])\n",
    "\n",
    "model.solve()\n",
    "\n",
    "if model.status == 1:\n",
    "    for (k0, v0), (k1, v1) in zip(f.items(), p.items()):\n",
    "        print(f\"f{k0} = {v0.varValue} | p{k1} = {v1.varValue}\")"
   ]
  },
  {
   "cell_type": "markdown",
   "metadata": {},
   "source": [
    "2. During each 4-hour period, the Smalltown police force requires the following number of on-duty police officers: 12 midnight to 4 A.M.—8; 4 to 8 A.M.—7; 8 A.M. to 12 noon—6; 12 noon to 4 P.M.—6; 4 to 8 P.M.—5; 8 P.M. to 12 midnight—4. Each police officer works two consecutive 4-hour shifts. Formulate an LP that can be used to minimize the number of police officers needed to meet Smalltown’s daily requirements."
   ]
  },
  {
   "cell_type": "markdown",
   "metadata": {},
   "source": [
    "Time| Idx| Officers\n",
    "-|-|-\n",
    "12AM - 4AM|0|8\n",
    "4AM - 8AM|1|7\n",
    "8AM - 12PM|2|6\n",
    "12PM - 4PM|3|6\n",
    "4PM - 8PM|4|5\n",
    "8PM - 12AM|5|4"
   ]
  },
  {
   "cell_type": "markdown",
   "metadata": {},
   "source": [
    "\\begin{aligned}\n",
    "\\min    \\quad   &   \\sum^5_{i=0}o_i\\\\\n",
    "\\text{s.t.}    \\quad   &   o_i + o_{i-1} &\\ge \\text{officers needed in chunk } i\\\\\n",
    "        \\quad   &   o_i &\\in    \\mathbb{Z}^+\n",
    "\\end{aligned}"
   ]
  },
  {
   "cell_type": "code",
   "execution_count": 10,
   "metadata": {},
   "outputs": [
    {
     "name": "stdout",
     "output_type": "stream",
     "text": [
      "12AM - 4AM \t= 2 officers\n",
      "4AM - 8AM \t= 5 officers\n",
      "8AM - 12PM \t= 1 officers\n",
      "12PM - 4PM \t= 5 officers\n",
      "4PM - 8PM \t= 0 officers\n",
      "8PM - 12AM \t= 6 officers\n",
      "\n",
      "Minimum number of officers to hire: 19\n"
     ]
    }
   ],
   "source": [
    "chunks = range(6)\n",
    "officers = [8, 7, 6, 6, 5, 4]\n",
    "n_chunks = len(chunks)\n",
    "time_dict = dict(zip(chunks, [\"12AM - 4AM\", \"4AM - 8AM\", \"8AM - 12PM\", \"12PM - 4PM\", \"4PM - 8PM\", \"8PM - 12AM\"]))\n",
    "\n",
    "model = LpProblem(\"min_OFFICERS\", LpMinimize)\n",
    "\n",
    "o = LpVariable.dicts(\"o\", chunks, lowBound=0, cat=\"Integer\")\n",
    "\n",
    "model += lpSum([o[i] for i in chunks])\n",
    "\n",
    "for i in chunks:\n",
    "    model += lpSum([o[i] + o[(i-1)%n_chunks]]) >= officers[i]\n",
    "\n",
    "model.solve()\n",
    "\n",
    "if model.status == 1:\n",
    "    for k, v in o.items():\n",
    "        print(f\"{time_dict[k]} \\t= {v.varValue:,.0f} officers\")\n",
    "    print()\n",
    "    print(f\"Minimum number of officers to hire: {model.objective.value():,.0f}\")"
   ]
  },
  {
   "cell_type": "markdown",
   "metadata": {},
   "source": [
    "3. During each 6-hour period of the day, the Bloomington Police Department needs at least the number of policemen shown below. Policemen can be hired to work either 12 consecutive hours or 18 consecutive hours. Policemen are paid $4 per hour for each of the first 12 hours a day they work and are paid $6 per hour for each of the next 6 hours they work in a day. Formulate an LP that can be used to minimize the cost of meeting Bloomington’s daily police requirements.\n",
    "\n",
    "Idx| Time Period  | Number of Policemen Required |\n",
    "---|--------------|------------------------------|\n",
    "0  | 12 A.M.–6 A.M. | 12                         |\n",
    "1  | 6 A.M.–12 P.M. | 8                          |\n",
    "2  | 12 P.M.–6 P.M. | 6                          |\n",
    "3  | 6 P.M.–12 A.M. | 15                         |\n"
   ]
  },
  {
   "cell_type": "markdown",
   "metadata": {},
   "source": [
    "\\begin{aligned}\n",
    "\\min            &&  48(x_0 + x_1 + x_2 + x_3) + 84(y_0 + y_1 + y_2 + y_3)\\\\\n",
    "\\text{s.t.}     &&  x_0 + x_3 + y_0 + y_3 + y_2 &&\\ge 12\\\\\n",
    "                &&  x_1 + x_0 + y_1 + y_0 + y_3 &&\\ge 8\\\\\n",
    "                &&  x_2 + x_1 + y_2 + y_1 + y_0 &&\\ge 6\\\\\n",
    "                &&  x_3 + x_2 + y_3 + y_2 + y_1 &&\\ge 15\n",
    "\\end{aligned}"
   ]
  },
  {
   "cell_type": "markdown",
   "metadata": {},
   "source": [
    "4. Each hour from 10 A.M. to 7 P.M., Bank One receives checks and must process them. Its goal is to process all the checks the same day they are received. The bank has 13 check-processing machines, each of which can process up to 500 checks per hour. It takes one worker to operate each machine. Bank One hires both full-time and part-time workers. Full-time workers work 10 A.M.–6 P.M., 11 A.M.–7 P.M., or Noon–8 P.M. and are paid $160 per day. Part-time workers work either 2 P.M.–7 P.M. or 3 P.M.–8 P.M. and are paid $75 per day. The number of checks received each hour is given below. In the interest of maintaining continuity, Bank One believes it must have at least three full-time workers under contract. Develop a cost-minimizing work schedule that processes all checks by 8 P.M."
   ]
  },
  {
   "cell_type": "markdown",
   "metadata": {},
   "source": [
    "| Time    | Checks Received | \n",
    "|---------|-----------------|\n",
    "| 10 A.M. | 5,000           | \n",
    "| 11 A.M. | 4,000           | \n",
    "| Noon    | 3,000           |\n",
    "| 1 P.M.  | 4,000           | \n",
    "| 2 P.M.  | 2,500           | \n",
    "| 3 P.M.  | 3,000           | \n",
    "| 4 P.M.  | 4,000           | \n",
    "| 5 P.M.  | 4,500           |\n",
    "| 6 P.M.  | 3,500           | \n",
    "| 7 P.M.  | 3,000           | \n",
    "\n",
    "\\begin{aligned}\n",
    "                \\quad   &   \\text{var}                      & C_{\\text{received}} \\quad & C_0 \\quad & C_{\\text{processed}} \\quad & C_{1}\\\\\n",
    "10\\text{ A.M.}  \\quad   &   f_1                             & 5000 \\quad & 5000 \\quad & 500f_1 \\quad & 5000 - 500f_1\\\\\n",
    "11\\text{ A.M.}  \\quad   &   f_1 + f_2                       & 4000 \\quad & 9000 - 500f_1 \\quad & 500(f_1 + f_2) \\quad & 9000 - 1000f_1 - 500f_2  \\\\\n",
    "12\\text{ P.M.}  \\quad   &   f_1 + f_2 + f_3                 & 3000 \\quad & 12000 - 1000f_1 - 500f_2 \\quad & 500(f_1 + f_2 + f_3) \\quad & ...\\\\\n",
    "1\\text{ P.M.}   \\quad   &   f_1 + f_2 + f_3                 & 4000 \\quad & ... \\quad & 500(f_1 + f_2 + f_3) \\quad & ...\\\\\n",
    "2\\text{ P.M.}   \\quad   &   f_1 + f_2 + f_3 + p_1           & 2500 \\quad & ... \\quad & 500(f_1 + f_2 + f_3 + p_1) \\quad & ...\\\\\n",
    "3\\text{ P.M.}   \\quad   &   f_1 + f_2 + f_3 + p_1 + p_2     & 3000 \\quad & ... \\quad & 500(f_1 + f_2 + f_3 + p_1 + p_2) \\quad & ...\\\\\n",
    "4\\text{ P.M.}   \\quad   &   f_1 + f_2 + f_3 + p_1 + p_2     & 4000 \\quad & ... \\quad & 500(f_1 + f_2 + f_3 + p_1 + p_2) \\quad & ...\\\\\n",
    "5\\text{ P.M.}   \\quad   &   f_1 + f_2 + f_3 + p_1 + p_2     & 4500 \\quad & ... \\quad & 500(f_1 + f_2 + f_3 + p_1 + p_2) \\quad & ...\\\\\n",
    "6\\text{ P.M.}   \\quad   &   f_2 + f_3 + p_1 + p_2           & 3500 \\quad & ... \\quad & 500(f_2 + f_3 + p_1 + p_2) \\quad & ...\\\\\n",
    "7\\text{ P.M.}   \\quad   &   f_3 + p_2                       & 3000 \\quad & ... \\quad & 500(f_3 + p_2) \\quad & ...\\\\[10pt]                                                                                                                                       \n",
    "\\end{aligned}\n"
   ]
  },
  {
   "cell_type": "markdown",
   "metadata": {},
   "source": [
    "\\begin{aligned}\n",
    "&& 36500 - 8(500f_1) - 8(500f_2) - 8(500f_3) - 5(500p_1) - 5(500p_2) \\quad & = 0\\\\\n",
    "\\rightarrow \\quad && 36500 - 500(8f_1 + 8f_2 + 8f_3 + 5p_1 + 5p_2) \\quad & = 0\\\\\n",
    "\\rightarrow \\quad && 73 - (8f_1 + 8f_2 + 8f_3 + 5p_1 + 5p_2) \\quad & = 0\\\\\n",
    "\\rightarrow \\quad && 8f_1 + 8f_2 + 8f_3 + 5p_1 + 5p_2 \\quad & = 73\\\\\n",
    "\\end{aligned}\n"
   ]
  },
  {
   "cell_type": "markdown",
   "metadata": {},
   "source": [
    "\\begin{aligned}\n",
    "\\min \\quad & 160(f_1 + f_2 + f_3) + 75(p_1 + p_2)\\\\\n",
    "\\text{s.t.} \\quad   &   8f_1 + 8f_2 + 8f_3 + 5p_1 + 5p_2 &= 73\\\\\n",
    "            \\quad   &   f_1 + f_2 + f_3 &\\ge 3\\\\\n",
    "            \\quad   &   f_1 + f_2 + f_3 + p_1 + p_2 &\\le 13\\\\\n",
    "            \\quad   &   f_1, f_2, f_3, p_1, p_2 &\\ge 0\n",
    "\\end{aligned}"
   ]
  },
  {
   "cell_type": "code",
   "execution_count": 11,
   "metadata": {},
   "outputs": [
    {
     "name": "stdout",
     "output_type": "stream",
     "text": [
      "f1 = 6.0\n",
      "f2 = 0.0\n",
      "f3 = 0.0\n",
      "\n",
      "p1 = 5.0\n",
      "p2 = 0.0\n",
      "\n",
      "Cost: $1,335.00\n"
     ]
    }
   ],
   "source": [
    "f_i = [1, 2, 3]\n",
    "p_i = [1, 2]\n",
    "\n",
    "f = LpVariable.dicts(\"f\", f_i, lowBound=0, cat=\"Integer\")\n",
    "p = LpVariable.dicts('p', p_i, lowBound=0, cat=\"Integer\")\n",
    "\n",
    "model = LpProblem(\"min_cost\", LpMinimize)\n",
    "\n",
    "model += lpSum([160 * f[i] for i in f_i] + [75 * p[j] for j in p_i])\n",
    "\n",
    "model += lpSum([8 * f[i] for i in f_i] + [5 * p[j] for j in p_i]) == 73\n",
    "\n",
    "model += lpSum([f[i] for i in f_i]) >= 3\n",
    "\n",
    "model += lpSum([f[i] for i in f_i] + [p[j] for j in p_i]) <= 13\n",
    "\n",
    "model.solve()\n",
    "\n",
    "for k, v in f.items():\n",
    "    print(f\"f{k} = {v.varValue}\")\n",
    "print()\n",
    "for k, v in p.items():\n",
    "    print(f\"p{k} = {v.varValue}\")\n",
    "print()\n",
    "print(f\"Cost: ${model.objective.value():,.2f}\")"
   ]
  },
  {
   "cell_type": "code",
   "execution_count": 12,
   "metadata": {},
   "outputs": [
    {
     "data": {
      "text/plain": [
       "(True, True, True, [True, True, True], [True, True])"
      ]
     },
     "execution_count": 12,
     "metadata": {},
     "output_type": "execute_result"
    }
   ],
   "source": [
    "const_1 = np.sum([8 * f[i].varValue for i in f_i] + [5 * p[j].varValue for j in p_i])\n",
    "const_2 = np.sum([f[i].varValue for i in f_i])\n",
    "const_3 = np.sum([f[i].varValue for i in f_i] + [p[j].varValue for j in p_i])\n",
    "\n",
    "const_1 == 73, const_2 >= 3, const_3 <= 13, [f[i].varValue >= 0 for i in f_i], [p[i].varValue >= 0 for i in p_i]"
   ]
  }
 ],
 "metadata": {
  "kernelspec": {
   "display_name": "base",
   "language": "python",
   "name": "python3"
  },
  "language_info": {
   "codemirror_mode": {
    "name": "ipython",
    "version": 3
   },
   "file_extension": ".py",
   "mimetype": "text/x-python",
   "name": "python",
   "nbconvert_exporter": "python",
   "pygments_lexer": "ipython3",
   "version": "3.11.5"
  }
 },
 "nbformat": 4,
 "nbformat_minor": 2
}

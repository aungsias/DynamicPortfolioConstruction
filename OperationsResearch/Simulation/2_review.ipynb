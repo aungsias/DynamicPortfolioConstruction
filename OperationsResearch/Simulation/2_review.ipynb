{
 "cells": [
  {
   "cell_type": "markdown",
   "metadata": {},
   "source": [
    "### 1. \n",
    "\n",
    "A news vendor sells newspapers and tries to maximize\n",
    "profits. The number of papers sold each day is a random\n",
    "variable. However, analysis of the past month’s data shows\n",
    "the distribution of daily demand in the table below. A paper costs\n",
    "the vendor 20¢. The vendor sells the paper for 30¢. Any\n",
    "unsold papers are returned to the publisher for a credit of\n",
    "10¢. Any unsatisfied demand is estimated to cost 10¢ in\n",
    "goodwill and lost profit. If the policy is to order a quantity\n",
    "equal to the preceding day’s demand, determine the average\n",
    "daily profit of the news vendor by simulating this system.\n",
    "Assume that the demand for day 0 is equal to 32.\n",
    "\n",
    "Demand per Day|Probability\n",
    ":-:|:-:\n",
    "30|.05\n",
    "31|.15\n",
    "32|.22\n",
    "33|.38\n",
    "34|.14\n",
    "35|.06"
   ]
  },
  {
   "cell_type": "code",
   "execution_count": 133,
   "metadata": {},
   "outputs": [
    {
     "name": "stdout",
     "output_type": "stream",
     "text": [
      "$3.05\n"
     ]
    }
   ],
   "source": [
    "import random\n",
    "import pandas as pd\n",
    "\n",
    "def generate_demand(demand_dict):\n",
    "\n",
    "    r, c = random.random(), 0\n",
    "\n",
    "    for d, p in demand_dict.items():\n",
    "        c += p\n",
    "        if c >= r:\n",
    "            return d\n",
    "        \n",
    "demand_per_day = {\n",
    "    30: 0.05,\n",
    "    31: 0.15,\n",
    "    32: 0.22,\n",
    "    33: 0.38,\n",
    "    34: 0.14,\n",
    "    35: 0.06\n",
    "}\n",
    "\n",
    "\n",
    "sim = pd.DataFrame({\n",
    "    \"demand\": [generate_demand(demand_per_day) for _ in range(10_000)]\n",
    "})\n",
    "\n",
    "sim.index.name = \"day\"\n",
    "sim.index += 1\n",
    "\n",
    "sim[\"policy\"] = sim[\"demand\"].shift().fillna(32).astype(int)\n",
    "\n",
    "sim[\"profit\"] = sim.apply(\n",
    "    lambda r: r[\"policy\"] * 0.3 - (r[\"demand\"] - r[\"policy\"])*0.1 - r[\"policy\"] * 0.2 if r[\"policy\"] < r[\"demand\"] \\\n",
    "        else r[\"demand\"] * 0.3 + (r[\"policy\"] - r[\"demand\"])*0.1 - r[\"policy\"] * 0.2 if r[\"policy\"] > r[\"demand\"] \\\n",
    "            else r[\"demand\"] * 0.3 - r[\"demand\"] * 0.2, \\\n",
    "                axis=1\n",
    ")\n",
    "\n",
    "print(f\"${sim['profit'].mean():,.2f}\")"
   ]
  },
  {
   "cell_type": "markdown",
   "metadata": {},
   "source": []
  }
 ],
 "metadata": {
  "kernelspec": {
   "display_name": "base",
   "language": "python",
   "name": "python3"
  },
  "language_info": {
   "codemirror_mode": {
    "name": "ipython",
    "version": 3
   },
   "file_extension": ".py",
   "mimetype": "text/x-python",
   "name": "python",
   "nbconvert_exporter": "python",
   "pygments_lexer": "ipython3",
   "version": "3.11.5"
  }
 },
 "nbformat": 4,
 "nbformat_minor": 2
}

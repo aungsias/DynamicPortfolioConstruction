{
 "cells": [
  {
   "cell_type": "markdown",
   "metadata": {},
   "source": [
    "# Linear Programming"
   ]
  },
  {
   "cell_type": "markdown",
   "metadata": {},
   "source": [
    "## 1. Introduction\n"
   ]
  },
  {
   "cell_type": "code",
   "execution_count": 233,
   "metadata": {},
   "outputs": [],
   "source": [
    "import pandas as pd\n",
    "import numpy as np\n",
    "import matplotlib.pyplot as plt\n",
    "\n",
    "from pulp import *"
   ]
  },
  {
   "cell_type": "markdown",
   "metadata": {},
   "source": [
    "***Example***<br>\n",
    "Giapetto’s Woodcarving, Inc., manufactures two types of wooden toys: soldiers and trains. A soldier sells for $27 and uses $10 worth of raw materials. Each soldier that is manufactured increases Giapetto’s variable labor and overhead costs by $14. A train sells for $21 and uses $9 worth of raw materials. Each train built increases Giapetto’s variable labor and overhead costs by $10. The manufacture of wooden soldiers and trains requires two types of skilled labor: carpentry and finishing. A soldier requires 2 hours of finishing labor and 1 hour of carpentry labor. A train requires 1 hour of finishing and 1 hour of carpentry labor. Each week, Giapetto can obtain all the needed raw material but only 100 finishing hours and 80 carpentry hours. Demand for trains is unlimited, but at most 40 soldiers are bought each week. Giapetto wants to maximize weekly profit (revenues – costs). Formulate a mathematical model of Giapetto’s situation that can be used to maximize Giapetto’s weekly profit."
   ]
  },
  {
   "cell_type": "markdown",
   "metadata": {},
   "source": [
    "***Solution***<br>\n",
    "Let $x_s$ and $x_t$ equal the number of soldiers and trains produced, respectively:\n",
    "$$\\text{profit} = x_s (27 - 10 - 14) + x_t (21 - 9 - 10)$$\n",
    "$$=3x_s + 2x_t$$\n",
    "\n",
    "<br>\n",
    "\n",
    "\\begin{align*}\n",
    "\\max                \\quad   &   3x_s + 2x_t\\\\\n",
    "\\text{s.t.}         \\quad   &   2x_s + x_t \\le 100\\\\\n",
    "                    \\quad   &   x_s + x_t \\le 80\\\\\n",
    "                    \\quad   &   x_s \\le 40\\\\\n",
    "                    \\quad   &   x_s,x_t \\in \\mathbb{Z}^+\n",
    "\\end{align*}\n",
    "\n",
    "The constraints here are:\n",
    "- The weekly sum of finishing labor hours taken to produce soldiers and trains must not exceed 100 hours.\n",
    "- The weekly sum of carpentry labor hours taken to produce soldiers and trains must not exceed 80 hours.\n",
    "- The weekly quantity produced of soldiers must be at most the demand for soldiers.\n",
    "- The quantity of soldiers and trains must be positive integers.\n",
    "$$\\text{ }$$"
   ]
  },
  {
   "cell_type": "code",
   "execution_count": 234,
   "metadata": {},
   "outputs": [
    {
     "name": "stdout",
     "output_type": "stream",
     "text": [
      "soldiers = 20.0 units\n",
      "trains = 60.0 units\n"
     ]
    }
   ],
   "source": [
    "products = [\"soldiers\", \"trains\"]\n",
    "resources = [\"finishing\", \"carpentry\"]\n",
    "\n",
    "product_data = pd.DataFrame([\n",
    "    [27, 10, 14],\n",
    "    [21,  9, 10]\n",
    "], index=products, columns=[\"revenue\", \"material_cost\", \"var_cost\"])\n",
    "\n",
    "model = LpProblem(\"maximize_profit\", LpMaximize)\n",
    "\n",
    "x = LpVariable.dicts(\"x\", products, lowBound=0, cat=\"Integer\")\n",
    "\n",
    "model += lpSum([\n",
    "    x[p] * (\n",
    "        product_data.loc[p, \"revenue\"] - product_data.loc[p, \"material_cost\"] - product_data.loc[p, \"var_cost\"]\n",
    "    ) for p in products\n",
    "])\n",
    "\n",
    "model += 2 * x[\"soldiers\"] + x[\"trains\"] <= 100\n",
    "model += x[\"soldiers\"] + x[\"trains\"] <= 80\n",
    "model += x[\"soldiers\"] <= 40\n",
    "\n",
    "model.solve()\n",
    "\n",
    "if model.status == 1:\n",
    "    \n",
    "    for k, v in x.items():\n",
    "        print(f\"{k} = {v.varValue} units\")"
   ]
  },
  {
   "cell_type": "markdown",
   "metadata": {},
   "source": [
    "The core components of a **linear programming problem** are:\n",
    "1. Maximization/minimization of a *linear* function of the decision variable - this function is the *objective function*.\n",
    "\n",
    "2. The values of the decision variables must satisfy a set of *constraints*, each a linear equation or linear inequality.\n",
    "\n",
    "3. A *sign restriction* is associated with each variable; for any variable $x_i$, the sign restriction specifies that $x_i$ must either be nonnegative $\\left(x_i \\ge 0 \\right)$ or unrestricted in sign $\\left( \\text{urs} \\right)$."
   ]
  },
  {
   "cell_type": "markdown",
   "metadata": {},
   "source": [
    "### Problems\n",
    "\n",
    "1. Farmer Jones must determine how many acres of corn and wheat to plant this year. An acre of wheat yields 25 bushels of wheat and requires 10 hours of labor per week. An acre of corn yields 10 bushels of corn and requires 4 hours of labor per week. All wheat can be sold at $4 a bushel, and all corn can be sold at $3 a bushel. Seven acres of land and 40 hours per week of labor are available. Government regulations require that at least 30 bushels of corn be produced during the current year. Let $x_1$ = number of acres of corn planted, and $x_2$ = number of acres of wheat planted. Using these decision variables, formulate an LP whose solution will tell Farmer Jones how to maximize the total revenue from wheat and corn."
   ]
  },
  {
   "cell_type": "markdown",
   "metadata": {},
   "source": [
    "$$\\text{revenue} = (10 \\times 3)x_1 + (25 \\times 4)x_2$$\n",
    "$$=30x_1 + 100x_2$$\n",
    "\n",
    "<br>\n",
    "\n",
    "\\begin{align*}\n",
    "\n",
    "\\max            \\quad   &   30x_1 + 100x_2          \\\\\n",
    "\\text{s.t.}     \\quad   &   x_1 + x_2 \\le 7  \\quad & \\text{(Land Constraint)}         \\\\\n",
    "                \\quad   &   4x_1 + 10x_2 \\le 40 \\quad &  \\text{(Labor Constraint)}     \\\\\n",
    "                \\quad   &   x_1 \\ge 3  \\quad &  \\text{(Demand Compliance Constraint)}              \\\\\n",
    "                \\quad   &   x_1,x_2 \\in \\mathbb{Z}^+\n",
    "\n",
    "\\end{align*}"
   ]
  },
  {
   "cell_type": "markdown",
   "metadata": {},
   "source": [
    "2. Using the variables $x_1 = \\text{number of bushels of corn}$ and $x_2 = \\text{number of bushels of wheat produced}$, reformulate the LP."
   ]
  },
  {
   "cell_type": "markdown",
   "metadata": {},
   "source": [
    "$$\\text{revenue} = 3x_1 + 4x_2$$\n",
    "\n",
    "<br>\n",
    "\n",
    "\\begin{align*}\n",
    "\\max                \\quad   &   3x_1 + 4x_2                                 \\\\[10pt]\n",
    "\\text{s.t.}         \\quad   &   \\frac{x_1}{10} + \\frac{1x_2}{25} \\le 7     \\\\[10pt]\n",
    "                    \\quad   &   \\frac{2x_1}{5} + \\frac{2x_2}{5} \\le 40      \\\\[10pt]\n",
    "                    \\quad   &   x_1 \\ge 30                      \\\\[10pt]\n",
    "                    \\quad   &   x_1,x_2 \\in \\mathbb{Z}^+       \n",
    "\n",
    "\\end{align*}"
   ]
  },
  {
   "cell_type": "markdown",
   "metadata": {},
   "source": [
    "3. Truckco manufactures two types of trucks: 1 and 2. Each truck must go through the painting shop and assembly shop. If the painting shop were completely devoted to painting Type 1 trucks, then 800 per day could be painted; if the painting shop were completely devoted to painting Type 2 trucks, then 700 per day could be painted. If the assembly shop were completely devoted to assembling truck 1 engines, then 1,500 per day could be assembled; if the assembly shop were completely devoted to assembling truck 2 engines, then 1,200 per day could be assembled. Each Type 1 truck contributes $300 to profit; each Type 2 truck contributes $500. Formulate an LP that will maximize Truckco’s profit."
   ]
  },
  {
   "cell_type": "markdown",
   "metadata": {},
   "source": [
    "$$\\text{profit} = 300x_1 + 500x_2$$\n",
    "\n",
    "<br>\n",
    "\n",
    "\\begin{align*}\n",
    "\n",
    "\\max                \\quad   &   300x_1 + 500x_2 \\\\[10pt]\n",
    "\\text{s.t.}         \\quad   &   \\frac{x_1}{800} + \\frac{x_2}{700} \\le 1 \\\\[10pt]\n",
    "                    \\quad   &   \\frac{x_1}{1500} + \\frac{x_2}{1200} \\le 1\\\\[10pt]\n",
    "                    \\quad   &   x_1,x_2 \\in \\mathbb{Z}^+\n",
    "\n",
    "\\end{align*}"
   ]
  },
  {
   "cell_type": "markdown",
   "metadata": {},
   "source": [
    "## 2. Binding and Nonbinding Constraints"
   ]
  },
  {
   "cell_type": "markdown",
   "metadata": {},
   "source": [
    "***Binding*** A constraint is binding if the left-hand side and the right-hand side of the constraint are equal when the optimal values of the decision variables are subbed into the constraint.\n",
    "\\\n",
    "\\\n",
    "***Nonbinding*** A constraint is nonbinding if the left-hand side and the right-hand side of the constraint are unequal when the optimal values of the decision variables are substituted into the constraint."
   ]
  },
  {
   "cell_type": "markdown",
   "metadata": {},
   "source": [
    "## 3. Alternative or Multiple Optimal Solutions"
   ]
  },
  {
   "cell_type": "markdown",
   "metadata": {},
   "source": [
    "***Example***<br>\n",
    "An auto company manufactures cars and trucks. Each vehicle must be processed in the paint shop and body assembly shop. If the paint shop were only painting trucks, then 40 per day could be painted. If the paint shop were only painting cars, then 60 per day could be painted. If the body shop were only producing cars, then it could process 50 per day. If the body shop were only producing trucks, then it could process 50 per day. Each truck contributes $300 to profit, and each car contributes $200 to profit. Use linear programming to determine a daily production schedule that will maximize the company’s profits."
   ]
  },
  {
   "cell_type": "markdown",
   "metadata": {},
   "source": [
    "***Solution***<br>\n",
    "$$\\text{profit}=200x_c + 300x_t$$\n",
    "\n",
    "\\begin{align*}\n",
    "\\max                \\quad   &   200x_c + 300x_t\\\\[10pt]\n",
    "\\text{s.t.}         \\quad   &   \\frac{x_c}{60} + \\frac{x_t}{40} \\le 1\\\\[10pt]\n",
    "                    \\quad   &   \\frac{x_c}{50} + \\frac{x_t}{50} \\le 1\\\\[10pt]\n",
    "                    \\quad   &   x_c,x_t \\in \\mathbb{Z}^+\n",
    "\\end{align*}\n",
    "\n",
    "<br>\n",
    "\n",
    "\n",
    "$$\\text{isoprofit point} = (0, 20)$$\n",
    "\n",
    "$$\\text{profit} = 200\\left[0\\right] + 300\\left[20\\right]=6000$$\n",
    "\n",
    "\\begin{align*}\n",
    "\\rightarrow \\quad   & 200x_c + 300x_t = 6000\\\\\n",
    "\\rightarrow \\quad   & x_t =  -\\frac{2}{3}x_c + 20\n",
    "\\end{align*}"
   ]
  },
  {
   "cell_type": "code",
   "execution_count": 235,
   "metadata": {},
   "outputs": [
    {
     "data": {
      "image/png": "[encoded data removed]",
      "text/plain": [
       "<Figure size 1000x600 with 1 Axes>"
      ]
     },
     "metadata": {},
     "output_type": "display_data"
    }
   ],
   "source": [
    "def constraint1(x):\n",
    "    return (1 - x / 60) * 40\n",
    "\n",
    "def constraint2(x):\n",
    "    return (1 - x / 50) * 50\n",
    "\n",
    "def isoprofit(xi):\n",
    "    return -(2/3)*xi + 20\n",
    "\n",
    "x = np.linspace(0, 100, 400)\n",
    "\n",
    "\n",
    "plt.figure(figsize=(10, 6))\n",
    "plt.plot(x, constraint1(x), label=r'$\\frac{x_c}{60} + \\frac{x_t}{40} \\leq 1$')\n",
    "plt.plot(x, constraint2(x), label=r'$\\frac{x_c}{50} + \\frac{x_t}{50} \\leq 1$')\n",
    "plt.plot(x, isoprofit(x), label=\"isoprofit\")\n",
    "\n",
    "y_min = np.minimum(constraint1(x), constraint2(x))\n",
    "plt.fill_between(x, 0, y_min, interpolate=True, alpha=0.3)\n",
    "\n",
    "plt.xlim(0, 100)\n",
    "plt.ylim(0, 100)\n",
    "plt.xlabel(r'$x_c$')\n",
    "plt.ylabel(r'$x_t$')\n",
    "plt.title('Feasible Region of the LP Problem')\n",
    "plt.legend()\n",
    "plt.grid(True)\n",
    "plt.show()"
   ]
  },
  {
   "cell_type": "markdown",
   "metadata": {},
   "source": [
    "Here, we see that the isoprofit line $x_t =  -\\frac{2}{3}x_c + 20$ is parallel to the first constraint. This indicates a multi-solution linear programming problem."
   ]
  },
  {
   "cell_type": "markdown",
   "metadata": {},
   "source": [
    "## 4. Infeasible & Unbounded problems\n",
    "\n",
    "An ***infeasible problem*** is one where no solution exists that satisfies all constraints simultaneously. For example:\n",
    "\n",
    "\\begin{align*}\n",
    "\\max            \\quad & z = x_1 + x_2 \\\\\n",
    "\\text{s.t.}     \\quad & x_1 + 2x_2 &\\le 5 \\\\\n",
    "                \\quad & 2x_1 + 4x_2 &\\ge 12 \\\\\n",
    "                \\quad & x_1 - x_2 &\\ge 3 \\\\\n",
    "                \\quad & x_1, x_2 &\\ge 0\n",
    "\\end{align*}\n",
    "\n",
    "In this example, the first and third constraints are inconsistent with each other, making it impossible to find a solution that satisfies both. If we attempt to graph these constraints, we'll find that the feasible regions do not overlap, thus the problem is infeasible.\n",
    "\n",
    "An ***unbounded problem*** is one where the objective function can increase indefinitely without ever violating any of the constraints. For example:\n",
    "\\begin{align*}\n",
    "\\max            \\quad & z = 3x_1 + 3x_2 \\\\\n",
    "\\text{s.t.}     \\quad & x_1 - x_2 &\\ge 2 \\\\\n",
    "                \\quad & -x_1 + 2x_2 &\\le 4 \\\\\n",
    "                \\quad & x_1 &\\ge 0\n",
    "\\end{align*}\n",
    "\n",
    "In this example, there is no upper limit for $x_2$ in the objective function or the constraints. So, as $x_2$ grows larger, the value of the objective function will also grow larger without bound. This means the LP problem is unbounded.\n",
    "\n",
    "***Note:*** Carefully analyze the problem and constraints to correctly identify infeasible and unbounded problems. In practical applications, LP solvers will typically return a status indicating whether the problem is infeasible, unbounded, or if an optimal solution has been found."
   ]
  },
  {
   "cell_type": "markdown",
   "metadata": {},
   "source": [
    "## 5. A Diet Problem\n",
    "\n",
    "My diet requires that all the food I eat come from one of the four “basic food groups” (chocolate cake, ice cream, soda, and cheesecake). At present, the following four foods are available for consumption: brownies, chocolate ice cream, cola, and pineapple cheesecake. Each brownie costs 50¢, each scoop of chocolate ice cream costs 20¢, each bottle of cola costs 30¢, and each piece of pineapple cheesecake costs 80¢. Each day, I must ingest at least 500 calories, 6 oz of chocolate, 10 oz of sugar, and 8 oz of fat. The nutritional content per unit of each food is shown in Table 2. Formulate a linear programming model that can be used to satisfy my daily nutritional requirements at minimum cost:"
   ]
  },
  {
   "cell_type": "markdown",
   "metadata": {},
   "source": [
    "| Type of Food       | Calories | Chocolate (Ounces) | Sugar (Ounces) | Fat (Ounces) |\n",
    "|--------------------|----------|---------------------|----------------|--------------|\n",
    "| Brownie            | 400      | 3                   | 2              | 2            |\n",
    "| Chocolate ice cream (1 scoop) | 200 | 2 | 2 | 4 |\n",
    "| Cola (1 bottle)    | 150      | 0                   | 4              | 1            |\n",
    "| Pineapple cheesecake (1 piece) | 500 | 0 | 4 | 5 |\n"
   ]
  },
  {
   "cell_type": "markdown",
   "metadata": {},
   "source": [
    "\n",
    "<br>\n",
    "\n",
    "\\begin{align*}\n",
    "\n",
    "\\min                \\quad   &   \\text{cost} = 50x_b + 20x_i + 30x_c + 80x_p \\\\\n",
    "\\text{s.t.}         \\quad   &   \\text{calories} = 400x_b + 200x_i + 150x_c + 500x_p &\\ge 500\\\\\n",
    "                    \\quad   &   \\text{chocolate} = 3x_b + 2x_i &\\ge 6\\\\\n",
    "                    \\quad   &   \\text{sugar} = 2x_b + 2x_i + 4x_c + 4x_p &\\ge  10\\\\\n",
    "                    \\quad   &   \\text{fat} = 2x_b + 4x_i + x_c + 5x_p &\\ge 8\\\\\n",
    "                    \\quad   &   x_b,x_i,x_c,x_p & \\in \\mathbb{Z}^+\n",
    "\\end{align*}"
   ]
  },
  {
   "cell_type": "code",
   "execution_count": 236,
   "metadata": {},
   "outputs": [
    {
     "name": "stdout",
     "output_type": "stream",
     "text": [
      "b = 0.0\n",
      "i = 3.0\n",
      "c = 1.0\n",
      "p = 0.0\n",
      "\n",
      "cost = 90.0¢\n",
      "calories = 750.0\n"
     ]
    }
   ],
   "source": [
    "def calories(vec):\n",
    "    return 400*vec[0] + 200*vec[1] + 150*vec[2] + 500*vec[3]\n",
    "\n",
    "ps = [\"b\", \"i\", \"c\", \"p\"]\n",
    "cals = [400, 200, 150, 500]\n",
    "choc = [3, 2, 0, 0]\n",
    "sugar = [2, 2, 4, 4]\n",
    "fat = [2, 4, 1, 5]\n",
    "min_reqs = [500, 6, 10, 8]\n",
    "cost = [50, 20, 30, 80]\n",
    "\n",
    "model = LpProblem(\"minimize_cost\", LpMinimize)\n",
    "\n",
    "x = LpVariable.dicts(\"x\", ps, lowBound=0, cat=\"Integer\")\n",
    "\n",
    "model += lpSum([x[ps[i]] * cost[i] for i in range(len(ps))])\n",
    "\n",
    "for n, req in zip([cals, choc, sugar, fat], min_reqs): \n",
    "    model += lpSum([x[ps[i]] * n[i] for i in range(len(ps))]) >= req\n",
    "\n",
    "model.solve()\n",
    "\n",
    "if model.status == 1:\n",
    "    for k, v in x.items():\n",
    "        print(f\"{k} = {v.varValue}\")\n",
    "    print()\n",
    "    print(f\"cost = {model.objective.value()}¢\")\n",
    "    print(f\"calories = {calories([v.varValue for v in x.values()])}\")"
   ]
  },
  {
   "cell_type": "markdown",
   "metadata": {},
   "source": [
    "### Problems"
   ]
  },
  {
   "cell_type": "markdown",
   "metadata": {},
   "source": [
    "1. There are three factories on the Momiss River (1, 2, and 3). Each emits two types of pollutants (1 and 2) into the river. If the waste from each factory is processed, the pollution in the river can be reduced. It costs $15 to process a ton of factory 1 waste, and each ton processed reduces the amount of pollutant 1 by 0.10 ton and the amount of pollutant 2 by 0.45 ton. It costs $10 to process a ton of factory 2 waste, and each ton processed will reduce the amount of pollutant 1 by 0.20 ton and the amount of pollutant 2 by 0.25 ton. It costs $20 to process a ton of factory 3 waste, and each ton processed will reduce the amount of pollutant 1 by 0.40 ton and the amount of pollutant 2 by 0.30 ton. The state wants to reduce the amount of pollutant 1 in the river by at least 30 tons and the amount of pollutant 2 in the river by at least 40 tons. Formulate an LP that will minimize the cost of reducing pollution by the desired amounts. Do you think that the LP assumptions (Proportionality, Additivity, Divisibility, and Certainty) are reasonable for this problem?"
   ]
  },
  {
   "cell_type": "markdown",
   "metadata": {},
   "source": [
    "\\begin{align*}\n",
    "\\min            \\quad   &   15w_1 + 10w_2 + 20w_3\\\\\n",
    "\\text{s.t.}     \\quad   &   0.1w_1 + 0.2w_2 + 0.4w_3 &\\ge 30\\\\\n",
    "                \\quad   &   0.45w_1 + 0.25w_2 + 0.3w_3 &\\ge 40\\\\\n",
    "                \\quad   &   w_1,w_2,w_3 &\\in    \\mathbb{R}^+\n",
    "\\end{align*}"
   ]
  },
  {
   "cell_type": "markdown",
   "metadata": {},
   "source": [
    ">Regarding the Linear Programming (LP) assumptions of Proportionality, Additivity, Divisibility, and Certainty in the context of the pollution reduction problem:\n",
    ">\n",
    ">- **Proportionality**: This assumption is valid if the cost and pollution reduction per ton of waste processed are constant. For this scenario, each factory's cost and effectiveness in reducing pollutants per ton of waste are specified as constant, fulfilling this assumption.\n",
    ">\n",
    ">- **Additivity**: This assumes that the total cost and pollution reduction are the sum of individual contributions without interaction effects. This seems reasonable here, as the total cost and pollution reduction are presented as the sum of the individual costs and reductions from each factory's waste processing.\n",
    ">\n",
    ">- **Divisibility**: This implies that the decision variables (tons of waste processed) can take on fractional values. While waste processing might not always be perfectly divisible, especially on smaller scales, for a large-scale operation as implied here, this assumption is likely reasonable, allowing for fractional tons in the model.\n",
    ">\n",
    ">- **Certainty**: This assumes that all coefficients (costs and pollution reduction rates) are known and constant. The problem statement provides fixed costs and reduction rates, suggesting that the model operates under certainty. However, in real-world scenarios, these factors might vary due to various external factors, introducing some level of uncertainty.\n",
    ">\n",
    ">While the LP assumptions appear reasonable within the simplified context of the problem, real-world complexities could challenge these assumptions, particularly the aspects of divisibility and certainty.\n"
   ]
  },
  {
   "cell_type": "markdown",
   "metadata": {},
   "source": [
    "2. U.S. Labs manufactures mechanical heart valves from the heart valves of pigs. Different heart operations require valves of different sizes. U.S. Labs purchases pig valves from three different suppliers. The cost and size mix of the valves purchased from each supplier are given in the table below. Each month, U.S. Labs places one order with each supplier. At least 500 large, 300 medium, and 300 small valves must be purchased each month. Because of limited availability of pig valves, at most 700 valves per month can be purchased from each supplier. Formulate an LP that can be used to minimize the cost of acquiring the needed valves."
   ]
  },
  {
   "cell_type": "markdown",
   "metadata": {},
   "source": [
    "| Supplier | Cost Per Valve ($) | Percent Large | Percent Medium | Percent Small |\n",
    "|----------|--------------------|---------------|----------------|---------------|\n",
    "| 1        | 5                  | 40%           | 40%            | 20%           |\n",
    "| 2        | 4                  | 30%           | 35%            | 35%           |\n",
    "| 3        | 3                  | 20%           | 20%            | 60%           |"
   ]
  },
  {
   "cell_type": "markdown",
   "metadata": {},
   "source": [
    "\\begin{align*}\n",
    "\n",
    "\\min            \\quad   &   5x_1 + 4x_2 + 3x_3\\\\\n",
    "\\text{s.t.}     \\quad   &   0.4x_1 + 0.3x_2 + 0.2x_3    &\\ge    500\\\\\n",
    "                \\quad   &   0.4x_1 + 0.35x_2 + 0.2x_3    &\\ge   300\\\\\n",
    "                \\quad   &   0.2x_1 + 0.35x_2 + 0.6x_3    &\\ge   300\\\\\n",
    "                \\quad   &   0 \\le x_1,x_2,x_3 \\le 700\\\\\n",
    "                \\quad   &   x_1,x_2,x_3 \\in \\mathbb{Z}\n",
    "\n",
    "\\end{align*}"
   ]
  },
  {
   "cell_type": "markdown",
   "metadata": {},
   "source": [
    "3. Peg and Al Fundy have a limited food budget, so Peg is trying to feed the family as cheaply as possible. However, she still wants to make sure her family members meet their daily nutritional requirements. Peg can buy two foods. Food 1 sells for $7 per pound, and each pound contains 3 units of vitamin A and 1 unit of vitamin C. Food 2 sells for $1 per pound, and each pound contains 1 unit of each vitamin. Each day, the family needs at least 12 units of vitamin A and 6 units of vitamin C.Verify that Peg should purchase 12 units of food 2 each day and thus oversatisfy the vitamin C requirement by 6 units."
   ]
  },
  {
   "cell_type": "markdown",
   "metadata": {},
   "source": [
    "\n",
    "\\begin{align*}\n",
    "\\min            \\quad   &   \\text{cost} = 7x_1 + x_2 \\\\\n",
    "\\text{s.t}      \\quad   &   \\text{vitamin A} = 3x_1 + x_2 &\\ge 12 \\\\\n",
    "                \\quad   &   \\text{vitamin C} = x_1 + x_2 &\\ge 6\\\\\n",
    "                \\quad   &   x_1,x_2 & \\in \\mathbb{Z}^+\n",
    "\\end{align*}"
   ]
  },
  {
   "cell_type": "code",
   "execution_count": 237,
   "metadata": {},
   "outputs": [
    {
     "name": "stdout",
     "output_type": "stream",
     "text": [
      "6.0\n",
      "\n",
      "1 = 0.0\n",
      "2 = 12.0\n"
     ]
    }
   ],
   "source": [
    "def const_1(vec):\n",
    "    return 3*vec[0] + vec[1]\n",
    "\n",
    "def const_2(vec):\n",
    "    return vec[0] + vec[1]\n",
    "\n",
    "foods = [1, 2]\n",
    "costs = [7, 1]\n",
    "vit_a = [3, 1]\n",
    "vit_c = [1, 1]\n",
    "consts = [12, 6]\n",
    "\n",
    "model = LpProblem(\"min_cost\", LpMinimize)\n",
    "\n",
    "x = LpVariable.dicts(\"x\", foods, lowBound=0, cat=\"Integer\")\n",
    "\n",
    "model += lpSum([x[foods[i]] * costs[i] for i in range(len(foods))])\n",
    "\n",
    "for n, const in zip([vit_a, vit_c], consts):\n",
    "    model += lpSum([x[foods[i]] * n[i] for i in range(len(foods))]) >= const\n",
    "\n",
    "model.solve()\n",
    "\n",
    "if model.status == 1:\n",
    "    print(x[2].varValue - consts[1])\n",
    "    print()\n",
    "    for k, v in x.items():\n",
    "        print(f\"{k} = {v.varValue}\")"
   ]
  },
  {
   "cell_type": "markdown",
   "metadata": {},
   "source": [
    "3. Goldilocks  needs  to  find  at  least  12  lb  of  gold  and  at\n",
    "least 18 lb of silver to pay the monthly rent. There are two\n",
    "mines  in  which  Goldilocks  can  find  gold  and  silver.  Each\n",
    "day that Goldilocks spends in mine 1, she finds 2 lb of gold\n",
    "and 2 lb of silver. Each day that Goldilocks spends in mine\n",
    "2, she finds 1 lb of gold and 3 lb of silver. Formulate an LP\n",
    "to help Goldilocks meet her requirements while spending as\n",
    "little time as possible in the mines. Graphically solve the LP."
   ]
  },
  {
   "cell_type": "markdown",
   "metadata": {},
   "source": [
    "\\begin{align*}\n",
    "\\min    \\quad   &   t_1 + t_2\\\\\n",
    "\\text{s.t.} \\quad   &   2t_1 + t_2 &\\ge 12 && (\\text{gold})\\\\\n",
    "            \\quad   &   2t_1 + 3t_2 &\\ge 18 && (\\text{silver})\\\\\n",
    "            \\quad   &   t_1,t_2 &\\in \\mathbb{R}^+\n",
    "\\end{align*}"
   ]
  },
  {
   "cell_type": "markdown",
   "metadata": {},
   "source": [
    "\\begin{align*}\n",
    "\n",
    "\\text{gold} \\quad   &   t_2 \\ge -2t_1 + 12\\\\\n",
    "\\text{silver}   \\quad   &   t_2 \\ge -\\frac{2}{3}t_1 + 6\n",
    "\n",
    "\\end{align*}"
   ]
  },
  {
   "cell_type": "code",
   "execution_count": 238,
   "metadata": {},
   "outputs": [
    {
     "name": "stdout",
     "output_type": "stream",
     "text": [
      "1 = 4.5\n",
      "2 = 3.0\n"
     ]
    },
    {
     "data": {
      "image/png": "[encoded data removed]",
      "text/plain": [
       "<Figure size 640x480 with 1 Axes>"
      ]
     },
     "metadata": {},
     "output_type": "display_data"
    }
   ],
   "source": [
    "def gold_const(t1):\n",
    "    return -2*t1 + 12\n",
    "\n",
    "def silver_const(t1):\n",
    "    return (-2/3)*t1 + 6\n",
    "\n",
    "mines = [1, 2]\n",
    "reqs = [12, 18]\n",
    "gold = [2, 1]\n",
    "silver = [2, 3]\n",
    "\n",
    "model = LpProblem(\"min_time\", LpMinimize)\n",
    "\n",
    "t = LpVariable.dicts(\"t\", mines, lowBound=0, cat=\"Continuous\")\n",
    "\n",
    "model += lpSum([t[m] for m in mines])\n",
    "\n",
    "for n, c in zip([gold, silver], reqs):\n",
    "    model += lpSum([n[i] * t[mines[i]] for i in range(len(mines))]) >= c\n",
    "\n",
    "model.solve()\n",
    "\n",
    "optimal_solution = []\n",
    "for k, v in t.items():\n",
    "    print(f\"{k} = {v.varValue}\")\n",
    "    optimal_solution.append(v.varValue)\n",
    "\n",
    "t1s = np.linspace(0, 15, 10000)\n",
    "\n",
    "plt.plot(t1s, gold_const(t1s), color=\"k\")\n",
    "plt.plot(t1s, silver_const(t1s), color=\"k\")\n",
    "plt.ylim(0, 12)\n",
    "plt.xlim(0, 12)\n",
    "\n",
    "plt.fill_between(t1s, gold_const(t1s), 12, gold_const(t1s) > silver_const(t1s), color=\"grey\")\n",
    "plt.fill_between(t1s, silver_const(t1s), 12, silver_const(t1s) > gold_const(t1s), color=\"grey\")\n",
    "plt.scatter(optimal_solution[0], optimal_solution[1], color=\"k\", label=tuple(optimal_solution))\n",
    "\n",
    "plt.legend()\n",
    "plt.show()"
   ]
  },
  {
   "cell_type": "markdown",
   "metadata": {},
   "source": [
    "## 6. Scheduling\n",
    "\n",
    "***Example***<br>\n",
    "A post office requires different numbers of full-time employees on different days of the week. The number of full-time employees required on each day is given below. Union rules state that each full-time employee must work five consecutive days and then receive two days off. For example, an employee who works Monday to Friday must be off on Saturday and Sunday. The post office wants to meet its daily requirements using only full-time employees. Formulate an LP that the post office can use to minimize the number of full-time employees who must be hired.\n",
    "\n",
    "| Day | Number of Full-time Employees Required |\n",
    "|-----|----------------------------------------|\n",
    "| 1 = Monday | 17 |\n",
    "| 2 = Tuesday | 13 |\n",
    "| 3 = Wednesday | 15 |\n",
    "| 4 = Thursday | 19 |\n",
    "| 5 = Friday | 14 |\n",
    "| 6 = Saturday | 16 |\n",
    "| 7 = Sunday | 11 |\n"
   ]
  },
  {
   "cell_type": "markdown",
   "metadata": {},
   "source": [
    "***Solution***\n",
    "\n",
    "\\begin{align*}\n",
    "\\text{total number of employees } \\quad & E = x_1 + x_2 + x_3 + x_4 + x_5 + x_6 + x_7\\\\\n",
    "\\quad\\\\\n",
    "\\min \\quad & E\\\\\n",
    "\\text{s.t.} \\quad   &   \\text{Monday} = x_1 + x_4 + x_5 + x_6 + x_7 &\\ge 17\\\\\n",
    "            \\quad   &   \\text{Tuesday} = x_1 + x_2 + x_5 + x_6 + x_7 &\\ge 13\\\\\n",
    "            \\quad   &   \\text{Wednesday} = x_1 + x_2 + x_3 + x_6 + x_7 &\\ge 15\\\\\n",
    "            \\quad   &   \\text{Thursday} = x_1 + x_2 + x_3 + x_4 + x_7 &\\ge 19\\\\\n",
    "            \\quad   &   \\text{Friday} = x_1 + x_2 + x_3 + x_4 + x_5 &\\ge 14\\\\\n",
    "            \\quad   &   \\text{Saturday} = x_2 + x_3 + x_4 + x_5 + x_6 &\\ge 16\\\\\n",
    "            \\quad   &   \\text{Sunday} = x_3 + x_4 + x_5 + x_6 + x_7 &\\ge 11\\\\\n",
    "            \\quad   &   x_i &\\in \\mathbb{Z}^+ && \\forall i \\in \\{1,2,3,4,5,6,7\\}\n",
    "\\end{align*}"
   ]
  },
  {
   "cell_type": "code",
   "execution_count": 239,
   "metadata": {},
   "outputs": [
    {
     "name": "stdout",
     "output_type": "stream",
     "text": [
      "Mon \t= 2 employees\n",
      "Tues \t= 6 employees\n",
      "Wed \t= 0 employees\n",
      "Thurs \t= 7 employees\n",
      "Fri \t= 0 employees\n",
      "Sat \t= 3 employees\n",
      "Sun \t= 5 employees\n",
      "\n",
      "Minimum number of employees to hire: 23\n"
     ]
    }
   ],
   "source": [
    "days = range(7)\n",
    "emps = [17, 13, 15, 19, 14, 16, 11]\n",
    "n_days = len(days)\n",
    "day_dict = dict(zip(days, [\"Mon\", \"Tues\", \"Wed\", \"Thurs\", \"Fri\", \"Sat\", \"Sun\"]))\n",
    "\n",
    "model = LpProblem(\"min_employees\", LpMinimize)\n",
    "\n",
    "x = LpVariable.dicts(\"x\", days, lowBound=0, cat=\"Integer\")\n",
    "\n",
    "model += lpSum([x[i] for i in days])\n",
    "\n",
    "for i in days:\n",
    "    model += lpSum(([x[i] + x[(i-4)%n_days]] + x[(i-3)%n_days] + x[(i-2)%n_days] + x[(i-1)%n_days])) >= emps[i]\n",
    "\n",
    "model.solve()\n",
    "\n",
    "if model.status == 1:\n",
    "    for k, v in x.items():\n",
    "        print(f\"{day_dict[k]} \\t= {v.varValue:,.0f} employees\")\n",
    "    print()\n",
    "    print(f\"Minimum number of employees to hire: {model.objective.value():,.0f}\")"
   ]
  },
  {
   "cell_type": "markdown",
   "metadata": {},
   "source": [
    "### Problems"
   ]
  },
  {
   "cell_type": "markdown",
   "metadata": {},
   "source": [
    "1. In the post office example, suppose that each full-time employee works 8 hours per day. Thus, Monday’s requirement of 17 workers may be viewed as a requirement of 8(17) = 136 hours. The post office may meet its daily labor requirements by using both full-time and part-time employees. During each week, a full-time employee works 8 hours a day for five consecutive days, and a part-time employee works 4 hours a day for five consecutive days. A full-time employee costs the post office $15 per hour, whereas a part-time employee (with reduced fringe benefits) costs the post office only $10 per hour. Union requirements limit part-time labor to 25% of weekly labor requirements. Formulate an LP to minimize the post office’s weekly labor costs."
   ]
  },
  {
   "cell_type": "markdown",
   "metadata": {},
   "source": [
    "| Day | Hours Required\n",
    "|-----|----------------------------------------\n",
    "| 0 = Monday | 136\n",
    "| 1 = Tuesday | 104 \n",
    "| 2 = Wednesday | 120 \n",
    "| 3 = Thursday | 152 \n",
    "| 4 = Friday | 112 \n",
    "| 5 = Saturday | 128 \n",
    "| 6 = Sunday | 88 \n"
   ]
  },
  {
   "cell_type": "markdown",
   "metadata": {},
   "source": [
    "\\begin{aligned}\n",
    "\\min \\quad & \\sum^6_{i=0}15f_i + 10p_i\n",
    "\\quad\\\\\n",
    "\\text{s.t.} \\quad   &   8f_i + 4p_i & \\ge \\text{hours required for day } i && \\forall i \\in \\{0,...,6\\}\\\\\n",
    "            \\quad   &   \\sum^{6}_{i=0}4p_i &\\le \\sum^{6}_{i=0}0.25(8f_i)\\\\\n",
    "            \\quad   &   f_i, p_i    &\\in    \\mathbb{Z}^+  && \\forall i \\in \\{0,...,6\\}\n",
    "\\end{aligned}"
   ]
  },
  {
   "cell_type": "code",
   "execution_count": 240,
   "metadata": {},
   "outputs": [
    {
     "name": "stdout",
     "output_type": "stream",
     "text": [
      "f0 = 17.0 | p0 = 0.0\n",
      "f1 = 13.0 | p1 = 0.0\n",
      "f2 = 15.0 | p2 = 0.0\n",
      "f3 = 19.0 | p3 = 0.0\n",
      "f4 = 14.0 | p4 = 0.0\n",
      "f5 = 16.0 | p5 = 0.0\n",
      "f6 = 11.0 | p6 = 0.0\n"
     ]
    }
   ],
   "source": [
    "hours = [136, 104, 120, 152, 112, 128, 88]\n",
    "f_c = 15\n",
    "p_c = 10\n",
    "f_h = 8\n",
    "p_h = 4\n",
    "\n",
    "hours = dict(zip(days, hours))\n",
    "\n",
    "f = LpVariable.dicts(\"f\", days, lowBound=0, cat=\"Integer\")\n",
    "p = LpVariable.dicts(\"p\", days, lowBound=0, cat=\"Integer\")\n",
    "\n",
    "model = LpProblem(\"minimize_cost\", LpMinimize)\n",
    "\n",
    "model += f_c * lpSum(f[i] for i in days)  + p_c * lpSum(p[i] for i in days)\n",
    "\n",
    "for i in days:\n",
    "    model += f_h * f[i] + p_h * p[i] >= hours[i]\n",
    "\n",
    "model += lpSum([4 * p[i] for i in days]) <= 0.25 * lpSum([8 * f[i] for i in days])\n",
    "\n",
    "model.solve()\n",
    "\n",
    "if model.status == 1:\n",
    "    for (k0, v0), (k1, v1) in zip(f.items(), p.items()):\n",
    "        print(f\"f{k0} = {v0.varValue} | p{k1} = {v1.varValue}\")"
   ]
  },
  {
   "cell_type": "markdown",
   "metadata": {},
   "source": [
    "2. During each 4-hour period, the Smalltown police force requires the following number of on-duty police officers: 12 midnight to 4 A.M.—8; 4 to 8 A.M.—7; 8 A.M. to 12 noon—6; 12 noon to 4 P.M.—6; 4 to 8 P.M.—5; 8 P.M. to 12 midnight—4. Each police officer works two consecutive 4-hour shifts. Formulate an LP that can be used to minimize the number of police officers needed to meet Smalltown’s daily requirements."
   ]
  },
  {
   "cell_type": "markdown",
   "metadata": {},
   "source": [
    "Time| Idx| Officers\n",
    "-|-|-\n",
    "12AM - 4AM|0|8\n",
    "4AM - 8AM|1|7\n",
    "8AM - 12PM|2|6\n",
    "12PM - 4PM|3|6\n",
    "4PM - 8PM|4|5\n",
    "8PM - 12AM|5|4"
   ]
  },
  {
   "cell_type": "markdown",
   "metadata": {},
   "source": [
    "\\begin{aligned}\n",
    "\\min    \\quad   &   \\sum^5_{i=0}o_i\\\\\n",
    "\\text{s.t.}    \\quad   &   o_i + o_{i-1} &\\ge \\text{officers needed in chunk } i\\\\\n",
    "        \\quad   &   o_i &\\in    \\mathbb{Z}^+\n",
    "\\end{aligned}"
   ]
  },
  {
   "cell_type": "code",
   "execution_count": 241,
   "metadata": {},
   "outputs": [
    {
     "name": "stdout",
     "output_type": "stream",
     "text": [
      "12AM - 4AM \t= 2 officers\n",
      "4AM - 8AM \t= 5 officers\n",
      "8AM - 12PM \t= 1 officers\n",
      "12PM - 4PM \t= 5 officers\n",
      "4PM - 8PM \t= 0 officers\n",
      "8PM - 12AM \t= 6 officers\n",
      "\n",
      "Minimum number of officers to hire: 19\n"
     ]
    }
   ],
   "source": [
    "chunks = range(6)\n",
    "officers = [8, 7, 6, 6, 5, 4]\n",
    "n_chunks = len(chunks)\n",
    "time_dict = dict(zip(chunks, [\"12AM - 4AM\", \"4AM - 8AM\", \"8AM - 12PM\", \"12PM - 4PM\", \"4PM - 8PM\", \"8PM - 12AM\"]))\n",
    "\n",
    "model = LpProblem(\"min_OFFICERS\", LpMinimize)\n",
    "\n",
    "o = LpVariable.dicts(\"o\", chunks, lowBound=0, cat=\"Integer\")\n",
    "\n",
    "model += lpSum([o[i] for i in chunks])\n",
    "\n",
    "for i in chunks:\n",
    "    model += lpSum([o[i] + o[(i-1)%n_chunks]]) >= officers[i]\n",
    "\n",
    "model.solve()\n",
    "\n",
    "if model.status == 1:\n",
    "    for k, v in o.items():\n",
    "        print(f\"{time_dict[k]} \\t= {v.varValue:,.0f} officers\")\n",
    "    print()\n",
    "    print(f\"Minimum number of officers to hire: {model.objective.value():,.0f}\")"
   ]
  },
  {
   "cell_type": "markdown",
   "metadata": {},
   "source": [
    "3. During each 6-hour period of the day, the Bloomington Police Department needs at least the number of policemen shown below. Policemen can be hired to work either 12 consecutive hours or 18 consecutive hours. Policemen are paid $4 per hour for each of the first 12 hours a day they work and are paid $6 per hour for each of the next 6 hours they work in a day. Formulate an LP that can be used to minimize the cost of meeting Bloomington’s daily police requirements.\n",
    "\n",
    "Idx| Time Period  | Number of Policemen Required |\n",
    "---|--------------|------------------------------|\n",
    "0  | 12 A.M.–6 A.M. | 12                         |\n",
    "1  | 6 A.M.–12 P.M. | 8                          |\n",
    "2  | 12 P.M.–6 P.M. | 6                          |\n",
    "3  | 6 P.M.–12 A.M. | 15                         |\n"
   ]
  },
  {
   "cell_type": "markdown",
   "metadata": {},
   "source": [
    "\\begin{aligned}\n",
    "\\min            &&  48(x_0 + x_1 + x_2 + x_3) + 84(y_0 + y_1 + y_2 + y_3)\\\\\n",
    "\\text{s.t.}     &&  x_0 + x_3 + y_0 + y_3 + y_2 &&\\ge 12\\\\\n",
    "                &&  x_1 + x_0 + y_1 + y_0 + y_3 &&\\ge 8\\\\\n",
    "                &&  x_2 + x_1 + y_2 + y_1 + y_0 &&\\ge 6\\\\\n",
    "                &&  x_3 + x_2 + y_3 + y_2 + y_1 &&\\ge 15\n",
    "\\end{aligned}"
   ]
  },
  {
   "cell_type": "markdown",
   "metadata": {},
   "source": [
    "4. Each hour from 10 A.M. to 7 P.M., Bank One receives checks and must process them. Its goal is to process all the checks the same day they are received. The bank has 13 check-processing machines, each of which can process up to 500 checks per hour. It takes one worker to operate each machine. Bank One hires both full-time and part-time workers. Full-time workers work 10 A.M.–6 P.M., 11 A.M.–7 P.M., or Noon–8 P.M. and are paid $160 per day. Part-time workers work either 2 P.M.–7 P.M. or 3 P.M.–8 P.M. and are paid $75 per day. The number of checks received each hour is given below. In the interest of maintaining continuity, Bank One believes it must have at least three full-time workers under contract. Develop a cost-minimizing work schedule that processes all checks by 8 P.M."
   ]
  },
  {
   "cell_type": "markdown",
   "metadata": {},
   "source": [
    "| Time    | Checks Received | \n",
    "|---------|-----------------|\n",
    "| 10 A.M. | 5,000           | \n",
    "| 11 A.M. | 4,000           | \n",
    "| Noon    | 3,000           |\n",
    "| 1 P.M.  | 4,000           | \n",
    "| 2 P.M.  | 2,500           | \n",
    "| 3 P.M.  | 3,000           | \n",
    "| 4 P.M.  | 4,000           | \n",
    "| 5 P.M.  | 4,500           |\n",
    "| 6 P.M.  | 3,500           | \n",
    "| 7 P.M.  | 3,000           | \n",
    "\n",
    "\\begin{aligned}\n",
    "                \\quad   &   \\text{var}                      & C_{\\text{received}} \\quad & C_0 \\quad & C_{\\text{processed}} \\quad & C_{1}\\\\\n",
    "10\\text{ A.M.}  \\quad   &   f_1                             & 5000 \\quad & 5000 \\quad & 500f_1 \\quad & 5000 - 500f_1\\\\\n",
    "11\\text{ A.M.}  \\quad   &   f_1 + f_2                       & 4000 \\quad & 9000 - 500f_1 \\quad & 500(f_1 + f_2) \\quad & 9000 - 1000f_1 - 500f_2  \\\\\n",
    "12\\text{ P.M.}  \\quad   &   f_1 + f_2 + f_3                 & 3000 \\quad & 12000 - 1000f_1 - 500f_2 \\quad & 500(f_1 + f_2 + f_3) \\quad & ...\\\\\n",
    "1\\text{ P.M.}   \\quad   &   f_1 + f_2 + f_3                 & 4000 \\quad & ... \\quad & 500(f_1 + f_2 + f_3) \\quad & ...\\\\\n",
    "2\\text{ P.M.}   \\quad   &   f_1 + f_2 + f_3 + p_1           & 2500 \\quad & ... \\quad & 500(f_1 + f_2 + f_3 + p_1) \\quad & ...\\\\\n",
    "3\\text{ P.M.}   \\quad   &   f_1 + f_2 + f_3 + p_1 + p_2     & 3000 \\quad & ... \\quad & 500(f_1 + f_2 + f_3 + p_1 + p_2) \\quad & ...\\\\\n",
    "4\\text{ P.M.}   \\quad   &   f_1 + f_2 + f_3 + p_1 + p_2     & 4000 \\quad & ... \\quad & 500(f_1 + f_2 + f_3 + p_1 + p_2) \\quad & ...\\\\\n",
    "5\\text{ P.M.}   \\quad   &   f_1 + f_2 + f_3 + p_1 + p_2     & 4500 \\quad & ... \\quad & 500(f_1 + f_2 + f_3 + p_1 + p_2) \\quad & ...\\\\\n",
    "6\\text{ P.M.}   \\quad   &   f_2 + f_3 + p_1 + p_2           & 3500 \\quad & ... \\quad & 500(f_2 + f_3 + p_1 + p_2) \\quad & ...\\\\\n",
    "7\\text{ P.M.}   \\quad   &   f_3 + p_2                       & 3000 \\quad & ... \\quad & 500(f_3 + p_2) \\quad & ...\\\\[10pt]                                                                                                                                       \n",
    "\\end{aligned}\n"
   ]
  },
  {
   "cell_type": "markdown",
   "metadata": {},
   "source": [
    "\\begin{aligned}\n",
    "&& 36500 - 8(500f_1) - 8(500f_2) - 8(500f_3) - 5(500p_1) - 5(500p_2) \\quad & = 0\\\\\n",
    "\\rightarrow \\quad && 36500 - 500(8f_1 + 8f_2 + 8f_3 + 5p_1 + 5p_2) \\quad & = 0\\\\\n",
    "\\rightarrow \\quad && 73 - (8f_1 + 8f_2 + 8f_3 + 5p_1 + 5p_2) \\quad & = 0\\\\\n",
    "\\rightarrow \\quad && 8f_1 + 8f_2 + 8f_3 + 5p_1 + 5p_2 \\quad & = 73\\\\\n",
    "\\end{aligned}\n"
   ]
  },
  {
   "cell_type": "markdown",
   "metadata": {},
   "source": [
    "\\begin{aligned}\n",
    "\\min \\quad & 160(f_1 + f_2 + f_3) + 75(p_1 + p_2)\\\\\n",
    "\\text{s.t.} \\quad   &   8f_1 + 8f_2 + 8f_3 + 5p_1 + 5p_2 &= 73\\\\\n",
    "            \\quad   &   f_1 + f_2 + f_3 &\\ge 3\\\\\n",
    "            \\quad   &   f_1 + f_2 + f_3 + p_1 + p_2 &\\le 13\\\\\n",
    "            \\quad   &   f_1, f_2, f_3, p_1, p_2 &\\ge 0\n",
    "\\end{aligned}"
   ]
  },
  {
   "cell_type": "code",
   "execution_count": 242,
   "metadata": {},
   "outputs": [
    {
     "name": "stdout",
     "output_type": "stream",
     "text": [
      "f1 = 6.0\n",
      "f2 = 0.0\n",
      "f3 = 0.0\n",
      "\n",
      "p1 = 5.0\n",
      "p2 = 0.0\n",
      "\n",
      "Cost: $1,335.00\n"
     ]
    }
   ],
   "source": [
    "f_i = [1, 2, 3]\n",
    "p_i = [1, 2]\n",
    "\n",
    "f = LpVariable.dicts(\"f\", f_i, lowBound=0, cat=\"Integer\")\n",
    "p = LpVariable.dicts('p', p_i, lowBound=0, cat=\"Integer\")\n",
    "\n",
    "model = LpProblem(\"min_cost\", LpMinimize)\n",
    "\n",
    "model += lpSum([160 * f[i] for i in f_i] + [75 * p[j] for j in p_i])\n",
    "\n",
    "model += lpSum([8 * f[i] for i in f_i] + [5 * p[j] for j in p_i]) == 73\n",
    "\n",
    "model += lpSum([f[i] for i in f_i]) >= 3\n",
    "\n",
    "model += lpSum([f[i] for i in f_i] + [p[j] for j in p_i]) <= 13\n",
    "\n",
    "model.solve()\n",
    "\n",
    "for k, v in f.items():\n",
    "    print(f\"f{k} = {v.varValue}\")\n",
    "print()\n",
    "for k, v in p.items():\n",
    "    print(f\"p{k} = {v.varValue}\")\n",
    "print()\n",
    "print(f\"Cost: ${model.objective.value():,.2f}\")"
   ]
  },
  {
   "cell_type": "code",
   "execution_count": 243,
   "metadata": {},
   "outputs": [
    {
     "data": {
      "text/plain": [
       "(True, True, True, [True, True, True], [True, True])"
      ]
     },
     "execution_count": 243,
     "metadata": {},
     "output_type": "execute_result"
    }
   ],
   "source": [
    "const_1 = np.sum([8 * f[i].varValue for i in f_i] + [5 * p[j].varValue for j in p_i])\n",
    "const_2 = np.sum([f[i].varValue for i in f_i])\n",
    "const_3 = np.sum([f[i].varValue for i in f_i] + [p[j].varValue for j in p_i])\n",
    "\n",
    "const_1 == 73, const_2 >= 3, const_3 <= 13, [f[i].varValue >= 0 for i in f_i], [p[i].varValue >= 0 for i in p_i]"
   ]
  },
  {
   "cell_type": "markdown",
   "metadata": {},
   "source": [
    "## Capital Budgeting"
   ]
  },
  {
   "cell_type": "markdown",
   "metadata": {},
   "source": [
    "$$\\text{NPV} = \\sum^T_{t=1}\\frac{c_t}{\\left(1 + r\\right)^t}$$\n",
    "\n",
    "$$\\$1 \\text{ today}= \\$\\left(1 + r\\right) \\text{ a year from now}$$"
   ]
  },
  {
   "cell_type": "code",
   "execution_count": 244,
   "metadata": {},
   "outputs": [],
   "source": [
    "def NPV(c_t, r):\n",
    "    return np.sum([c_t[i] / ((1 + r)**(i)) for i in range(len(c_t))])"
   ]
  },
  {
   "cell_type": "markdown",
   "metadata": {},
   "source": [
    "***Example***<br>\n",
    "For a discount rate of 15%, consider a project with the cash flows shown below:\n",
    "\n",
    "Time|1|2|3|4|5|6|7\n",
    "-|-|-|-|-|-|-|-\n",
    "$\\text{ }$|-400|200|600|-900|1000|250|230\n",
    "\n",
    "- Compute project NPV if cash flows are at the end of the year.\n",
    "- Compute project NPV if cash flows are at the beginning of the year.\n",
    "- Compute project NPV if cash flows are at the middle of the year."
   ]
  },
  {
   "cell_type": "code",
   "execution_count": 245,
   "metadata": {},
   "outputs": [
    {
     "data": {
      "text/plain": [
       "('$431.32', '$496.02', '$462.54')"
      ]
     },
     "execution_count": 245,
     "metadata": {},
     "output_type": "execute_result"
    }
   ],
   "source": [
    "cf = np.array([-400, 200, 600, -900, 1000, 250, 230])\n",
    "\n",
    "a = f\"${NPV(cf, 0.15):,.2f}\"\n",
    "b = f\"${NPV(cf, 0.15) * 1.15:,.2f}\"\n",
    "c = f\"${NPV(cf, 0.15) * (1.15 ** 0.5):,.2f}\"\n",
    "\n",
    "a, b, c"
   ]
  },
  {
   "cell_type": "markdown",
   "metadata": {},
   "source": [
    "$$\\text{XNPV} = \\sum_{t=0}^{T} \\frac{c_t}{(1 + r)^{\\frac{d_t - d_0}{365}}}$$\n"
   ]
  },
  {
   "cell_type": "code",
   "execution_count": 246,
   "metadata": {},
   "outputs": [],
   "source": [
    "def XNPV(c_t, r):\n",
    "    dates = list(c_t.keys())\n",
    "    return np.sum([c / (1 + r) ** (((dates[i] - dates[0]).days)/365) for i, c in enumerate(c_t.values())])"
   ]
  },
  {
   "cell_type": "markdown",
   "metadata": {},
   "source": [
    "***Example***<br>\n",
    "| Date    | Cash Flow |\n",
    "|---------|-----------|\n",
    "| 4/8/01  | -900      |\n",
    "| 8/15/01 | 300       |\n",
    "| 1/15/02 | 400       |\n",
    "| 6/25/02 | 200       |\n",
    "| 7/3/03  | 100       |\n"
   ]
  },
  {
   "cell_type": "code",
   "execution_count": 247,
   "metadata": {},
   "outputs": [
    {
     "data": {
      "text/plain": [
       "'$20.63'"
      ]
     },
     "execution_count": 247,
     "metadata": {},
     "output_type": "execute_result"
    }
   ],
   "source": [
    "dates = [\n",
    "    \"2001-04-08\",\n",
    "    \"2001-08-15\",\n",
    "    \"2002-01-15\",\n",
    "    \"2002-06-25\",\n",
    "    \"2003-07-03\"\n",
    "]\n",
    "\n",
    "dates = [pd.Timestamp(d) for d in dates]\n",
    "cashflow = [-900, 300, 400, 200, 100]\n",
    "c_t = dict(zip(dates, cashflow))\n",
    "\n",
    "f\"${XNPV(c_t, 0.1):,.2f}\""
   ]
  },
  {
   "cell_type": "markdown",
   "metadata": {},
   "source": [
    "Star Oil Company is considering five different investment opportunities. The cash outflows and net present values (in millions of dollars) are given in Table 7. Star Oil has \\$40 million available for investment now (time 0); it estimates that one year from now (time 1) \\$20 million will be available for investment. Star Oil may purchase any fraction of each investment. In this case, the cash outflows and NPV are adjusted accordingly. For example, if Star Oil purchases one-fifth of investment 3, then a cash outflow of $\\frac{1}{5}(5)$ = \\$1 million would be required at time 0, and a cash outflow of $\\frac{1}{5}(5)$ = \\$1 million would be required at time 1. The one-fifth share of investment 3 would yield an NPV of $\\frac{1}{5}(16)$ = \\$3.2 million. Star Oil wants to maximize the NPV that can be obtained by investing in investments 1–5. Formulate an LP that will help achieve this goal. Assume that any funds left over at time 0 cannot be used at time 1.\n",
    "\n",
    "|                       | Investment 1 | Investment 2 | Investment 3 | Investment 4 | Investment 5 |\n",
    "|-----------------------|--------------|--------------|--------------|--------------|--------------|\n",
    "| Time 0 cash outflow   | 11           | 53           | 5            | 5            | 29           |\n",
    "| Time 1 cash outflow   | 3            | 6            | 5            | 1            | 34           |\n",
    "| NPV                   | 13           | 16           | 16           | 14           | 39           |\n"
   ]
  },
  {
   "cell_type": "markdown",
   "metadata": {},
   "source": [
    "\\begin{aligned}\n",
    "\\max        &&  13x_1 + 16x_2 + 16x_3 + 14x_4 + 39x_5\\\\\n",
    "\\text{s.t.} &&  11x_1 + 53x_2 + 5x_3 + 5x_4 + 29x_5 &\\le 40\\\\\n",
    "            &&  3x_1 + 6x_2 + 5x_3 + x_4 + 34x_5 &\\le 20\\\\\n",
    "            && x_1,x_2,x_3,x_4,x_5                &\\ge 0\\\\\n",
    "            && x_1,x_2,x_3,x_4,x_5                &\\le 1\n",
    "\\end{aligned}"
   ]
  },
  {
   "cell_type": "code",
   "execution_count": 248,
   "metadata": {},
   "outputs": [
    {
     "name": "stdout",
     "output_type": "stream",
     "text": [
      "Investment 1 = 100.00%\n",
      "Investment 2 = 20.09%\n",
      "Investment 3 = 100.00%\n",
      "Investment 4 = 100.00%\n",
      "Investment 5 = 28.81%\n",
      "\n",
      "time 0: ['$11.000M', '$10.646M', '$5.000M', '$5.000M', '$8.354M']\n",
      "time 1: ['$3.000M', '$1.205M', '$5.000M', '$1.000M', '$9.795M']\n",
      "NPV: ['$13.000M', '$3.214M', '$16.000M', '$14.000M', '$11.235M']\n",
      "\n",
      "Total NPV: $57.449M\n"
     ]
    }
   ],
   "source": [
    "t0 = [11, 53, 5, 5, 29]\n",
    "t1 = [3, 6, 5, 1, 34]\n",
    "npv = [13, 16, 16, 14, 39]\n",
    "\n",
    "model = LpProblem(\"max_npv\", LpMaximize)\n",
    "\n",
    "x = LpVariable.dicts(\"x\", range(len(t0)), lowBound=0, cat=\"Continuous\")\n",
    "\n",
    "model += lpSum([npv[i] * x[i] for i in range(len(x))])\n",
    "\n",
    "model += lpSum([t0[i] * x[i] for i in range(len(x))]) <= 40\n",
    "model += lpSum([t1[i] * x[i] for i in range(len(x))]) <= 20\n",
    "\n",
    "for i in range(len(x)):\n",
    "    model += x[i] <= 1\n",
    "\n",
    "model.solve()\n",
    "\n",
    "if model.status == 1:\n",
    "    for k, v in x.items():\n",
    "        print(f\"Investment {k+1} = {v.varValue*100:,.2f}%\")\n",
    "    print()\n",
    "    print(\"time 0:\", [f\"${t0[i] * x[i].varValue:,.3f}M\" for i in range(len(x))])\n",
    "    print(\"time 1:\", [f\"${t1[i] * x[i].varValue:,.3f}M\" for i in range(len(x))])\n",
    "    print(\"NPV:\", [f\"${npv[i] * x[i].varValue:,.3f}M\" for i in range(len(x))])\n",
    "    print()\n",
    "    print(f\"Total NPV: ${model.objective.value():,.3f}M\")"
   ]
  },
  {
   "cell_type": "markdown",
   "metadata": {},
   "source": [
    "### Problems\n",
    "\n",
    "1. Two investments with varying cash flows (in thousands of dollars) are available, as shown in Table 8. At time 0, \\$10,000 is available for investment, and at time 1, \\$7,000 is available. Assuming that $r = 0.10$, set up an LP whose solution maximizes the NPV obtained from these investments. Graphically find the optimal solution to the LP.\n",
    "\n",
    "$i$|$C_0$|$C_1$|$C_2$|$C_3$|NPV\n",
    "-|-|-|-|-|-|\n",
    "1|-6|-6|7|9|$N_1$\n",
    "2|-8|-3|9|7|$N_2$\n"
   ]
  },
  {
   "cell_type": "markdown",
   "metadata": {},
   "source": [
    "\\begin{aligned}\n",
    "\\max                &&  x_1N_1 + x_2N_2\\\\\n",
    "\\text{s.t.}         &&  6x_1 + 8x_2 &\\le 10\\\\\n",
    "                    && 6x_1 + 3x_2 &\\le 7\\\\[10pt]\n",
    "\\text{where}        && N_i = \\sum^3_{t=0}\\frac{C_{ti}}{\\left(1 + 0.10 \\right)^t}\n",
    "\\end{aligned}"
   ]
  },
  {
   "cell_type": "code",
   "execution_count": 269,
   "metadata": {},
   "outputs": [
    {
     "name": "stdout",
     "output_type": "stream",
     "text": [
      "Investment 1 = 33.33%\n",
      "Investment 2 = 100.00%\n",
      "NPV: $2.33\n"
     ]
    }
   ],
   "source": [
    "t1 = [-6, -6, 7, 9]\n",
    "t2 = [-8, -3, 9, 7]\n",
    "\n",
    "r = 0.1\n",
    "N1 = NPV(t1, r)\n",
    "N2 = NPV(t2, r)\n",
    "\n",
    "model = LpProblem(\"max_npv\", LpMaximize)\n",
    "\n",
    "x = LpVariable.dicts(\"x\", [0, 1], lowBound=0, upBound=1, cat=\"Continuous\")\n",
    "\n",
    "model += x[0] * N1 + x[1] * N2\n",
    "\n",
    "model += lpSum(6*x[0] + 8*x[1]) <= 10\n",
    "model += lpSum(6*x[0] + 3*x[1]) <= 7\n",
    "\n",
    "model.solve()\n",
    "\n",
    "optimal_solution = []\n",
    "if model.status == 1:\n",
    "    for k, v in x.items():\n",
    "        print(f\"Investment {k+1} = {v.varValue*100:,.2f}%\")\n",
    "        optimal_solution.append(v.varValue)\n",
    "    print(f\"NPV: ${model.objective.value():,.2f}\")"
   ]
  },
  {
   "cell_type": "code",
   "execution_count": 266,
   "metadata": {},
   "outputs": [
    {
     "data": {
      "text/plain": [
       "(0.0, 1.0)"
      ]
     },
     "execution_count": 266,
     "metadata": {},
     "output_type": "execute_result"
    },
    {
     "data": {
      "image/png": "[encoded data removed]",
      "text/plain": [
       "<Figure size 640x480 with 1 Axes>"
      ]
     },
     "metadata": {},
     "output_type": "display_data"
    }
   ],
   "source": [
    "def const_1(x):\n",
    "    return (-6/8)*x + (10/8)\n",
    "\n",
    "def const_2(x):\n",
    "    return (-6/3)*x + (7/3)\n",
    "\n",
    "x = np.linspace(0, 1, 1000)\n",
    "\n",
    "plt.plot(x, const_2(x), color=\"k\")\n",
    "plt.plot(x, const_1(x), color=\"k\")\n",
    "\n",
    "plt.fill_between(x, const_1(x), where=const_1(x) < const_2(x), color='grey')\n",
    "plt.fill_between(x, const_2(x), where=const_1(x) > const_2(x), color='grey')\n",
    "plt.scatter(optimal_solution[1], optimal_solution[0], color=\"k\", label=tuple(optimal_solution))\n",
    "\n",
    "plt.xlim(0, 1)\n",
    "plt.ylim(0, 1)"
   ]
  },
  {
   "cell_type": "code",
   "execution_count": 252,
   "metadata": {},
   "outputs": [
    {
     "data": {
      "text/plain": [
       "(array([], dtype=int64),)"
      ]
     },
     "execution_count": 252,
     "metadata": {},
     "output_type": "execute_result"
    }
   ],
   "source": []
  }
 ],
 "metadata": {
  "kernelspec": {
   "display_name": "base",
   "language": "python",
   "name": "python3"
  },
  "language_info": {
   "codemirror_mode": {
    "name": "ipython",
    "version": 3
   },
   "file_extension": ".py",
   "mimetype": "text/x-python",
   "name": "python",
   "nbconvert_exporter": "python",
   "pygments_lexer": "ipython3",
   "version": "3.11.5"
  }
 },
 "nbformat": 4,
 "nbformat_minor": 2
}

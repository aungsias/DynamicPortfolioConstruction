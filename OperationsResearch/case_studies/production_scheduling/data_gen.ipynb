{
 "cells": [
  {
   "cell_type": "code",
   "execution_count": 5,
   "metadata": {},
   "outputs": [
    {
     "name": "stdout",
     "output_type": "stream",
     "text": [
      "0\n",
      "1\n",
      "2\n",
      "3\n",
      "4\n",
      "5\n"
     ]
    }
   ],
   "source": [
    "import numpy as np\n",
    "import pandas as pd\n",
    "\n",
    "np.random.seed(42)\n",
    "\n",
    "products = [f\"P{i}\" for i in range(1, 9)]\n",
    "\n",
    "demand = pd.DataFrame(np.random.randint(80, 150, size=(13, 8)), columns=products)\n",
    "cap = pd.DataFrame(np.random.randint(1300, 1500, size=(13, 1)), columns=['production_capacity'])\n",
    "holding_cost_rates = np.round(pd.DataFrame(np.random.uniform(0.003, 0.005, size=(13, 8)), columns=products), 4)\n",
    "production_costs = np.round(pd.DataFrame(np.random.uniform(700, 800, size=(13, 8)), columns=products), 2)\n",
    "min_inventory = np.round(demand * np.random.uniform(0.3, 0.5, size=demand.shape)).astype(int)\n",
    "max_inventory = np.round(demand * np.random.uniform(3, 4, size=demand.shape)).astype(int)\n",
    "init_inventory = pd.DataFrame(np.round(demand.mean()), columns=[\"initial_inventory\"]).astype(int)\n",
    "\n",
    "files = [\"demand\", \"cap\", \"hcr\", \"pc\", \"min_inv\", \"max_inv\", \"init_inv\"]\n",
    "data = [demand, cap, holding_cost_rates, production_costs, min_inventory, max_inventory, init_inventory]\n",
    "\n",
    "for i, (df, filename) in enumerate(zip(data, files)):\n",
    "    if i != len(files) - 1:\n",
    "        print(i)\n",
    "        df.index.name = \"week\"\n",
    "    elif i == len(files) - 1:\n",
    "        df.index.name = \"product\"\n",
    "    df.to_csv(f\"data/{filename}.csv\")"
   ]
  }
 ],
 "metadata": {
  "kernelspec": {
   "display_name": "base",
   "language": "python",
   "name": "python3"
  },
  "language_info": {
   "codemirror_mode": {
    "name": "ipython",
    "version": 3
   },
   "file_extension": ".py",
   "mimetype": "text/x-python",
   "name": "python",
   "nbconvert_exporter": "python",
   "pygments_lexer": "ipython3",
   "version": "3.11.5"
  }
 },
 "nbformat": 4,
 "nbformat_minor": 2
}

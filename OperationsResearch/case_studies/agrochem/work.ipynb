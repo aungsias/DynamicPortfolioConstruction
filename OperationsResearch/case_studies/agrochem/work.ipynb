{
 "cells": [
  {
   "cell_type": "markdown",
   "metadata": {},
   "source": [
    "## AgriChemCo Distribution Optimization Case Study"
   ]
  },
  {
   "cell_type": "code",
   "execution_count": 1,
   "metadata": {},
   "outputs": [],
   "source": [
    "import pandas as pd\n",
    "import numpy as np\n",
    "\n",
    "cap = pd.read_csv(\"cap.csv\", index_col=0)\n",
    "demand = pd.read_csv(\"demand.csv\", index_col=0)\n",
    "route_cost_prod = pd.read_csv(\"cost.csv\", index_col=0)\n",
    "\n",
    "route_cost_prod.index = [f\"{i[0]}{i[-1]}\" for i in route_cost_prod.index]\n",
    "\n",
    "dfs = [cap, route_cost_prod, demand]\n",
    "\n",
    "names = [\"CAPACITY (UNITS)\", \"ROUTE COSTS ($)\", \"DEMAND (UNITS)\"]\n",
    "\n",
    "for i, df in enumerate(dfs):\n",
    "    df.index.name = names[i]"
   ]
  },
  {
   "cell_type": "markdown",
   "metadata": {},
   "source": [
    "### Context\n",
    "You are the logistics leader at AgriChemCo, an agrochemical company specializing in the production and distribution of agricultural chemicals. The company aims to optimize the distribution of its products - Fertilizer (F), Pesticide (P), and Herbicide (H) - from manufacturing plants to various regional warehouses, ensuring that the demand at each warehouse is met at the lowest possible transportation cost.\n",
    "\n",
    "The relevant parameters are defined as:\n",
    "\n",
    "\\begin{align*}\n",
    "&   o   \\in \\{A, B, C\\},    \\\\\n",
    "&   d   \\in \\{N, S, E, W\\}, \\\\\n",
    "&   p   \\in \\{F,P,H\\}       \\\\\n",
    "\\end{align*}\n",
    "\n",
    "where:\n",
    "- $o$ represents one of three production plants\n",
    "- $d$ represents one of four warehouse locations\n",
    "- $p$ represents one of three types of products"
   ]
  },
  {
   "cell_type": "markdown",
   "metadata": {},
   "source": [
    "`cap` tells us the capacity of each plant $o$ in the production of each product $p$:"
   ]
  },
  {
   "cell_type": "code",
   "execution_count": 2,
   "metadata": {},
   "outputs": [
    {
     "data": {
      "text/html": [
       "<div>\n",
       "<style scoped>\n",
       "    .dataframe tbody tr th:only-of-type {\n",
       "        vertical-align: middle;\n",
       "    }\n",
       "\n",
       "    .dataframe tbody tr th {\n",
       "        vertical-align: top;\n",
       "    }\n",
       "\n",
       "    .dataframe thead th {\n",
       "        text-align: right;\n",
       "    }\n",
       "</style>\n",
       "<table border=\"1\" class=\"dataframe\">\n",
       "  <thead>\n",
       "    <tr style=\"text-align: right;\">\n",
       "      <th></th>\n",
       "      <th>F</th>\n",
       "      <th>P</th>\n",
       "      <th>H</th>\n",
       "    </tr>\n",
       "    <tr>\n",
       "      <th>CAPACITY (UNITS)</th>\n",
       "      <th></th>\n",
       "      <th></th>\n",
       "      <th></th>\n",
       "    </tr>\n",
       "  </thead>\n",
       "  <tbody>\n",
       "    <tr>\n",
       "      <th>A</th>\n",
       "      <td>600</td>\n",
       "      <td>500</td>\n",
       "      <td>400</td>\n",
       "    </tr>\n",
       "    <tr>\n",
       "      <th>B</th>\n",
       "      <td>300</td>\n",
       "      <td>600</td>\n",
       "      <td>300</td>\n",
       "    </tr>\n",
       "    <tr>\n",
       "      <th>C</th>\n",
       "      <td>500</td>\n",
       "      <td>400</td>\n",
       "      <td>500</td>\n",
       "    </tr>\n",
       "  </tbody>\n",
       "</table>\n",
       "</div>"
      ],
      "text/plain": [
       "                    F    P    H\n",
       "CAPACITY (UNITS)               \n",
       "A                 600  500  400\n",
       "B                 300  600  300\n",
       "C                 500  400  500"
      ]
     },
     "execution_count": 2,
     "metadata": {},
     "output_type": "execute_result"
    }
   ],
   "source": [
    "cap"
   ]
  },
  {
   "cell_type": "markdown",
   "metadata": {},
   "source": [
    "`route_cost_prod` contains data that tell us how much it costs to ship a product from plant $o$ to warehouse $d$:"
   ]
  },
  {
   "cell_type": "code",
   "execution_count": 3,
   "metadata": {},
   "outputs": [
    {
     "data": {
      "text/html": [
       "<div>\n",
       "<style scoped>\n",
       "    .dataframe tbody tr th:only-of-type {\n",
       "        vertical-align: middle;\n",
       "    }\n",
       "\n",
       "    .dataframe tbody tr th {\n",
       "        vertical-align: top;\n",
       "    }\n",
       "\n",
       "    .dataframe thead th {\n",
       "        text-align: right;\n",
       "    }\n",
       "</style>\n",
       "<table border=\"1\" class=\"dataframe\">\n",
       "  <thead>\n",
       "    <tr style=\"text-align: right;\">\n",
       "      <th></th>\n",
       "      <th>F</th>\n",
       "      <th>P</th>\n",
       "      <th>H</th>\n",
       "    </tr>\n",
       "    <tr>\n",
       "      <th>ROUTE COSTS ($)</th>\n",
       "      <th></th>\n",
       "      <th></th>\n",
       "      <th></th>\n",
       "    </tr>\n",
       "  </thead>\n",
       "  <tbody>\n",
       "    <tr>\n",
       "      <th>AN</th>\n",
       "      <td>2.0</td>\n",
       "      <td>2.5</td>\n",
       "      <td>3.0</td>\n",
       "    </tr>\n",
       "    <tr>\n",
       "      <th>AS</th>\n",
       "      <td>3.0</td>\n",
       "      <td>2.0</td>\n",
       "      <td>2.5</td>\n",
       "    </tr>\n",
       "    <tr>\n",
       "      <th>AE</th>\n",
       "      <td>2.5</td>\n",
       "      <td>3.0</td>\n",
       "      <td>2.0</td>\n",
       "    </tr>\n",
       "    <tr>\n",
       "      <th>AW</th>\n",
       "      <td>4.0</td>\n",
       "      <td>3.5</td>\n",
       "      <td>4.0</td>\n",
       "    </tr>\n",
       "    <tr>\n",
       "      <th>BN</th>\n",
       "      <td>3.0</td>\n",
       "      <td>3.5</td>\n",
       "      <td>3.0</td>\n",
       "    </tr>\n",
       "    <tr>\n",
       "      <th>BS</th>\n",
       "      <td>2.0</td>\n",
       "      <td>2.0</td>\n",
       "      <td>4.0</td>\n",
       "    </tr>\n",
       "    <tr>\n",
       "      <th>BE</th>\n",
       "      <td>4.0</td>\n",
       "      <td>4.0</td>\n",
       "      <td>2.5</td>\n",
       "    </tr>\n",
       "    <tr>\n",
       "      <th>BW</th>\n",
       "      <td>3.5</td>\n",
       "      <td>2.5</td>\n",
       "      <td>3.5</td>\n",
       "    </tr>\n",
       "    <tr>\n",
       "      <th>CN</th>\n",
       "      <td>2.5</td>\n",
       "      <td>2.0</td>\n",
       "      <td>2.5</td>\n",
       "    </tr>\n",
       "    <tr>\n",
       "      <th>CS</th>\n",
       "      <td>3.5</td>\n",
       "      <td>4.0</td>\n",
       "      <td>3.0</td>\n",
       "    </tr>\n",
       "    <tr>\n",
       "      <th>CE</th>\n",
       "      <td>3.0</td>\n",
       "      <td>3.5</td>\n",
       "      <td>3.5</td>\n",
       "    </tr>\n",
       "    <tr>\n",
       "      <th>CW</th>\n",
       "      <td>2.0</td>\n",
       "      <td>2.5</td>\n",
       "      <td>2.0</td>\n",
       "    </tr>\n",
       "  </tbody>\n",
       "</table>\n",
       "</div>"
      ],
      "text/plain": [
       "                   F    P    H\n",
       "ROUTE COSTS ($)               \n",
       "AN               2.0  2.5  3.0\n",
       "AS               3.0  2.0  2.5\n",
       "AE               2.5  3.0  2.0\n",
       "AW               4.0  3.5  4.0\n",
       "BN               3.0  3.5  3.0\n",
       "BS               2.0  2.0  4.0\n",
       "BE               4.0  4.0  2.5\n",
       "BW               3.5  2.5  3.5\n",
       "CN               2.5  2.0  2.5\n",
       "CS               3.5  4.0  3.0\n",
       "CE               3.0  3.5  3.5\n",
       "CW               2.0  2.5  2.0"
      ]
     },
     "execution_count": 3,
     "metadata": {},
     "output_type": "execute_result"
    }
   ],
   "source": [
    "route_cost_prod"
   ]
  },
  {
   "cell_type": "markdown",
   "metadata": {},
   "source": [
    "`demand` tells us the demand at each warehouse for each product:"
   ]
  },
  {
   "cell_type": "code",
   "execution_count": 4,
   "metadata": {},
   "outputs": [
    {
     "data": {
      "text/html": [
       "<div>\n",
       "<style scoped>\n",
       "    .dataframe tbody tr th:only-of-type {\n",
       "        vertical-align: middle;\n",
       "    }\n",
       "\n",
       "    .dataframe tbody tr th {\n",
       "        vertical-align: top;\n",
       "    }\n",
       "\n",
       "    .dataframe thead th {\n",
       "        text-align: right;\n",
       "    }\n",
       "</style>\n",
       "<table border=\"1\" class=\"dataframe\">\n",
       "  <thead>\n",
       "    <tr style=\"text-align: right;\">\n",
       "      <th></th>\n",
       "      <th>F</th>\n",
       "      <th>P</th>\n",
       "      <th>H</th>\n",
       "    </tr>\n",
       "    <tr>\n",
       "      <th>DEMAND (UNITS)</th>\n",
       "      <th></th>\n",
       "      <th></th>\n",
       "      <th></th>\n",
       "    </tr>\n",
       "  </thead>\n",
       "  <tbody>\n",
       "    <tr>\n",
       "      <th>N</th>\n",
       "      <td>400</td>\n",
       "      <td>300</td>\n",
       "      <td>500</td>\n",
       "    </tr>\n",
       "    <tr>\n",
       "      <th>S</th>\n",
       "      <td>500</td>\n",
       "      <td>600</td>\n",
       "      <td>200</td>\n",
       "    </tr>\n",
       "    <tr>\n",
       "      <th>E</th>\n",
       "      <td>300</td>\n",
       "      <td>200</td>\n",
       "      <td>400</td>\n",
       "    </tr>\n",
       "    <tr>\n",
       "      <th>W</th>\n",
       "      <td>200</td>\n",
       "      <td>400</td>\n",
       "      <td>100</td>\n",
       "    </tr>\n",
       "  </tbody>\n",
       "</table>\n",
       "</div>"
      ],
      "text/plain": [
       "                  F    P    H\n",
       "DEMAND (UNITS)               \n",
       "N               400  300  500\n",
       "S               500  600  200\n",
       "E               300  200  400\n",
       "W               200  400  100"
      ]
     },
     "execution_count": 4,
     "metadata": {},
     "output_type": "execute_result"
    }
   ],
   "source": [
    "demand"
   ]
  },
  {
   "cell_type": "markdown",
   "metadata": {},
   "source": [
    "### Objective\n",
    "We want to minimize the total transportation cost of distributing Fertilizer (F), Pesticide (P), and Herbicide (H) from manufacturing plants to regional warehouses."
   ]
  },
  {
   "cell_type": "markdown",
   "metadata": {},
   "source": [
    "### Solution\n",
    "\n",
    "$$\n",
    "\\begin{align*}\n",
    "\n",
    "\\min        \\quad   &   \\sum^{3}_{o=1} \\sum^{4}_{d=1} \\sum^{3}_{p=1}  C_{odp}X_{odp} \\\\\n",
    "\\text{s.t.} \\quad   &   \n",
    "\n",
    "\\end{align*}\n",
    "$$\n",
    "\n",
    "where:\n",
    "- o = index of the plant\n",
    "- d = index of the demand region\n",
    "- p = index of the product type"
   ]
  },
  {
   "cell_type": "code",
   "execution_count": 5,
   "metadata": {},
   "outputs": [
    {
     "name": "stdout",
     "output_type": "stream",
     "text": [
      "Optimal\n"
     ]
    }
   ],
   "source": [
    "from pulp import *\n",
    "\n",
    "plants = cap.index\n",
    "locs = demand.index\n",
    "prods = cap.columns\n",
    "\n",
    "problem = LpProblem(\"minimize_transportation_costs\", LpMinimize)\n",
    "\n",
    "x = LpVariable.dicts(\n",
    "    \"quantity\", ((o, d, p) for o in plants for d in locs for p in prods), \n",
    "    lowBound=0,\n",
    "    cat=\"Integer\"\n",
    ")\n",
    "\n",
    "problem += lpSum([\n",
    "    route_cost_prod.loc[f\"{o}{d}\", p] * x[(o, d, p)] \\\n",
    "        for o in plants \\\n",
    "            for d in locs \\\n",
    "                for p in prods\n",
    "])\n",
    "\n",
    "for o in plants:\n",
    "    for p in prods:\n",
    "        problem += lpSum([x[o, d, p] for d in locs]) <= cap.loc[o, p]\n",
    "\n",
    "for d in locs:\n",
    "    for p in prods:\n",
    "        problem += lpSum([x[o, d, p] for o in plants]) >= demand.loc[d, p]\n",
    "\n",
    "problem.solve()\n",
    "\n",
    "if problem.status == 1:\n",
    "    print(LpStatus[problem.status])\n",
    "    quantities = pd.DataFrame()\n",
    "    for o, d, p in x.keys():\n",
    "        quantities.loc[f\"{o}{d}\", p] = x[o, d, p].varValue\n",
    "    quantities.index.name = \"OPTIMAL QUANTITY (UNITS)\"\n",
    "else:\n",
    "    print(LpStatus[problem.status])"
   ]
  },
  {
   "cell_type": "code",
   "execution_count": 6,
   "metadata": {},
   "outputs": [
    {
     "name": "stdout",
     "output_type": "stream",
     "text": [
      "                              F      P      H\n",
      "OPTIMAL QUANTITY (UNITS)                     \n",
      "AN                        400.0    0.0    0.0\n",
      "AS                        200.0  300.0  200.0\n",
      "AE                          0.0  200.0  200.0\n",
      "AW                          0.0    0.0    0.0\n",
      "BN                          0.0    0.0  100.0\n",
      "BS                        300.0  300.0    0.0\n",
      "BE                          0.0    0.0  200.0\n",
      "BW                          0.0  300.0    0.0\n",
      "CN                          0.0  300.0  400.0\n",
      "CS                          0.0    0.0    0.0\n",
      "CE                        300.0    0.0    0.0\n",
      "CW                        200.0  100.0  100.0\n"
     ]
    }
   ],
   "source": [
    "print(quantities)"
   ]
  },
  {
   "cell_type": "code",
   "execution_count": 7,
   "metadata": {},
   "outputs": [
    {
     "name": "stdout",
     "output_type": "stream",
     "text": [
      "Total cost: $9,600.00\n"
     ]
    }
   ],
   "source": [
    "print(f\"Total cost: ${problem.objective.value():,.2f}\")"
   ]
  },
  {
   "cell_type": "code",
   "execution_count": 8,
   "metadata": {},
   "outputs": [
    {
     "data": {
      "text/plain": [
       "{'F': 1400.0, 'P': 1500.0, 'H': 1200.0}"
      ]
     },
     "execution_count": 8,
     "metadata": {},
     "output_type": "execute_result"
    }
   ],
   "source": [
    "total_prod_quantities = {p: [] for p in prods}\n",
    "\n",
    "for p in prods:\n",
    "    for o in plants:\n",
    "        for d in locs:\n",
    "            total_prod_quantities[p].append(x[o, d, p].varValue)\n",
    "    total_prod_quantities[p] = np.sum(total_prod_quantities[p])\n",
    "\n",
    "total_prod_quantities"
   ]
  },
  {
   "cell_type": "code",
   "execution_count": 9,
   "metadata": {},
   "outputs": [
    {
     "data": {
      "text/plain": [
       "{'F': '$3,300.00', 'P': '$3,400.00', 'H': '$2,900.00'}"
      ]
     },
     "execution_count": 9,
     "metadata": {},
     "output_type": "execute_result"
    }
   ],
   "source": [
    "total_prod_costs = np.sum(quantities.values * route_cost_prod.values, axis=0)\n",
    "total_prod_costs = {prods[i]: f\"${total_prod_costs[i]:,.2f}\" for i in range(len(prods))}\n",
    "\n",
    "total_prod_costs"
   ]
  },
  {
   "cell_type": "code",
   "execution_count": 10,
   "metadata": {},
   "outputs": [
    {
     "data": {
      "text/html": [
       "<div>\n",
       "<style scoped>\n",
       "    .dataframe tbody tr th:only-of-type {\n",
       "        vertical-align: middle;\n",
       "    }\n",
       "\n",
       "    .dataframe tbody tr th {\n",
       "        vertical-align: top;\n",
       "    }\n",
       "\n",
       "    .dataframe thead th {\n",
       "        text-align: right;\n",
       "    }\n",
       "</style>\n",
       "<table border=\"1\" class=\"dataframe\">\n",
       "  <thead>\n",
       "    <tr style=\"text-align: right;\">\n",
       "      <th></th>\n",
       "      <th>F</th>\n",
       "      <th>P</th>\n",
       "      <th>H</th>\n",
       "    </tr>\n",
       "  </thead>\n",
       "  <tbody>\n",
       "    <tr>\n",
       "      <th>N</th>\n",
       "      <td>400.0</td>\n",
       "      <td>300.0</td>\n",
       "      <td>500.0</td>\n",
       "    </tr>\n",
       "    <tr>\n",
       "      <th>S</th>\n",
       "      <td>500.0</td>\n",
       "      <td>600.0</td>\n",
       "      <td>200.0</td>\n",
       "    </tr>\n",
       "    <tr>\n",
       "      <th>E</th>\n",
       "      <td>300.0</td>\n",
       "      <td>200.0</td>\n",
       "      <td>400.0</td>\n",
       "    </tr>\n",
       "    <tr>\n",
       "      <th>W</th>\n",
       "      <td>200.0</td>\n",
       "      <td>400.0</td>\n",
       "      <td>100.0</td>\n",
       "    </tr>\n",
       "  </tbody>\n",
       "</table>\n",
       "</div>"
      ],
      "text/plain": [
       "       F      P      H\n",
       "N  400.0  300.0  500.0\n",
       "S  500.0  600.0  200.0\n",
       "E  300.0  200.0  400.0\n",
       "W  200.0  400.0  100.0"
      ]
     },
     "execution_count": 10,
     "metadata": {},
     "output_type": "execute_result"
    }
   ],
   "source": [
    "demand_quantity = {d: {p: [] for p in prods} for d in locs}\n",
    "\n",
    "for d in locs:\n",
    "    for o in plants:\n",
    "        for p in prods:\n",
    "            demand_quantity[d][p].append(quantities.loc[f\"{o}{d}\", p])\n",
    "            demand_quantity[d][p] = [np.sum(demand_quantity[d][p])]\n",
    "\n",
    "pd.DataFrame(demand_quantity).T.applymap(lambda x: x[0])"
   ]
  }
 ],
 "metadata": {
  "kernelspec": {
   "display_name": "base",
   "language": "python",
   "name": "python3"
  },
  "language_info": {
   "codemirror_mode": {
    "name": "ipython",
    "version": 3
   },
   "file_extension": ".py",
   "mimetype": "text/x-python",
   "name": "python",
   "nbconvert_exporter": "python",
   "pygments_lexer": "ipython3",
   "version": "3.11.5"
  }
 },
 "nbformat": 4,
 "nbformat_minor": 2
}

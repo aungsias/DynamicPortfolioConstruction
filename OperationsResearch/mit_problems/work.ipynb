{
 "cells": [
  {
   "cell_type": "code",
   "execution_count": 24,
   "metadata": {},
   "outputs": [],
   "source": [
    "from pulp import *\n",
    "\n",
    "def sensitivity_report(model, only_sol=True):\n",
    "    if model.status == 1:\n",
    "        print(f\"Optimal Solution \\n\")\n",
    "        for k, v in model.variablesDict().items():\n",
    "                print(f\"- {k} = {v.varValue}\")\n",
    "        if not only_sol:\n",
    "            print()\n",
    "            print(f\"Shadow Prices\")\n",
    "            for k, v in model.constraints.items():\n",
    "                print(f\"- {k} = {v.pi}\")\n",
    "            print()\n",
    "            print(f\"Slack\")\n",
    "            for k, v in model.constraints.items():\n",
    "                print(f\"- {k} = {v.slack}\")"
   ]
  },
  {
   "cell_type": "markdown",
   "metadata": {},
   "source": [
    "### 1.\n",
    "\n",
    "Accessories & Co. manufactures protective covers for three Apple products: iPods, iPads, and iPhones. The production facility's output, when fully dedicated to a single product, can yield 6,000 iPod covers, 5,000 iPhone covers, or 3,000 iPad covers per day. The company operates on a 5-day workweek, with all products needing storage post-production and prior to distribution.\n",
    "\n",
    "The storage volume for 1,000 units (including packaging) is 40 cubic feet for iPod covers, 45 cubic feet for iPhone covers, and 210 cubic feet for iPad covers. The total available storage capacity is limited to 6,000 cubic feet.\n",
    "\n",
    "Contractual obligations with Apple mandate a minimum production of 5,000 iPod covers and 4,000 iPad covers each week to facilitate market penetration. Market research suggests the weekly demand will not surpass 10,000 iPod covers, 15,000 iPhone covers, and 8,000 iPad covers, hence the company intends not to exceed these production numbers.\n",
    "\n",
    "Profit margins for each cover are $4 for iPods, $6 for iPhones, and $10 for iPads. The objective is to devise a weekly production plan that maximizes total net profit while adhering to production, storage, and contractual constraints."
   ]
  },
  {
   "cell_type": "markdown",
   "metadata": {},
   "source": [
    "**Solution:**\n",
    "$$\n",
    "\\begin{align*}\n",
    "\\max            \\quad   &   \\sum^{4}_{d=0} 4Q_{Ad} + 6Q_{Bd} + 10Q_{Cd}                         \\\\\n",
    "\\text{s.t.}     \\quad   &   Q_{Ad} \\le 6000   &   \\text{for } d \\in \\{0,...,4\\}                 \\\\\n",
    "                \\quad   &   Q_{Bd} \\le 5000   &   \\text{for } d \\in \\{0,...,4\\}                 \\\\\n",
    "                \\quad   &   Q_{Cd} \\le 3000   &   \\text{for } d \\in \\{0,...,4\\}                 \\\\\n",
    "                \\quad   &   5000  \\le \\sum^4_{d=0} Q_{Ad} \\le 10000                                        \\\\\n",
    "                \\quad   &   \\sum^4_{d=0} Q_{Bd} \\le 15000                             \\\\\n",
    "                \\quad   &   4000  \\le \\sum^4_{d=0} Q_{Cd} \\le 8000                                          \\\\\n",
    "                \\quad   &   0.04{Q_{Ad}} + 0.045{Q_{Bd}} + 0.21Q_{Cd} \\le 6000    &   \\text{for } d \\in \\{0,...,4\\}            \\\\\n",
    "\\text{where}    \\quad   &   Q_{Ad},Q_{Bd},Q_{Cd} \\ge 0   &   \\text{for } d \\in \\{0,...,4\\}    \n",
    "\\end{align*}\n",
    "$$"
   ]
  },
  {
   "cell_type": "code",
   "execution_count": 25,
   "metadata": {},
   "outputs": [
    {
     "name": "stdout",
     "output_type": "stream",
     "text": [
      "Optimal Solution \n",
      "\n",
      "- Q_('A',_0) = 4000.0\n",
      "- Q_('A',_1) = 6000.0\n",
      "- Q_('A',_2) = 0.0\n",
      "- Q_('A',_3) = 0.0\n",
      "- Q_('A',_4) = 0.0\n",
      "- Q_('B',_0) = 5000.0\n",
      "- Q_('B',_1) = 5000.0\n",
      "- Q_('B',_2) = 5000.0\n",
      "- Q_('B',_3) = 0.0\n",
      "- Q_('B',_4) = 0.0\n",
      "- Q_('C',_0) = 3000.0\n",
      "- Q_('C',_1) = 3000.0\n",
      "- Q_('C',_2) = 2000.0\n",
      "- Q_('C',_3) = 0.0\n",
      "- Q_('C',_4) = 0.0\n"
     ]
    }
   ],
   "source": [
    "import pandas as pd\n",
    "import numpy as np\n",
    "\n",
    "from pulp import *\n",
    "\n",
    "products = [\"A\", \"B\", \"C\"]\n",
    "profits = [4, 6, 10]\n",
    "prod_prof = {p: pr for p, pr in zip(products, profits)}\n",
    "days = 5\n",
    "storage_cap = 6000\n",
    "prod_cap = [6000, 5000, 3000]\n",
    "storage_req = [0.04, 0.045, 0.21]\n",
    "prod_stor = {p: s for p, s in zip(products, storage_req)}\n",
    "\n",
    "model = LpProblem(\"max_profit\", LpMaximize)\n",
    "\n",
    "Q = LpVariable.dicts(\"Q\", ((p, d) for p in products for d in range(days)), lowBound=0, cat=\"Integer\")\n",
    "\n",
    "model += lpSum([Q[p, d] * prod_prof[p] for p in products for d in range(days)])\n",
    "\n",
    "for d in range(days):\n",
    "    model += lpSum([Q[p, d] * prod_stor[p] for p in products]) <= storage_cap\n",
    "\n",
    "for i, p in enumerate(products):\n",
    "    for d in range(days):\n",
    "        model += Q[p, d] <= prod_cap[i]\n",
    "\n",
    "model += 5000 <= lpSum([Q[\"A\", d] for d in range(days)]) <= 10000\n",
    "model += lpSum([Q[\"B\", d] for d in range(days)]) <= 15000\n",
    "model += 4000 <= lpSum([Q[\"C\", d] for d in range(days)]) <= 8000\n",
    "\n",
    "model.solve()\n",
    "\n",
    "sensitivity_report(model)"
   ]
  },
  {
   "cell_type": "markdown",
   "metadata": {},
   "source": [
    "### 2.\n",
    "\n",
    "A company makes three lines of tires. Its four-ply biased tires produce $6 in profit per tire; its fiberglass belted line $4 a tire; and its radials $8 a tire. Each type of tire passes through three manufacturing stages as a part of the entire production process. Each of the three process centers has the following hours of available production time per day:\n",
    "\n",
    "Process|    Hours\n",
    ":-:|    :-:\n",
    "Modeling|   12\n",
    "Curing| 14\n",
    "Assembly|   16\n",
    "\n",
    "The time required in each process to produce one hundred tires of each line is as follows (in hours per 100 units):\n",
    "\n",
    "Tire|   Modeling|   Curing| Assembly\n",
    ":-:|    :-:|    :-:|    :-:\n",
    "Four-ply|   2|  3|  2\n",
    "Fiberglass| 2|  2|  1\n",
    "Radial| 4|  2|  2\n",
    "\n",
    "Determine the optimum product mix for each day’s production, assuming all tires are sold."
   ]
  },
  {
   "cell_type": "code",
   "execution_count": 26,
   "metadata": {},
   "outputs": [
    {
     "name": "stdout",
     "output_type": "stream",
     "text": [
      "Optimal Solution \n",
      "\n",
      "- Q_FOUR_PLY = 400.0\n",
      "- Q_FIBERGLASS = 0.0\n",
      "- Q_RADIAL = 100.0\n"
     ]
    }
   ],
   "source": [
    "products = [\"FOUR-PLY\", \"FIBERGLASS\", \"RADIAL\"]\n",
    "profits = [6, 4, 8]\n",
    "profits = pd.Series({p: pr for p, pr in zip(products, profits)})\n",
    "\n",
    "processes = [\"MODELING\", \"CURING\", \"ASSEMBLY\"]\n",
    "process_cap = [12, 14, 16]\n",
    "process_cap = pd.Series({pro: cap for pro, cap in zip(processes, process_cap)})\n",
    "\n",
    "\n",
    "time = pd.DataFrame(\n",
    "    [[2, 3, 2],\n",
    "     [2, 2, 1],\n",
    "     [4, 2, 2]], columns=processes, index=products)\n",
    "\n",
    "model = LpProblem(\"max_profit\", LpMaximize)\n",
    "\n",
    "Q = LpVariable.dicts(\"Q\", products, lowBound=0, cat=\"Integer\")\n",
    "\n",
    "model += lpSum([Q[p] * profits.loc[p] for p in products])\n",
    "\n",
    "for pro in processes:\n",
    "    model += lpSum([(time.loc[p, pro]/100) * Q[p] for p in products]) <= process_cap.loc[pro]\n",
    "    \n",
    "model.solve()\n",
    "\n",
    "if model.status == 1:\n",
    "    sensitivity_report(model)"
   ]
  },
  {
   "cell_type": "markdown",
   "metadata": {},
   "source": [
    "## 3.\n",
    "\n",
    "Charles Watts Electronics manufactures the following six peripheral devices used in computers specially designed for jet fighter planes: internal modems, external modems, graphics circuit boards, USB memory stick, hard disk drives, and memory expansion boards. Each of these technical products requires time, in minutes, on three types of electronic testing equipment as shown in the following table:\n",
    "\n",
    "Device| Internal Modem| External Modem| Circuit Board|  USB Stick|  Hard Drives|    Memory Boards\n",
    ":-:|    :-:|    :-:|    :-:|    :-:|    :-:|    :-:|\n",
    "Test device 1|  7| 3| 12| 6| 18| 17\n",
    "Test device 2|  2| 5| 3| 2| 15| 17\n",
    "Test device 3|  5| 1| 3| 2| 9| 2\n",
    "\n",
    "The first two test devices are available 130 hours per week. The third (device 3) requires more preventive maintenance and may be used only 100 hours each week. Watts Electronics believes that it cannot sell more than 2000, 1500, 1800, 1200, 1000, 1000 units of each device, respectively. Thus, it does not want to produce more than these units. The table that follows summarizes the revenues and material costs for each product:\n",
    "\n",
    "Device| Revenue per unit sold (\\$)|  Material Cost per unit (\\$)\n",
    ":-:|    :-:|    :-:\n",
    "Internal Modem| 200| 35\n",
    "External Modem| 120| 25\n",
    "Circuit Board|  180| 40\n",
    "USB Stick|  130| 45\n",
    "Hard Drives|    430| 170\n",
    "Memory Boards|  260| 60\n",
    "\n",
    "In addition, variable labor costs are $16 per hour for test device 1, $12 per hour for test device 2, and $18 per hour for test device 3. Watts Electronics wants to maximize its profits."
   ]
  },
  {
   "cell_type": "markdown",
   "metadata": {},
   "source": [
    "$$\n",
    "\\begin{align*}\n",
    "\n",
    "\\max    \\quad   &   165Q_1 + 95Q_2 + 140Q_3 + 85Q_4 + 260Q_5 + 200Q_6\n",
    "\n",
    "\\end{align*}\n",
    "$$"
   ]
  },
  {
   "cell_type": "code",
   "execution_count": 27,
   "metadata": {},
   "outputs": [
    {
     "name": "stdout",
     "output_type": "stream",
     "text": [
      "               Optimal Quantity\n",
      "Internal Modem            2,000\n",
      "External Modem            1,500\n",
      "Circuit Board                 0\n",
      "USB                           0\n",
      "Hard Drives                 597\n",
      "Mother Boards                 0\n"
     ]
    }
   ],
   "source": [
    "n_prods = 6\n",
    "prods = range(n_prods)\n",
    "profs = [165, 95, 140, 85, 260, 200]\n",
    "prod_caps = [2000, 1500, 1800, 1200, 1000, 1000]\n",
    "\n",
    "n_devs = range(3)\n",
    "limits = [130, 130, 100]\n",
    "v_costs = [16, 12, 18]\n",
    "limits = {d: l for d, l in zip(n_devs, limits)}\n",
    "v_costs = {d: v for d, v in zip(n_devs, v_costs)}\n",
    "\n",
    "test_min = np.array(\n",
    "    [[7, 3, 12, 6, 18, 17],\n",
    "     [2, 5,  3, 2, 15, 17],\n",
    "     [5, 1,  3, 2,  9,  2]],\n",
    ")\n",
    "\n",
    "model = LpProblem(\"max_profits\", LpMaximize)\n",
    "\n",
    "Q = LpVariable.dicts(\"Q\", prods, lowBound=0, cat=\"Integer\")\n",
    "\n",
    "model += lpSum([profs[p] * Q[p] for p in prods])\n",
    "\n",
    "for d in range(len(test_min)):\n",
    "    model += lpSum([test_min[d][p] * (v_costs[d] / 60) * Q[p] for p in prods]) <= limits[d] * 60\n",
    "\n",
    "for p in prods:\n",
    "    model += Q[p] <= prod_caps[p]\n",
    "\n",
    "model.solve()\n",
    "\n",
    "if model.status == 1:\n",
    "    ans = pd.DataFrame(\n",
    "        {p: [q.varValue] for p, q in Q.items()}, \n",
    "        index=[\"Optimal Quantity\"]\n",
    "    )\n",
    "    ans.columns = [\n",
    "        \"Internal Modem\", \n",
    "        \"External Modem\", \n",
    "        \"Circuit Board\", \n",
    "        \"USB\", \n",
    "        \"Hard Drives\", \n",
    "        \"Mother Boards\"\n",
    "    ]\n",
    "\n",
    "    print(ans.T.applymap(lambda x: f\"{x:,.0f}\"))"
   ]
  },
  {
   "cell_type": "markdown",
   "metadata": {},
   "source": [
    "## 4. \n",
    "\n",
    "Outdoors, Inc. has, as one of its product lines, lawn furniture. They currently have three items in that line: a lawn chair, a standard bench, and a table. These products are produced in a two-step manufacturing process involving the tube bending department and the welding department. The time required by each item in each department is as follows:\n",
    "\n",
    "Process|Lawn Chair|Bench|Table\n",
    ":-:|:-:|:-:|:-:\n",
    "Tube bending|1.2|1.7|1.2\n",
    "Welding|0.8|0|2.3\n",
    "\n",
    "<br>\n",
    "\n",
    "Process|Capacity\n",
    ":-:|:-:\n",
    "Tube bending|1000\n",
    "Welding|1200\n",
    "\n",
    "The contribution that Outdoors, Inc., receives from the manufacture and sale of one unit of each product is $3 for a chair, $3 for a bench, and $5 for a table.\n",
    "\n",
    "The company is trying to plan its production mix for the current selling season. It predicts that it can sell any number it produces, but production is further limited by available material, because of a prolonged strike. The company has on hands 2000 lbs. of tubing. The three products require the following amounts of this tubing: 2 lbs. per chair, 3 lbs. per bench, and 4.5 lbs. per table.\n",
    "\n",
    "- (a) What is the optimal production mix? What contribution can the firm anticipate by producing this mix?\n",
    "- (b) What is the value of one more unit of tube-bending time? of welding time? of metal tubing? Guess the value of one more unit of welding time just by looking at the third table in Figure 1, under the column “Slack”.\n",
    "- (c) A local distributor has offered to sell Outdoors, Inc. some additional metal tubing for $0.70/lb. Should Outdoors buy it? If yes, how much would the firm’s contribution increase if they bought 550 lbs. and used it in an optimal fashion?\n",
    "- (d) If Outdoors, Inc. feels that it must produce at least 50 benches to round out its product line, what effect will that have on its contribution? (Hint: First answer the question for one bench and then extend it for 50 benches).\n",
    "- (e) The R&D department has been redesigning the bench to make it more profitable. The new design will require 1.2 hours of tube-bending time, 3.0 hours of welding time, and 2.4 lbs. of metal tubing. If it can sell one unit of this bench with a unit contribution of $2.5, what would be the overall contribution if they produce a single unit?\n",
    "- (f) Marketing has suggested a new patio awning that would require 1.8 hours of tube-bending time, 0.5 hours of welding time, and 1.3 lbs. of metal tubing. What contribution must this new product have to make it attractive to produce this season?\n",
    "- (g) Outdoors, Inc. has a chance to sell some of its capacity in tube bending at a cost of $1.50/hour. If it sells 200 hours at that price, how will this affect contribution?\n",
    "- (h) If the contribution on chairs were to decrease to $2.40, what would be the optimal production mix and what contribution would this production plan give?"
   ]
  },
  {
   "cell_type": "code",
   "execution_count": 28,
   "metadata": {},
   "outputs": [
    {
     "name": "stdout",
     "output_type": "stream",
     "text": [
      "Optimal Solution \n",
      "\n",
      "- quantity_chair = 700.0\n",
      "- quantity_bench = 0.0\n",
      "- quantity_table = 133.33333\n"
     ]
    }
   ],
   "source": [
    "processes = [\"tube_bending\", \"welding\"]\n",
    "products = [\"chair\", \"bench\", \"table\"]\n",
    "\n",
    "time_req = pd.DataFrame(np.array(\n",
    "    [[1.2, 1.7, 1.2],\n",
    "     [0.8, 0.0, 2.3]]\n",
    "), index=processes, columns=products)\n",
    "\n",
    "time_cap = pd.Series(\n",
    "    [1000, 1200], index=processes\n",
    ")\n",
    "\n",
    "profits = pd.Series(\n",
    "    [3, 3, 5], index=products\n",
    ")\n",
    "\n",
    "max_tubing = 2000\n",
    "\n",
    "tube_cap = pd.Series(\n",
    "    [2, 3, 4.5], index=products\n",
    ")\n",
    "\n",
    "model = LpProblem(\"max_profits\", LpMaximize)\n",
    "\n",
    "Q = LpVariable.dicts(\"quantity\", products, lowBound=0, cat=\"Continuous\")\n",
    "\n",
    "model += lpSum([Q[p] * profits.loc[p] for p in products])\n",
    "\n",
    "for i, c in enumerate(processes):\n",
    "    model += lpSum([Q[p] * time_req.loc[c, p] for p in products]) <= time_cap.loc[c], processes[i]\n",
    "\n",
    "model += lpSum([Q[p] * tube_cap.loc[p]] for p in products) <= max_tubing, \"max tubing\"\n",
    "\n",
    "model.solve()\n",
    "\n",
    "sensitivity_report(model)"
   ]
  },
  {
   "cell_type": "markdown",
   "metadata": {},
   "source": [
    "## 5.\n",
    "\n",
    "The Red Sox are playing the Yankees. It’s the bottom of the 9th inning, with two outs and bases loaded. The score is tied 3 to 3. Mariano Rivera is pitching for the Yankees. David Ortiz is batting for the Red Sox. What pitch should Rivera throw? How should David Ortiz bat? In this simplified version of the problem, Rivera can throw one of three pitches: a high inside fastball, a high outside fastball, or a high inside curve. Ortiz can prepare for the pitch by expecting a curveball or a fastball. The probability of Ortiz scoring a run is given in Table 1. If he doesn’t score a run, then he is out, and the inning ends.\n",
    "\n",
    "|                    | High Inside fastball | High Outside fastball | High Inside Curve |\n",
    "|:------------------:|:--------------------:|:---------------------:|:-----------------:|\n",
    "| Prepare for Curveball | 0.3                    | 0.3                     | 0.4               |\n",
    "| Prepare for Fastball  | 0.5                    | 0.2                     | 0.3               |\n",
    "\n",
    "*Table  1:*  The  probability  of  Ortiz  scoring  a  run  under  different  scenarios.\n",
    "\n",
    "Assume in the following that Ortiz and Rivera both take a conservative strategy with regards to their mixed strategies. (That is, take the conservative analysis developed in class wrt mixed strategies.)\n",
    "\n",
    "1. Formulate Ortiz’s problem (the row player’s problem) as a linear program.\n",
    "2. Formulate Mariano Rivera’s problem (the column player’s problem) as a linear program.\n",
    "\n"
   ]
  },
  {
   "cell_type": "markdown",
   "metadata": {},
   "source": [
    "\\begin{align*}\n",
    "\\max    \\quad   &   s   \\\\\n",
    "\\text{s.t.}     \\quad   &   s   \\le 0.3x_1 + 0.5x_2 \\\\\n",
    "                \\quad   &   s   \\le 0.3x_1 + 0.2x_2 \\\\\n",
    "                \\quad   &   s   \\le 0.4x_1 + 0.3x_3 \\\\\n",
    "\\text{where}    \\quad   &   x_1 + x_0 = 1,\\quad x_1,x_0 \\ge 0\n",
    "\\end{align*}"
   ]
  },
  {
   "cell_type": "code",
   "execution_count": 29,
   "metadata": {},
   "outputs": [
    {
     "name": "stdout",
     "output_type": "stream",
     "text": [
      "Ortiz:\n",
      "Maximized minimum expected probability of scoring (s): 0.3\n",
      "Probability of prepare_for_curveball: 1.0\n",
      "Probability of prepare_for_fastball: 0.0\n",
      "\n",
      "Rivera:\n",
      "Minimized maximum expected probability of Ortiz scoring (s): 0.4\n",
      "Probability of high_inside_fastball: 0.0\n",
      "Probability of high_outside_fastball: 0.0\n",
      "Probability of high_inside_curve: 1.0\n"
     ]
    }
   ],
   "source": [
    "pitches = [\"high_inside_fastball\", \"high_outside_fastball\", \"high_inside_curve\"]\n",
    "bats = [\"prepare_for_curveball\", \"prepare_for_fastball\"]\n",
    "\n",
    "p = pd.DataFrame([\n",
    "    [0.3, 0.3, 0.4],\n",
    "    [0.5, 0.2, 0.3]\n",
    "], columns=pitches, index=bats)\n",
    "\n",
    "ortiz = LpProblem(\"maximin\", LpMaximize)\n",
    "\n",
    "xo = LpVariable.dicts(\"xo\", bats, lowBound=0)\n",
    "s = LpVariable(\"s\", lowBound=0)\n",
    "\n",
    "ortiz += s\n",
    "\n",
    "for pitch in pitches:\n",
    "    ortiz += s <= lpSum([p.loc[bat, pitch] * xo[bat] for bat in bats])\n",
    "\n",
    "ortiz += lpSum([xo[bat] for bat in bats]) == 1\n",
    "\n",
    "ortiz.solve()\n",
    "\n",
    "rivera = LpProblem(\"minimax\", LpMinimize)\n",
    "\n",
    "xr = LpVariable.dicts(\"xr\", pitches, lowBound=0)\n",
    "m = LpVariable(\"m\", lowBound=0)\n",
    "\n",
    "for bat in bats:\n",
    "    rivera += m >= lpSum([p.loc[bat, pitch] * xr[pitch] for pitch in pitches])\n",
    "\n",
    "rivera += lpSum([xr[pitch] for pitch in pitches]) == 1\n",
    "\n",
    "rivera.solve()\n",
    "\n",
    "print(\"Ortiz:\")\n",
    "print(f\"Maximized minimum expected probability of scoring (s): {s.value()}\")\n",
    "for bat in bats:\n",
    "    print(f\"Probability of {bat}: {xo[bat].value()}\")\n",
    "\n",
    "print()\n",
    "\n",
    "print(\"Rivera:\")\n",
    "print(f\"Minimized maximum expected probability of Ortiz scoring (s): {m.value()}\")\n",
    "for pitch in pitches:\n",
    "    print(f\"Probability of {pitch}: {xr[pitch].value()}\")"
   ]
  },
  {
   "cell_type": "markdown",
   "metadata": {},
   "source": [
    "### Airline Fleet Optimization Problem\n",
    "\n",
    "**Background:**  \n",
    "A regional airline is looking to optimize the allocation of its fleet to different routes to maximize profitability. The airline operates three types of aircraft: A, B, and C, each with different operating costs and capacities.\n",
    "\n",
    "**Fleet Information:**  \n",
    "- **Aircraft Type A**: 10 planes available, 180 passengers capacity, \\$5,000 operating cost per flight.\n",
    "- **Aircraft Type B**: 15 planes available, 120 passengers capacity, \\$3,500 operating cost per flight.\n",
    "- **Aircraft Type C**: 5 planes available, 100 passengers capacity, \\$2,500 operating cost per flight.\n",
    "\n",
    "**Route Information:**  \n",
    "The airline operates four major routes. Each route has a different demand and average ticket price.\n",
    "- **Route 1**: Demand for 1000 passengers per day, average ticket price \\$150.\n",
    "- **Route 2**: Demand for 800 passengers per day, average ticket price \\$200.\n",
    "- **Route 3**: Demand for 600 passengers per day, average ticket price \\$250.\n",
    "- **Route 4**: Demand for 400 passengers per day, average ticket price \\$300.\n",
    "\n",
    "**Constraints:**  \n",
    "- Each aircraft can only operate one flight per day.\n",
    "- The demand for each route must be met or exceeded.\n",
    "- The airline aims to maximize its total daily profit across all routes.\n",
    "\n",
    "**Objective:**  \n",
    "Determine how many flights of each aircraft type should be allocated to each route to maximize the airline's total daily profit, considering the constraints of fleet availability and route demand."
   ]
  },
  {
   "cell_type": "markdown",
   "metadata": {},
   "source": [
    "\\begin{align*}\n",
    "\n",
    "\\max        \\quad   &   \\sum_{a\\in\\{A,B,C\\}} \\sum^4_{r=1}Q_{ar}(P_rC_a - V_a)                       \\\\\n",
    "\\text{s.t.} \\quad   &   1.\\quad \\sum^4_{r=1}   Q_{ar} \\le \\text{num. airline } a \\text{ planes available}   \\\n",
    "                        &   \\forall a\\in\\{A,B,C\\}                                               \\\\\n",
    "            \\quad   &   2.\\quad \\sum_{a\\in\\{A,B,C\\}} Q_{ar}C_a \\ge  \\text{demand for route } r  & \\forall r \\in \\{1,2,3,4\\} \\\\\n",
    "            \\quad   &   3.\\quad Q_{ar} \\ge 0    &   \\forall a \\in \\{A, B, C\\}, \\forall r \\in \\{1,2,3,4\\}\n",
    "\n",
    "\\end{align*}"
   ]
  },
  {
   "cell_type": "code",
   "execution_count": 30,
   "metadata": {},
   "outputs": [
    {
     "data": {
      "text/plain": [
       "(A    10\n",
       " B    15\n",
       " C     5\n",
       " Name: fleet_availability, dtype: int64,\n",
       " A    180\n",
       " B    120\n",
       " C    100\n",
       " Name: fleet_capacity, dtype: int64,\n",
       " A    5000\n",
       " B    3500\n",
       " C    2500\n",
       " Name: fleet_cost, dtype: int64,\n",
       " 1    1000\n",
       " 2     800\n",
       " 3     600\n",
       " 4     400\n",
       " Name: route_capacity, dtype: int64,\n",
       " 1    150\n",
       " 2    200\n",
       " 3    250\n",
       " 4    300\n",
       " Name: route_price, dtype: int64)"
      ]
     },
     "execution_count": 30,
     "metadata": {},
     "output_type": "execute_result"
    }
   ],
   "source": [
    "airline = [\"A\", \"B\", \"C\"]\n",
    "routes = [1, 2, 3, 4]\n",
    "\n",
    "fleet_availability = pd.Series([10, 15, 5], index=airline, name=\"fleet_availability\")\n",
    "fleet_capacity = pd.Series([180, 120, 100], index=airline, name=\"fleet_capacity\")\n",
    "fleet_cost = pd.Series([5000, 3500, 2500], index=airline, name=\"fleet_cost\")\n",
    "\n",
    "route_demand = pd.Series([1000, 800, 600, 400], index=routes, name=\"route_capacity\")\n",
    "route_price = pd.Series([150, 200, 250, 300], index=routes, name=\"route_price\")\n",
    "\n",
    "fleet_availability, fleet_capacity, fleet_cost, route_demand, route_price"
   ]
  },
  {
   "cell_type": "code",
   "execution_count": 41,
   "metadata": {},
   "outputs": [
    {
     "name": "stdout",
     "output_type": "stream",
     "text": [
      "     1    2    3     4\n",
      "A  5.0  2.0  2.0   1.0\n",
      "B  0.0  2.0  2.0  11.0\n",
      "C  1.0  2.0  0.0   2.0\n"
     ]
    }
   ],
   "source": [
    "model = LpProblem(\"max_profit\", LpMaximize)\n",
    "\n",
    "Q = LpVariable.dicts(\"Q\", ((a, r) for a in airline for r in routes), lowBound=0, cat=\"Integer\")\n",
    "\n",
    "model += lpSum(\n",
    "    [Q[a, r] * (route_price.loc[r] * fleet_capacity.loc[a] - fleet_cost.loc[a]) for a in airline for r in routes]\n",
    ")\n",
    "\n",
    "for a in airline:\n",
    "    model += lpSum([Q[a, r] for r in routes]) <= fleet_availability.loc[a]\n",
    "\n",
    "for r in routes:\n",
    "    model += lpSum([Q[a, r] * fleet_capacity.loc[a] for a in airline]) >= route_demand.loc[r]\n",
    "\n",
    "model.solve()\n",
    "\n",
    "if model.status == 1:\n",
    "    sol = pd.DataFrame()\n",
    "    for (a, b), v in Q.items():\n",
    "        sol.loc[a, b] = v.varValue\n",
    "    print(sol)"
   ]
  },
  {
   "cell_type": "code",
   "execution_count": 34,
   "metadata": {},
   "outputs": [
    {
     "data": {
      "text/plain": [
       "{('A', 1): Q_('A',_1),\n",
       " ('A', 2): Q_('A',_2),\n",
       " ('A', 3): Q_('A',_3),\n",
       " ('A', 4): Q_('A',_4),\n",
       " ('B', 1): Q_('B',_1),\n",
       " ('B', 2): Q_('B',_2),\n",
       " ('B', 3): Q_('B',_3),\n",
       " ('B', 4): Q_('B',_4),\n",
       " ('C', 1): Q_('C',_1),\n",
       " ('C', 2): Q_('C',_2),\n",
       " ('C', 3): Q_('C',_3),\n",
       " ('C', 4): Q_('C',_4)}"
      ]
     },
     "execution_count": 34,
     "metadata": {},
     "output_type": "execute_result"
    }
   ],
   "source": [
    "Q"
   ]
  },
  {
   "cell_type": "code",
   "execution_count": 32,
   "metadata": {},
   "outputs": [
    {
     "data": {
      "text/plain": [
       "12"
      ]
     },
     "execution_count": 32,
     "metadata": {},
     "output_type": "execute_result"
    }
   ],
   "source": [
    "len([Q[a, r] * (route_price.loc[r] * fleet_capacity.loc[a] - fleet_cost.loc[a]) for a in airline for r in routes])"
   ]
  }
 ],
 "metadata": {
  "kernelspec": {
   "display_name": "base",
   "language": "python",
   "name": "python3"
  },
  "language_info": {
   "codemirror_mode": {
    "name": "ipython",
    "version": 3
   },
   "file_extension": ".py",
   "mimetype": "text/x-python",
   "name": "python",
   "nbconvert_exporter": "python",
   "pygments_lexer": "ipython3",
   "version": "3.11.5"
  }
 },
 "nbformat": 4,
 "nbformat_minor": 2
}

{
 "cells": [
  {
   "cell_type": "markdown",
   "metadata": {},
   "source": [
    "## Statistical Arbitrage\n",
    "\n",
    "### Simplicity & Transparency\n",
    "\n",
    "Technologies like [deep neural networks (DNNs)](https://arxiv.org/pdf/2005.13665.pdf) have ushered in a tilt towards advanced methodologies in the realm of algorithmic trading and portfolio optimization. Amidst them, statistical arbitrage stands out in stark contrast as a foundational algorithm, one worth revisiting. Unlike the nebulous underpinnings—the [black box](https://umdearborn.edu/news/ais-mysterious-black-box-problem-explained#:~:text=This%20inability%20for%20us%20to,when%20they%20produce%20unwanted%20outcomes.) problem—of DNNs, statistical arbitrage relies on straightforward but elegant math. Neural networks, while effective in approximating complex functions, obscure the explicit mathematical relationships between inputs and outputs due to their multi-layered structure and depth of processing. In a field like finance, this lack of transparency paves way for ethical problems with respect to both client welfare and the health of the market overall. Statistical arbitrage, though mathematically rigorous, is much less arcane and thus more manageable.\n",
    "\n",
    "Statistical arbitrage rests on the concept of *relative* value. It involves modeling the spread between pairs or groups of securities, which historically have exhibited similar price trajectories. The stability of this spread is a key assumption; it's believed to remain consistent over time. When the spread deviates from its expected range, it signals to investors which securities might be overvalued or undervalued. Long positions are entered for the securities that are underpriced, and short positions for those that are overpriced. The spread eventually reverts to its historical norm, referred to as the process of mean reversion, and generates profit: the investor repurchases expensive stocks at lower prices and sells the cheap stocks at higher prices. Evidently, statistical arbitrage is much easier to explain to clients than reasoning why a neural network makes its decision *and* much easier to diagnose/remedy in times of market turmoil.\n",
    "\n",
    "### Beta Neutrality\n",
    "\n",
    "## 4-Factor Arbitrage Model\n",
    "\n",
    "$$R_{it} = \\beta_{s, i}R_{st} + \\beta_{b, i}R_{bt} + \\beta_{c, i}R_{ct} + \\beta_{v, i}R_{vt} + \\alpha + \\epsilon$$\n",
    "\n",
    "$$\\Epsilon = \\Biggl[\\sum^{1}_{t=1}e_t,\\sum^{2}_{t=1}e_t,...,\\sum^{T}_{t=1}e_t\\Biggr]$$"
   ]
  },
  {
   "cell_type": "markdown",
   "metadata": {},
   "source": []
  }
 ],
 "metadata": {
  "kernelspec": {
   "display_name": "base",
   "language": "python",
   "name": "python3"
  },
  "language_info": {
   "name": "python",
   "version": "3.11.5"
  }
 },
 "nbformat": 4,
 "nbformat_minor": 2
}

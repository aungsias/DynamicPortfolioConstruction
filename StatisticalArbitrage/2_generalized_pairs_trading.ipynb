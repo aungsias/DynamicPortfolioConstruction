{
 "cells": [
  {
   "cell_type": "code",
   "execution_count": 1,
   "metadata": {},
   "outputs": [],
   "source": [
    "import pandas as pd\n",
    "import numpy as np\n",
    "import yfinance as yf\n",
    "import matplotlib.pyplot as plt\n",
    "import random\n",
    "\n",
    "from sklearn.linear_model import LinearRegression\n",
    "from snp500 import SNP500\n",
    "from tqdm.auto import tqdm\n",
    "from pprint import pprint\n",
    "\n",
    "from workflow.tools.utils import set_plot_style\n",
    "\n",
    "set_plot_style()"
   ]
  },
  {
   "cell_type": "code",
   "execution_count": 2,
   "metadata": {},
   "outputs": [
    {
     "name": "stdout",
     "output_type": "stream",
     "text": [
      "(1232, 9) (1232, 4)\n"
     ]
    }
   ],
   "source": [
    "random.seed(42)\n",
    "\n",
    "kwargs = {\n",
    "    \"index_col\": 0,\n",
    "    \"parse_dates\": True\n",
    "}\n",
    "\n",
    "# Load in prices\n",
    "stock_prices = pd.read_csv(\"workflow/data/constituents.csv\", **kwargs)\n",
    "index_prices = pd.read_csv(\"workflow/data/indices.csv\", **kwargs)\n",
    "\n",
    "all_stocks = stock_prices.columns.to_list()\n",
    "indices = index_prices.columns.to_list()\n",
    "\n",
    "pct = .02\n",
    "stocks = random.sample(all_stocks, int(len(all_stocks)*pct))\n",
    "stock_prices = stock_prices[stocks]\n",
    "\n",
    "stock_rets = np.log(stock_prices).diff()[1:]\n",
    "index_rets = np.log(index_prices).diff()[1:]\n",
    "\n",
    "print(stock_prices.shape, index_prices.shape)"
   ]
  },
  {
   "cell_type": "code",
   "execution_count": 3,
   "metadata": {},
   "outputs": [
    {
     "data": {
      "text/plain": [
       "['NWS', 'BF-B', 'AEP', 'ROK', 'DXCM', 'DFS', 'CTAS', 'BX', 'RL']"
      ]
     },
     "execution_count": 3,
     "metadata": {},
     "output_type": "execute_result"
    }
   ],
   "source": [
    "stocks"
   ]
  },
  {
   "cell_type": "code",
   "execution_count": 4,
   "metadata": {},
   "outputs": [
    {
     "data": {
      "application/vnd.jupyter.widget-view+json": {
       "model_id": "49e68ce38d5e4e62b0e90cf114e73dcd",
       "version_major": 2,
       "version_minor": 0
      },
      "text/plain": [
       "  0%|          | 0/1171 [00:00<?, ?it/s]"
      ]
     },
     "metadata": {},
     "output_type": "display_data"
    }
   ],
   "source": [
    "window = 60\n",
    "reversion_window = 30\n",
    "trading_days = 252\n",
    "\n",
    "dates = stock_rets.index[window:]\n",
    "\n",
    "betas = pd.DataFrame(columns=stocks, index=dates)\n",
    "s_scores = betas.copy()\n",
    "\n",
    "for date in tqdm(dates):\n",
    "    Rm = index_rets.loc[:date][-window:].values\n",
    "    Rm = (Rm - np.mean(Rm)) / np.std(Rm)\n",
    "    Rs = stock_rets.loc[:date][-window:]\n",
    "\n",
    "    ou_params = pd.DataFrame(\n",
    "        columns=[\"a\", \"b\", \"var(z)\", \"m\", \"sigma_eq\"],\n",
    "        index=stocks,\n",
    "    )\n",
    "\n",
    "    for stock in stocks:\n",
    "        Ri = Rs[stock].values\n",
    "        lr_1 = LinearRegression().fit(Rm, Ri)\n",
    "\n",
    "        B = lr_1.coef_\n",
    "        betas.loc[date, stock] = B\n",
    "        e = Ri - lr_1.predict(Rm)\n",
    "\n",
    "        E = e.cumsum()\n",
    "        E0 = E[:-1].reshape(-1, 1)\n",
    "        E1 = E[1:]\n",
    "        lr_2 = LinearRegression().fit(E0, E1)\n",
    "\n",
    "        a = lr_2.intercept_\n",
    "        b = lr_2.coef_\n",
    "        var_z = np.var(E1 - lr_2.predict(E0))\n",
    "        k = -np.log(b) * trading_days\n",
    "\n",
    "        if k > trading_days / reversion_window:\n",
    "            m = a / (1 - b)\n",
    "            sigma_eq = np.sqrt(var_z / (1 - b**2))\n",
    "            ou_params.loc[stock] = [i.item() for i in [a, b, var_z, m, sigma_eq]]\n",
    "        \n",
    "    ou_params.dropna(inplace=True)\n",
    "    m_bar = (ou_params[\"a\"] / (1 - ou_params[\"b\"])) - \\\n",
    "        (np.mean(ou_params[\"a\"]) / (1 - np.mean(ou_params[\"b\"])))\n",
    "    \n",
    "    s = -m_bar / ou_params[\"sigma_eq\"]\n",
    "    s_scores.loc[date] = s"
   ]
  },
  {
   "cell_type": "code",
   "execution_count": 5,
   "metadata": {},
   "outputs": [],
   "source": [
    "# fig, axes = plt.subplots(3, 3, figsize=(7, 5), sharex=True)\n",
    "# axes = axes.flatten()\n",
    "\n",
    "# for i, stock in enumerate(stocks):\n",
    "#     ax = axes[i]\n",
    "#     axtwin = ax.twinx()\n",
    "#     s = s_scores[stock][int(-window*1.5):]\n",
    "#     p = stock_prices[stock][int(-window*1.5):]\n",
    "#     s.plot(ax=ax, grid=False)\n",
    "#     p.plot(ax=axtwin, grid=False, linestyle=\"--\", alpha=.5)\n",
    "#     ax.axhline(1.25, color=\"r\", linewidth=.3)\n",
    "#     ax.axhline(0, color=\"k\", linewidth=.3)\n",
    "#     ax.axhline(-1.25, color=\"g\", linewidth=.3)\n",
    "#     ax.set_xlabel(\"\")\n",
    "#     ax.set_title(stock)\n",
    "#     axtwin.set_yticks([])\n",
    "#     ax.set_xticks([])\n",
    "\n",
    "# plt.tight_layout()\n",
    "# plt.show()"
   ]
  },
  {
   "cell_type": "code",
   "execution_count": 6,
   "metadata": {},
   "outputs": [
    {
     "data": {
      "application/vnd.jupyter.widget-view+json": {
       "model_id": "2e3fee4fe4834cf28eac4f915c63cd03",
       "version_major": 2,
       "version_minor": 0
      },
      "text/plain": [
       "  0%|          | 0/9 [00:00<?, ?it/s]"
      ]
     },
     "metadata": {},
     "output_type": "display_data"
    }
   ],
   "source": [
    "signals = pd.DataFrame(columns=stocks, index=dates)\n",
    "\n",
    "for stock in tqdm(stocks):\n",
    "    position = 0\n",
    "    stock_positions = []\n",
    "\n",
    "    for date in dates:\n",
    "        s = s_scores.loc[date, stock]\n",
    "\n",
    "        if s >= 1.25:\n",
    "            position = -1\n",
    "            stock_positions.append(position)\n",
    "        elif s <= -1.25:\n",
    "            position = 1\n",
    "            stock_positions.append(position)\n",
    "        elif s >= -0.5 and position == 1:\n",
    "            position = 0\n",
    "            stock_positions.append(position)\n",
    "        elif s <= 0.75 and position == -1:\n",
    "            position = 0\n",
    "            stock_positions.append(position)\n",
    "        else:\n",
    "            stock_positions.append(position)\n",
    "        \n",
    "    signals[stock] = stock_positions"
   ]
  },
  {
   "cell_type": "code",
   "execution_count": 7,
   "metadata": {},
   "outputs": [
    {
     "data": {
      "text/html": [
       "<div>\n",
       "<style scoped>\n",
       "    .dataframe tbody tr th:only-of-type {\n",
       "        vertical-align: middle;\n",
       "    }\n",
       "\n",
       "    .dataframe tbody tr th {\n",
       "        vertical-align: top;\n",
       "    }\n",
       "\n",
       "    .dataframe thead th {\n",
       "        text-align: right;\n",
       "    }\n",
       "</style>\n",
       "<table border=\"1\" class=\"dataframe\">\n",
       "  <thead>\n",
       "    <tr style=\"text-align: right;\">\n",
       "      <th></th>\n",
       "      <th>NWS</th>\n",
       "      <th>BF-B</th>\n",
       "      <th>AEP</th>\n",
       "      <th>ROK</th>\n",
       "      <th>DXCM</th>\n",
       "      <th>DFS</th>\n",
       "      <th>CTAS</th>\n",
       "      <th>BX</th>\n",
       "      <th>RL</th>\n",
       "      <th>AGG</th>\n",
       "      <th>DBC</th>\n",
       "      <th>^GSPC</th>\n",
       "      <th>^VIX</th>\n",
       "    </tr>\n",
       "    <tr>\n",
       "      <th>Date</th>\n",
       "      <th></th>\n",
       "      <th></th>\n",
       "      <th></th>\n",
       "      <th></th>\n",
       "      <th></th>\n",
       "      <th></th>\n",
       "      <th></th>\n",
       "      <th></th>\n",
       "      <th></th>\n",
       "      <th></th>\n",
       "      <th></th>\n",
       "      <th></th>\n",
       "      <th></th>\n",
       "    </tr>\n",
       "  </thead>\n",
       "  <tbody>\n",
       "    <tr>\n",
       "      <th>2019-04-02</th>\n",
       "      <td>0.0</td>\n",
       "      <td>-0.5</td>\n",
       "      <td>0.0</td>\n",
       "      <td>0.0</td>\n",
       "      <td>1.0</td>\n",
       "      <td>-0.5</td>\n",
       "      <td>0.0</td>\n",
       "      <td>0.0</td>\n",
       "      <td>0.0</td>\n",
       "      <td>0.091900</td>\n",
       "      <td>-0.007805</td>\n",
       "      <td>-0.012410</td>\n",
       "      <td>-0.001201</td>\n",
       "    </tr>\n",
       "    <tr>\n",
       "      <th>2019-04-03</th>\n",
       "      <td>0.0</td>\n",
       "      <td>-0.5</td>\n",
       "      <td>0.0</td>\n",
       "      <td>0.0</td>\n",
       "      <td>1.0</td>\n",
       "      <td>-0.5</td>\n",
       "      <td>0.0</td>\n",
       "      <td>0.0</td>\n",
       "      <td>0.0</td>\n",
       "      <td>0.086736</td>\n",
       "      <td>-0.007248</td>\n",
       "      <td>-0.021353</td>\n",
       "      <td>-0.001479</td>\n",
       "    </tr>\n",
       "    <tr>\n",
       "      <th>2019-04-04</th>\n",
       "      <td>0.0</td>\n",
       "      <td>-1.0</td>\n",
       "      <td>0.0</td>\n",
       "      <td>0.0</td>\n",
       "      <td>1.0</td>\n",
       "      <td>0.0</td>\n",
       "      <td>0.0</td>\n",
       "      <td>0.0</td>\n",
       "      <td>0.0</td>\n",
       "      <td>0.103845</td>\n",
       "      <td>-0.002095</td>\n",
       "      <td>-0.015922</td>\n",
       "      <td>-0.000038</td>\n",
       "    </tr>\n",
       "    <tr>\n",
       "      <th>2019-04-05</th>\n",
       "      <td>0.0</td>\n",
       "      <td>-1.0</td>\n",
       "      <td>0.0</td>\n",
       "      <td>0.0</td>\n",
       "      <td>1.0</td>\n",
       "      <td>0.0</td>\n",
       "      <td>0.0</td>\n",
       "      <td>0.0</td>\n",
       "      <td>0.0</td>\n",
       "      <td>0.103326</td>\n",
       "      <td>-0.001848</td>\n",
       "      <td>-0.015480</td>\n",
       "      <td>-0.000020</td>\n",
       "    </tr>\n",
       "    <tr>\n",
       "      <th>2019-04-08</th>\n",
       "      <td>0.0</td>\n",
       "      <td>-1.0</td>\n",
       "      <td>0.0</td>\n",
       "      <td>0.0</td>\n",
       "      <td>1.0</td>\n",
       "      <td>0.0</td>\n",
       "      <td>0.0</td>\n",
       "      <td>0.0</td>\n",
       "      <td>0.0</td>\n",
       "      <td>0.106145</td>\n",
       "      <td>0.018104</td>\n",
       "      <td>-0.021232</td>\n",
       "      <td>0.000152</td>\n",
       "    </tr>\n",
       "  </tbody>\n",
       "</table>\n",
       "</div>"
      ],
      "text/plain": [
       "            NWS  BF-B  AEP  ROK  DXCM  DFS  CTAS   BX   RL       AGG  \\\n",
       "Date                                                                   \n",
       "2019-04-02  0.0  -0.5  0.0  0.0   1.0 -0.5   0.0  0.0  0.0  0.091900   \n",
       "2019-04-03  0.0  -0.5  0.0  0.0   1.0 -0.5   0.0  0.0  0.0  0.086736   \n",
       "2019-04-04  0.0  -1.0  0.0  0.0   1.0  0.0   0.0  0.0  0.0  0.103845   \n",
       "2019-04-05  0.0  -1.0  0.0  0.0   1.0  0.0   0.0  0.0  0.0  0.103326   \n",
       "2019-04-08  0.0  -1.0  0.0  0.0   1.0  0.0   0.0  0.0  0.0  0.106145   \n",
       "\n",
       "                 DBC     ^GSPC      ^VIX  \n",
       "Date                                      \n",
       "2019-04-02 -0.007805 -0.012410 -0.001201  \n",
       "2019-04-03 -0.007248 -0.021353 -0.001479  \n",
       "2019-04-04 -0.002095 -0.015922 -0.000038  \n",
       "2019-04-05 -0.001848 -0.015480 -0.000020  \n",
       "2019-04-08  0.018104 -0.021232  0.000152  "
      ]
     },
     "execution_count": 7,
     "metadata": {},
     "output_type": "execute_result"
    }
   ],
   "source": [
    "weights = signals.copy()\n",
    "\n",
    "for date in dates:\n",
    "    w = weights.loc[date].copy()\n",
    "    w[w > 0] /= sum(w > 0)\n",
    "    w[w < 0] /= sum(w < 0)\n",
    "    weights.loc[date] = w\n",
    "    \n",
    "weights = weights.shift()[1:]\n",
    "\n",
    "weights[indices] = -np.stack((betas.shift()[1:] * weights).sum(axis=1).values)\n",
    "\n",
    "weights.head()"
   ]
  },
  {
   "cell_type": "code",
   "execution_count": 8,
   "metadata": {},
   "outputs": [
    {
     "data": {
      "text/plain": [
       "<Axes: xlabel='Date'>"
      ]
     },
     "execution_count": 8,
     "metadata": {},
     "output_type": "execute_result"
    },
    {
     "data": {
      "image/png": "[encoded data removed]",
      "text/plain": [
       "<Figure size 640x480 with 1 Axes>"
      ]
     },
     "metadata": {},
     "output_type": "display_data"
    }
   ],
   "source": [
    "asset_rets = pd.concat([stock_rets, index_rets], axis=1)\n",
    "\n",
    "algo_rets = (asset_rets[window+1:] * weights).sum(axis=1)\n",
    "benchmark_rets = asset_rets[\"^GSPC\"][window+1:]\n",
    "\n",
    "backtest_rets = pd.concat([algo_rets, benchmark_rets], axis=1)\n",
    "backtest_rets.columns=[\"Algorithm\", \"Stock Market (GSPC)\"]\n",
    "backtest_rets.loc[backtest_rets.index.min()] = 0\n",
    "\n",
    "backtest_rets.cumsum().plot()"
   ]
  },
  {
   "cell_type": "code",
   "execution_count": 9,
   "metadata": {},
   "outputs": [
    {
     "data": {
      "text/plain": [
       "0"
      ]
     },
     "execution_count": 9,
     "metadata": {},
     "output_type": "execute_result"
    }
   ],
   "source": [
    "(abs(weights).sum(axis=1) / 2).isnull().sum()"
   ]
  }
 ],
 "metadata": {
  "kernelspec": {
   "display_name": "base",
   "language": "python",
   "name": "python3"
  },
  "language_info": {
   "codemirror_mode": {
    "name": "ipython",
    "version": 3
   },
   "file_extension": ".py",
   "mimetype": "text/x-python",
   "name": "python",
   "nbconvert_exporter": "python",
   "pygments_lexer": "ipython3",
   "version": "3.11.5"
  }
 },
 "nbformat": 4,
 "nbformat_minor": 2
}

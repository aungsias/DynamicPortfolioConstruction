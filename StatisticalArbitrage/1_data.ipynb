{
 "cells": [
  {
   "cell_type": "code",
   "execution_count": 3,
   "metadata": {},
   "outputs": [],
   "source": [
    "import pandas as pd\n",
    "import numpy as np\n",
    "import yfinance as yf\n",
    "import matplotlib.pyplot as plt\n",
    "\n",
    "from sklearn.linear_model import LinearRegression\n",
    "from snp500 import SNP500\n",
    "from tqdm.auto import tqdm"
   ]
  },
  {
   "cell_type": "code",
   "execution_count": null,
   "metadata": {},
   "outputs": [],
   "source": [
    "snp = SNP500()\n",
    "stocks = snp.tickers\n",
    "indices = [\"^GSPC\", \"AGG\", \"DBC\", \"^VIX\"]\n",
    "\n",
    "start = \"2019-01-01\"\n",
    "end = \"2023-11-22\"\n",
    "\n",
    "stock_prices = yf.download(stocks, start, end)[\"Adj Close\"].dropna(axis=1)\n",
    "index_prices = yf.download(indices, start, end)[\"Adj Close\"].dropna()\n",
    "\n",
    "for i, date in enumerate(stock_prices.index):\n",
    "    assert date == index_prices.index[i]"
   ]
  }
 ],
 "metadata": {
  "kernelspec": {
   "display_name": "base",
   "language": "python",
   "name": "python3"
  },
  "language_info": {
   "codemirror_mode": {
    "name": "ipython",
    "version": 3
   },
   "file_extension": ".py",
   "mimetype": "text/x-python",
   "name": "python",
   "nbconvert_exporter": "python",
   "pygments_lexer": "ipython3",
   "version": "3.11.5"
  }
 },
 "nbformat": 4,
 "nbformat_minor": 2
}

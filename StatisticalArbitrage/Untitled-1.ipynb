{
 "cells": [
  {
   "cell_type": "code",
   "execution_count": 15,
   "metadata": {},
   "outputs": [],
   "source": [
    "import pandas as pd\n",
    "import random\n",
    "import numpy as np\n",
    "\n",
    "from sklearn.model_selection import TimeSeriesSplit\n",
    "from sklearn.linear_model import LinearRegression\n",
    "from sklearn.metrics import mean_squared_error\n",
    "from sklearn.preprocessing import StandardScaler\n",
    "\n",
    "from tqdm.auto import tqdm"
   ]
  },
  {
   "cell_type": "code",
   "execution_count": 7,
   "metadata": {},
   "outputs": [
    {
     "name": "stdout",
     "output_type": "stream",
     "text": [
      "(1232, 9) (1232, 4)\n"
     ]
    }
   ],
   "source": [
    "random.seed(42)\n",
    "\n",
    "kwargs = {\n",
    "    \"index_col\": 0,\n",
    "    \"parse_dates\": True\n",
    "}\n",
    "\n",
    "# Load in prices\n",
    "stock_prices = pd.read_csv(\"workflow/data/constituents.csv\", **kwargs)\n",
    "index_prices = pd.read_csv(\"workflow/data/indices.csv\", **kwargs)\n",
    "\n",
    "all_stocks = stock_prices.columns.to_list()\n",
    "indices = index_prices.columns.to_list()\n",
    "\n",
    "pct = .02\n",
    "stocks = random.sample(all_stocks, int(len(all_stocks)*pct))\n",
    "stock_prices = stock_prices[stocks]\n",
    "\n",
    "stock_rets = np.log(stock_prices).diff()[1:]\n",
    "index_rets = np.log(index_prices).diff()[1:]\n",
    "\n",
    "print(stock_prices.shape, index_prices.shape)"
   ]
  },
  {
   "cell_type": "code",
   "execution_count": 59,
   "metadata": {},
   "outputs": [
    {
     "data": {
      "application/vnd.jupyter.widget-view+json": {
       "model_id": "22e5f75df6f34abeb1e353ed835b9ba4",
       "version_major": 2,
       "version_minor": 0
      },
      "text/plain": [
       "  0%|          | 0/1111 [00:00<?, ?it/s]"
      ]
     },
     "metadata": {},
     "output_type": "display_data"
    }
   ],
   "source": [
    "window = 60\n",
    "dates = stock_rets.index[window:]\n",
    "scaler = StandardScaler()\n",
    "mses = pd.DataFrame(index=dates, columns=stocks)\n",
    "\n",
    "for i in tqdm(range(window, len(dates))):\n",
    "    X_train = scaler.fit_transform(index_rets.iloc[i-window:i])\n",
    "    X_test = scaler.transform(index_rets.iloc[i:i+window])\n",
    "    \n",
    "    Rs_train = stock_rets.iloc[i-window:i]\n",
    "    Rs_test = stock_rets.iloc[i:i+window]\n",
    "\n",
    "    for stock in stocks:\n",
    "\n",
    "        y_train = Rs_train[stock]\n",
    "        y_test = Rs_test[stock]\n",
    "\n",
    "        lr = LinearRegression().fit(X_train, y_train)\n",
    "        y_hat = lr.predict(X_test)\n",
    "        mse = mean_squared_error(y_test, y_hat)\n",
    "        \n",
    "        mses.loc[mses.index[i], stock] = mse\n",
    "\n",
    "mses = mses.shift(window).dropna()"
   ]
  },
  {
   "cell_type": "code",
   "execution_count": 61,
   "metadata": {},
   "outputs": [
    {
     "data": {
      "application/vnd.jupyter.widget-view+json": {
       "model_id": "3c25b8f9271243cab277df3ca463fe45",
       "version_major": 2,
       "version_minor": 0
      },
      "text/plain": [
       "  0%|          | 0/1111 [00:00<?, ?it/s]"
      ]
     },
     "metadata": {},
     "output_type": "display_data"
    }
   ],
   "source": [
    "mses2 = pd.DataFrame(index=dates, columns=stocks)\n",
    "\n",
    "for i in tqdm(range(window, len(dates))):\n",
    "    X_train = scaler.fit_transform(index_rets[\"^GSPC\"].iloc[i-window:i].values.reshape(-1, 1))\n",
    "    X_test = scaler.transform(index_rets[\"^GSPC\"].iloc[i:i+window].values.reshape(-1, 1))\n",
    "    \n",
    "    Rs_train = stock_rets.iloc[i-window:i]\n",
    "    Rs_test = stock_rets.iloc[i:i+window]\n",
    "\n",
    "    for stock in stocks:\n",
    "\n",
    "        y_train = Rs_train[stock]\n",
    "        y_test = Rs_test[stock]\n",
    "\n",
    "        lr = LinearRegression().fit(X_train, y_train)\n",
    "        y_hat = lr.predict(X_test)\n",
    "        mse = mean_squared_error(y_test, y_hat)\n",
    "        \n",
    "        mses2.loc[mses2.index[i], stock] = mse\n",
    "\n",
    "mses2 = mses2.shift(window).dropna()"
   ]
  },
  {
   "cell_type": "code",
   "execution_count": 68,
   "metadata": {},
   "outputs": [
    {
     "data": {
      "text/plain": [
       "NWS          0.0\n",
       "BF-B         0.0\n",
       "AEP          0.0\n",
       "ROK          0.0\n",
       "DXCM    0.000001\n",
       "DFS     0.000001\n",
       "CTAS         0.0\n",
       "BX           0.0\n",
       "RL      0.000001\n",
       "dtype: object"
      ]
     },
     "execution_count": 68,
     "metadata": {},
     "output_type": "execute_result"
    }
   ],
   "source": [
    "mses.var()"
   ]
  }
 ],
 "metadata": {
  "kernelspec": {
   "display_name": "base",
   "language": "python",
   "name": "python3"
  },
  "language_info": {
   "codemirror_mode": {
    "name": "ipython",
    "version": 3
   },
   "file_extension": ".py",
   "mimetype": "text/x-python",
   "name": "python",
   "nbconvert_exporter": "python",
   "pygments_lexer": "ipython3",
   "version": "3.11.5"
  }
 },
 "nbformat": 4,
 "nbformat_minor": 2
}

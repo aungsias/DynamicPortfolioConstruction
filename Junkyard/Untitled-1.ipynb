{
 "cells": [
  {
   "cell_type": "markdown",
   "metadata": {},
   "source": [
    "$\\left(1\\right)$ describes the stock price $S$ as following a geometric Brownian motion, where $\\mu$ is the expected return, $\\sigma$ is the volatility, and $dW_{t}$ is the Wiener process. The equation is a stochastic differential equation:\n",
    "\n",
    "$${dS} = {\\mu S dt} + {\\sigma S dW_{t}}\\tag{1}$$\n",
    "\n",
    "$\\left(2\\right)$ tells us that in a risk-neutral world, the expected return $\\mu$ on the stock is replaced with the risk-free rate $r$. The **risk-neutral valuation principle** is a key assumption in the derivation of the Black-Scholes formula.\n",
    "\n",
    "$${dS} = {\\left[r\\right] S dt} + {\\sigma S dW_{t}}\\tag{2}$$\n",
    "\n",
    "$\\left(3\\right)$ applies *Ito's lemma* to $\\left(2\\right)$. Ito's lemma states gives us the differential of a function $f(x,t)$ when $x$ follows a stochastic process:\n",
    "\n",
    "\n",
    "\n",
    "The GBM SDE is transformed into a PDE for an option's value $V(S,t)$:\n",
    "\n",
    "$${\\frac{\\partial V}{\\partial t}} + {r S \\frac{\\partial V}{\\partial S}} + {\\frac{1}{2} \\sigma^2 S^2 \\frac{\\partial^2 V}{\\partial S^2}} - {rV} = 0 \\tag{3}$$\n",
    "\n",
    "We then solve the PDE for specific conditions of European call and put options. The boundary conditions for a European call option and put option are:\n",
    "\n",
    "$$V(S,T) = \\max(S-K,0)$$\n",
    "$$\\text{and}$$\n",
    "$$V(S,T) = \\max(K- S,0),$$\n",
    "\n",
    "respectively.\n",
    "\n",
    "The solution to the PDE with these boundary condition leads to the Black-Scholes formulas for call and put options:\n",
    "\n",
    "$$\n",
    "\\begin{align*}\n",
    "& C = S_{0} N(d_{1}) - Ke^{-rT}N(d_{2}) \\tag{4} \\\\\n",
    "& P = Ke^{-rT}N(-d_{2}) - S_{0}N(-d_{1}) \\tag{5}\n",
    "\\end{align*}\n",
    "$$\n",
    "\n",
    "The terms $d_{1}$ and $d_{2}$ are derived as part of solving the PDE. They are given by:\n",
    "\n",
    "$$\n",
    "\\begin{align*}\n",
    "& d_{1} = \\frac{\\ln(\\frac{S_{0}}{K}) + \\left(r + \\frac{\\sigma^2}{2}\\right)T}{\\sigma \\sqrt{T}}\\tag{6} \\\\\n",
    "& d_{2} = d_{1} - \\sigma \\sqrt{T} \\tag{7}\n",
    "\\end{align*}\n",
    "$$\n",
    "\n"
   ]
  },
  {
   "cell_type": "markdown",
   "metadata": {},
   "source": []
  },
  {
   "cell_type": "markdown",
   "metadata": {},
   "source": []
  }
 ],
 "metadata": {
  "kernelspec": {
   "display_name": "base",
   "language": "python",
   "name": "python3"
  },
  "language_info": {
   "codemirror_mode": {
    "name": "ipython",
    "version": 3
   },
   "file_extension": ".py",
   "mimetype": "text/x-python",
   "name": "python",
   "nbconvert_exporter": "python",
   "pygments_lexer": "ipython3",
   "version": "3.11.5"
  }
 },
 "nbformat": 4,
 "nbformat_minor": 2
}

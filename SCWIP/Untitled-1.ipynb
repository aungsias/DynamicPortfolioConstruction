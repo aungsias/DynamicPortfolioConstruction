{
 "cells": [
  {
   "cell_type": "markdown",
   "metadata": {},
   "source": [
    "### Linear Programming\n",
    "\n",
    "Linear programming involves:\n",
    "1) Decision variables\n",
    "2) Objective function\n",
    "3) Constraints\n",
    "\n",
    "Ex:\n",
    "\n",
    "| | Pushup | Running |\n",
    "|:-:|:-:| :-:|\n",
    "|Minutes|0.2 per pushup|10 per mile|\n",
    "|Calories|3 per pushup|130 per mile|\n",
    "\n",
    "Constraint - only 10 minutes to exercise\n",
    "\n",
    "1) Decision Variables:\n",
    "- \\# Pushups & \\# Miles Ran\n",
    "\n",
    "2) Obj. Function:\n",
    "- $\\text{maximize } 3P + 130M$\n",
    "- where $P$ is the number of pushups and $M$ is the number miles to run.\n",
    "\n",
    "3) Constraints:\n",
    "- $0.2P + 10M \\le 10$\n",
    "- $P \\ge 0$\n",
    "- $M \\ge 0$"
   ]
  },
  {
   "cell_type": "code",
   "execution_count": 33,
   "metadata": {},
   "outputs": [],
   "source": [
    "import pandas as pd\n",
    "import numpy as np\n",
    "import matplotlib.pyplot as plt\n",
    "\n",
    "from scipy.optimize import minimize"
   ]
  },
  {
   "cell_type": "code",
   "execution_count": 47,
   "metadata": {},
   "outputs": [
    {
     "name": "stdout",
     "output_type": "stream",
     "text": [
      "do 50 pushups and run 0 miles\n"
     ]
    }
   ],
   "source": [
    "# Define objective function\n",
    "def obj_func(x):\n",
    "    return (3 * x[0] + 130 * x[1])\n",
    "\n",
    "# Construct bounds and constraints\n",
    "bounds = [(0, None), (0, None)]\n",
    "constraints = {\"type\": \"ineq\", \"fun\": lambda x: 10 - (.2 * x[0] + 10 * x[1])}\n",
    "\n",
    "# Initial guess\n",
    "i = [0, 0]\n",
    "\n",
    "# Construct the optimization problem\n",
    "opt = minimize(lambda x: -obj_func(x), i, bounds=bounds, constraints=constraints)\n",
    "result = opt.x\n",
    "\n",
    "print(\"do\", round(result[0]), \"pushups and run\", round(result[1]), \"miles\")"
   ]
  },
  {
   "cell_type": "code",
   "execution_count": 43,
   "metadata": {},
   "outputs": [
    {
     "data": {
      "text/plain": [
       "50.000000127983924"
      ]
     },
     "execution_count": 43,
     "metadata": {},
     "output_type": "execute_result"
    }
   ],
   "source": []
  }
 ],
 "metadata": {
  "kernelspec": {
   "display_name": "base",
   "language": "python",
   "name": "python3"
  },
  "language_info": {
   "codemirror_mode": {
    "name": "ipython",
    "version": 3
   },
   "file_extension": ".py",
   "mimetype": "text/x-python",
   "name": "python",
   "nbconvert_exporter": "python",
   "pygments_lexer": "ipython3",
   "version": "3.11.5"
  }
 },
 "nbformat": 4,
 "nbformat_minor": 2
}

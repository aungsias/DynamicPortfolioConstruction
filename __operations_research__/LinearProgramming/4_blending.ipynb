{
 "cells": [
  {
   "cell_type": "code",
   "execution_count": 1,
   "metadata": {},
   "outputs": [],
   "source": [
    "import numpy as np\n",
    "import pandas as pd\n",
    "import matplotlib.pyplot as plt\n",
    "from pulp import *"
   ]
  },
  {
   "cell_type": "markdown",
   "metadata": {},
   "source": [
    "## 8. Blending Problems"
   ]
  },
  {
   "cell_type": "markdown",
   "metadata": {},
   "source": [
    "<b><i>Blending problems</i></b> are situations in which various inputs must be blended in some desired proportion to produce goods for sale. For example: \n",
    "- Blending various types of crude oils to produce different types of gasoline and other outputs (such as heating oil)\n",
    "- Mixing various ores to obtain ore of a specified quality\n",
    "- Mixing various types of papers to produce recycled paper of varying quality\n",
    "- ...\n",
    "\n",
    "<b><i>Example</i></b><br>\n",
    "Sunco Oil manufactures three types of gasoline (gas 1, gas 2, and gas 3). Each type is produced by blending three types of crude oil (crude 1, crude 2, and crude 3). The sales price per barrel of gasoline and the purchase price per barrel of crude oil are given below. Sunco can purchase up to 5,000 barrels of each type of crude oil daily.\n",
    "\n",
    "The three types of gasoline differ in their octane rating and sulfur content. The crude oil blended to form gas 1 must have an average octane rating of at least 10 and contain at most 1% sulfur. The crude oil blended to form gas 2 must have an average octane rating of at least 8 and contain at most 2% sulfur. The crude oil blended to form gas 3 must have an octane rating of at least 6 and contain at most 1% sulfur. The octane rating and the sulfur content of the three types of oil are given below. It costs $4 to transform one barrel of oil into one barrel of gasoline, and Sunco’s refinery can produce up to 14,000 barrels of gasoline daily.\n",
    "\n",
    "Sunco’s customers require the following amounts of each gasoline: gas 1—3,000 barrels per day; gas 2—2,000 barrels per day; gas 3—1,000 barrels per day. The company considers it an obligation to meet these demands. Sunco also has the option of advertising to stimulate demand for its products. Each dollar spent daily in advertising a particular type of gas increases the daily demand for that type of gas by 10 barrels. For example, if Sunco decides to spend $20 daily in advertising gas 2, then the daily demand for gas 2 will increase by 20(10) = 200 barrels. Formulate an LP that will enable Sunco to maximize daily profits (profits = revenues − costs).\n",
    "\n",
    "Gas|Sales Price per Barrel (\\$)|Crude|Purchase Price per Barrel (\\$)\n",
    "-:|-|-:|-\n",
    "1|70|1|45\n",
    "2|60|2|35\n",
    "3|50|3|25\n",
    "\n",
    "<br>\n",
    "\n",
    "Crude|Octane Rating| Sulfur Content (%)\n",
    "-:|-|-\n",
    "1|12|0.5\n",
    "2|6|2.0\n",
    "3|8|3.0"
   ]
  },
  {
   "cell_type": "markdown",
   "metadata": {},
   "source": [
    "\\begin{aligned}\n",
    "\\text{Revenues}: && 70(x_{1,1} + x_{2,1} + x_{3,1}) + 60(x_{1,2} + x_{2,2} + x_{3,2}) + 50(x_{1,3} + x_{2,3} + x_{3,3})\\\\\n",
    "\\text{Production Costs}: && 45(x_{1,1} + x_{1, 2} + x_{1, 3}) + 35(x_{2, 1} + x_{2, 2} + x_{2, 3}) + 25(x_{3,1} + x_{3, 2}\\\n",
    "                                                                                                            + x_{3, 3})\\\\\n",
    "\\text{Adv. Costs}: && a_1 + a_2 + a_3\\\\[10pt]\n",
    "\\hline\\\\\n",
    "\\text{Profit}: && 70(x_{1,1} + x_{2,1} + x_{3,1}) + 60(x_{1,2} + x_{2,2} + x_{3,2}) + 50(x_{1,3} + x_{2,3} + x_{3,3})\\\\\n",
    "                && -\\text{ }45(x_{1,1} + x_{1, 2} + x_{1, 3}) - 35(x_{2, 1} + x_{2, 2} + x_{2, 3}) - 25(x_{3,1} + x_{3, 2}\\\n",
    "                                                                                                            + x_{3, 3})\\\\\\\\\n",
    "-\\$4 \\text{ from barrel-to-gas conversion}: && = 21x_{1,1} + 31x_{2,1} + 41x_{3,1} \\\\\n",
    "                &&+\\text{ } 11x_{1,2} + 21x_{2,2} + 31x_{3,2}\\\\\n",
    "                &&+\\text{ } x_{1,3} + 11x_{2,3} + 21x_{3,3}\\\\\n",
    "                &&-\\text{ } a_1 - a_2 - a_3\\\\\n",
    "\\end{aligned}"
   ]
  },
  {
   "cell_type": "markdown",
   "metadata": {},
   "source": [
    "\\begin{aligned}\n",
    "\\max && 21x_{1,1} + 31x_{2,1} + 41x_{3,1} \\\\\n",
    "                &&+\\text{ } 11x_{1,2} + 21x_{2,2} + 31x_{3,2}\\\\\n",
    "                &&+\\text{ } x_{1,3} + 11x_{2,3} + 21x_{3,3}\\\\\n",
    "                &&-\\text{ } a_1 - a_2 - a_3\\\\\\\\\n",
    "\n",
    "\\text{s.t.} && 2x_{1,1} - 4x_{2,1} - 2x_{3,1} && \\ge 0 && (\\text{Octane constraint G1})\\\\\n",
    "            && 4x_{1,2} - 2x_{2,2}  && \\ge 0 && (\\text{Octane constraint G2})\\\\\n",
    "            && 6x_{1,3} + 2x_{3,3} && \\ge 0 && (\\text{Octane constraint G3})\\\\\\\\\n",
    "\n",
    "            && -0.005x_{1,1} + 0.01x_{2,1} + 0.02x_{3,1} && \\le 0 && (\\text{Sulfur constraint G1})\\\\\n",
    "            && -0.015x_{1,2} + 0.01x_{3,2} &&\\le 0 && (\\text{Sulfur constraint G2})\\\\\\\\\n",
    "            && -0.005x_{1,3} + 0.01x_{2,3} + 0.02x_{3,3} && \\le 0 && (\\text{Sulfur constraint G3})\\\\\n",
    "\n",
    "            && x_{1,1} + x_{2,1} + x_{3,1} + x_{1,2} + x_{2,2} + x_{3,2} + x_{1,3} + x_{2,3} + x_{3,3} && \\le 14,000 && (\\text{Production capacity constraint})\\\\\n",
    "            && x_{1,1} + x_{1,2} + x_{1,3} &&\\le 5000 && \\text{(Purchase capacity constraint C1)}\\\\\n",
    "            && x_{2,1} + x_{2,2} + x_{2,3} &&\\le 5000 && \\text{(Purchase capacity constraint C2)}\\\\\n",
    "            && x_{3,1} + x_{3,2} + x_{3,3} &&\\le 5000 && \\text{(Purchase capacity constraint C3)}\\\\\\\\\n",
    "\n",
    "            && x_{1,1} + x_{2,1} + x_{3,1} - 10a_1 && = 3000 && (\\text{Demand G1})\\\\ \n",
    "            && x_{1,2} + x_{2,2} + x_{3,2} - 10a_2 && = 2000 && (\\text{Demand G2})\\\\\n",
    "            && x_{1,3} + x_{2,3} + x_{3,3} - 10a_3 && = 1000 && (\\text{Demand G3})\\\\\n",
    " \\end{aligned}"
   ]
  },
  {
   "cell_type": "code",
   "execution_count": 41,
   "metadata": {},
   "outputs": [
    {
     "data": {
      "text/plain": [
       "1"
      ]
     },
     "execution_count": 41,
     "metadata": {},
     "output_type": "execute_result"
    }
   ],
   "source": [
    "gas = barr = [1, 2, 3]\n",
    "demand = [3000, 2000, 1000]\n",
    "x = LpVariable.dicts(\"x\", [(i, j) for i in gas for j in barr], lowBound=0)\n",
    "a = LpVariable.dicts(\"a\", [i for i in gas], lowBound=0)\n",
    "\n",
    "model = LpProblem(\"max_prof\", LpMaximize)\n",
    "\n",
    "model += 21*x[1,1] + 31*x[2,1] + 41*x[3,1] + 11*x[1,2] + 21*x[2,2] + 31*x[3,2] + x[1,3] + 11*x[2,3] + 21*x[3,3] - a[1] - a[2] - a[3]\n",
    "\n",
    "model += 2*x[1,1] - 4*x[2,1] - 2*x[3,1] >= 0\n",
    "model += 4*x[1,2] - 2*x[2,2] >= 0\n",
    "model += 6*x[1,3] + 2*x[3,3] >= 0\n",
    "\n",
    "model += -0.005*x[1,1] + 0.01*x[2,1] + 0.02*x[3,1] <= 0\n",
    "model += -0.015*x[1,2] + 0.01*x[3,2] <= 0\n",
    "model += -0.005*x[1,3] + 0.01*x[2,3] + 0.02*x[3,3] <= 0\n",
    "\n",
    "model += lpSum([x[i, j] for i in gas for j in barr]) <= 14000\n",
    "\n",
    "for i in barr:\n",
    "    model += lpSum([x[i, j] for j in gas]) <= 5000\n",
    "\n",
    "for j in gas:\n",
    "    model += lpSum([x[i, j] for i in barr] - 10*a[j]) == demand[j-1]\n",
    "\n",
    "model.solve()"
   ]
  },
  {
   "cell_type": "code",
   "execution_count": 42,
   "metadata": {},
   "outputs": [
    {
     "data": {
      "text/plain": [
       "'$287,750.00'"
      ]
     },
     "execution_count": 42,
     "metadata": {},
     "output_type": "execute_result"
    }
   ],
   "source": [
    "cost = model.objective.value()\n",
    "\n",
    "f\"${cost:,.2f}\""
   ]
  },
  {
   "cell_type": "code",
   "execution_count": 43,
   "metadata": {},
   "outputs": [
    {
     "data": {
      "text/plain": [
       "{1: 3000.0, 2: 9500.0, 3: 1000.0}"
      ]
     },
     "execution_count": 43,
     "metadata": {},
     "output_type": "execute_result"
    }
   ],
   "source": [
    "gas_quantities = {g: round(np.sum([x[b, g].varValue for b in barr]), 2) for g in gas}\n",
    "gas_quantities"
   ]
  },
  {
   "cell_type": "code",
   "execution_count": 59,
   "metadata": {},
   "outputs": [
    {
     "data": {
      "text/plain": [
       "{'x_1,1': '2,222.22 barrels',\n",
       " 'x_1,2': '2,111.11 barrels',\n",
       " 'x_1,3': '666.67 barrels',\n",
       " 'x_2,1': '444.44 barrels',\n",
       " 'x_2,2': '4,222.22 barrels',\n",
       " 'x_2,3': '333.33 barrels',\n",
       " 'x_3,1': '333.33 barrels',\n",
       " 'x_3,2': '3,166.67 barrels',\n",
       " 'x_3,3': '0.00 barrels'}"
      ]
     },
     "execution_count": 59,
     "metadata": {},
     "output_type": "execute_result"
    }
   ],
   "source": [
    "barr_quantities = {f\"x_{b[0]},{b[1]}\": f\"{q.varValue:,.2f} barrels\" for b, q in x.items()}\n",
    "barr_quantities"
   ]
  },
  {
   "cell_type": "code",
   "execution_count": 47,
   "metadata": {},
   "outputs": [
    {
     "data": {
      "text/plain": [
       "{1: '$0.00', 2: '$750.00', 3: '$0.00'}"
      ]
     },
     "execution_count": 47,
     "metadata": {},
     "output_type": "execute_result"
    }
   ],
   "source": [
    "ad_costs = {i: f\"${a[i].varValue:,.2f}\" for i in a}\n",
    "ad_costs"
   ]
  },
  {
   "cell_type": "markdown",
   "metadata": {},
   "source": [
    "### Notes on the above model"
   ]
  },
  {
   "cell_type": "markdown",
   "metadata": {},
   "source": [
    "1) Assumed that the quality level of a mixture is a linear function of each input used in the mixture. I.E., if gas 3 is made with $\\frac{2}{3}$ crude 1 and $\\frac{1}{3}$ crude 2, then octane level for gas 3 = $(\\frac{2}{3})$ · (octane level for crude 1) + $(\\frac{1}{3})$ · (octane level for crude 2). If the octane level of a gas is not a linear function of the fraction of each input used to produce the gas, then we no longer have a linear programming problem; we have a nonlinear programming problem. For example, let $g_{i3}$ = fraction of gas 3 made with oil i. Suppose that the octane level for gas 3 is given by gas 3 octane level = $g_{13}^{.5}$ · (oil 1 octane level) + $g_{23}^{.4}$ · (oil 2 octane level) + $g_{33}^{.3}$ · (oil 3 octane level). Then we do not have an LP problem. The reason for this is that the octane level of gas 3 is not a linear function of $g_{13}, g_{23},$ and $g_{33}$. We discuss nonlinear programming in Chapter 11.\n",
    "\n",
    "2) In reality, a company using a blending model would run the model periodically (each day, say) and set production on the basis of the current inventory of inputs and current demand forecasts. Then the forecast levels and input levels would be updated, and the model would be run again to determine the next day’s production."
   ]
  },
  {
   "cell_type": "markdown",
   "metadata": {},
   "source": [
    "### Problems"
   ]
  },
  {
   "cell_type": "markdown",
   "metadata": {},
   "source": [
    "#### 1.\n",
    "A bank is attempting to determine where its assets should be invested during the current year. At present, $500,000 is available for investment in bonds, home loans, auto loans, and personal loans. The annual rate of return on each type of investment is known to be: bonds, 10%; home loans, 16%; auto loans, 13%; personal loans, 20%. To ensure that the bank’s portfolio is not too risky, the bank’s investment manager has placed the following three restrictions on the bank’s portfolio:\n",
    "\n",
    "- The amount invested in personal loans cannot exceed the amount invested in bonds.\n",
    "- The amount invested in home loans cannot exceed the amount invested in auto loans.\n",
    "- No more than 25% of the total amount invested may be in personal loans.\n",
    "\n",
    "The bank’s objective is to maximize the annual return on its investment portfolio. Formulate an LP that will enable the bank to meet this goal.\n"
   ]
  },
  {
   "cell_type": "markdown",
   "metadata": {},
   "source": [
    "#### 2.\n",
    "The risk index of an investment can be obtained from return on investment (ROI) by taking the percentage of change in the value of the investment (in absolute terms) for each year, and averaging them.\n",
    "\n",
    "Suppose you are trying to determine what percentage of your money should be invested in T-bills, gold, and stocks. In the dataframe given, you have the annual returns (change in value) for these investments for the years 1968–1988. Let the risk index of a portfolio be the weighted (according to the fraction of your money assigned to each investment) average of the risk index of each individual investment. Suppose that the amount of each investment must be between 20% and 50% of the total invested. You would like the risk index of your portfolio to equal .15, and your goal is to maximize the expected return on your portfolio. Formulate an LP whose solution will maximize the expected return on your portfolio, subject to the given constraints. Use the average return earned by each investment during the years 1968–1988 as your estimate of expected return.\n"
   ]
  },
  {
   "cell_type": "code",
   "execution_count": 104,
   "metadata": {},
   "outputs": [
    {
     "data": {
      "text/html": [
       "<div>\n",
       "<style scoped>\n",
       "    .dataframe tbody tr th:only-of-type {\n",
       "        vertical-align: middle;\n",
       "    }\n",
       "\n",
       "    .dataframe tbody tr th {\n",
       "        vertical-align: top;\n",
       "    }\n",
       "\n",
       "    .dataframe thead th {\n",
       "        text-align: right;\n",
       "    }\n",
       "</style>\n",
       "<table border=\"1\" class=\"dataframe\">\n",
       "  <thead>\n",
       "    <tr style=\"text-align: right;\">\n",
       "      <th></th>\n",
       "      <th>Stocks</th>\n",
       "      <th>Gold</th>\n",
       "      <th>T-Bills</th>\n",
       "    </tr>\n",
       "    <tr>\n",
       "      <th>Year</th>\n",
       "      <th></th>\n",
       "      <th></th>\n",
       "      <th></th>\n",
       "    </tr>\n",
       "  </thead>\n",
       "  <tbody>\n",
       "    <tr>\n",
       "      <th>1968</th>\n",
       "      <td>0.11</td>\n",
       "      <td>0.11</td>\n",
       "      <td>0.05</td>\n",
       "    </tr>\n",
       "    <tr>\n",
       "      <th>1969</th>\n",
       "      <td>-0.09</td>\n",
       "      <td>0.08</td>\n",
       "      <td>0.07</td>\n",
       "    </tr>\n",
       "    <tr>\n",
       "      <th>1970</th>\n",
       "      <td>0.04</td>\n",
       "      <td>-0.14</td>\n",
       "      <td>0.07</td>\n",
       "    </tr>\n",
       "    <tr>\n",
       "      <th>1971</th>\n",
       "      <td>0.14</td>\n",
       "      <td>0.14</td>\n",
       "      <td>0.04</td>\n",
       "    </tr>\n",
       "    <tr>\n",
       "      <th>1972</th>\n",
       "      <td>0.19</td>\n",
       "      <td>0.44</td>\n",
       "      <td>0.04</td>\n",
       "    </tr>\n",
       "    <tr>\n",
       "      <th>1973</th>\n",
       "      <td>-0.15</td>\n",
       "      <td>0.66</td>\n",
       "      <td>0.07</td>\n",
       "    </tr>\n",
       "    <tr>\n",
       "      <th>1974</th>\n",
       "      <td>-0.27</td>\n",
       "      <td>0.64</td>\n",
       "      <td>0.08</td>\n",
       "    </tr>\n",
       "    <tr>\n",
       "      <th>1975</th>\n",
       "      <td>0.37</td>\n",
       "      <td>0.00</td>\n",
       "      <td>0.06</td>\n",
       "    </tr>\n",
       "    <tr>\n",
       "      <th>1976</th>\n",
       "      <td>0.24</td>\n",
       "      <td>-0.22</td>\n",
       "      <td>0.05</td>\n",
       "    </tr>\n",
       "    <tr>\n",
       "      <th>1977</th>\n",
       "      <td>-0.07</td>\n",
       "      <td>0.18</td>\n",
       "      <td>0.05</td>\n",
       "    </tr>\n",
       "    <tr>\n",
       "      <th>1978</th>\n",
       "      <td>0.07</td>\n",
       "      <td>0.31</td>\n",
       "      <td>0.07</td>\n",
       "    </tr>\n",
       "    <tr>\n",
       "      <th>1979</th>\n",
       "      <td>0.19</td>\n",
       "      <td>0.59</td>\n",
       "      <td>0.10</td>\n",
       "    </tr>\n",
       "    <tr>\n",
       "      <th>1980</th>\n",
       "      <td>0.33</td>\n",
       "      <td>0.99</td>\n",
       "      <td>0.11</td>\n",
       "    </tr>\n",
       "    <tr>\n",
       "      <th>1981</th>\n",
       "      <td>-0.05</td>\n",
       "      <td>-0.25</td>\n",
       "      <td>0.15</td>\n",
       "    </tr>\n",
       "    <tr>\n",
       "      <th>1982</th>\n",
       "      <td>0.22</td>\n",
       "      <td>0.04</td>\n",
       "      <td>0.11</td>\n",
       "    </tr>\n",
       "    <tr>\n",
       "      <th>1983</th>\n",
       "      <td>0.23</td>\n",
       "      <td>-0.11</td>\n",
       "      <td>0.09</td>\n",
       "    </tr>\n",
       "    <tr>\n",
       "      <th>1984</th>\n",
       "      <td>0.06</td>\n",
       "      <td>-0.15</td>\n",
       "      <td>0.10</td>\n",
       "    </tr>\n",
       "    <tr>\n",
       "      <th>1985</th>\n",
       "      <td>0.32</td>\n",
       "      <td>-0.12</td>\n",
       "      <td>0.08</td>\n",
       "    </tr>\n",
       "    <tr>\n",
       "      <th>1986</th>\n",
       "      <td>0.19</td>\n",
       "      <td>0.16</td>\n",
       "      <td>0.06</td>\n",
       "    </tr>\n",
       "    <tr>\n",
       "      <th>1987</th>\n",
       "      <td>0.05</td>\n",
       "      <td>0.22</td>\n",
       "      <td>0.05</td>\n",
       "    </tr>\n",
       "    <tr>\n",
       "      <th>1988</th>\n",
       "      <td>0.17</td>\n",
       "      <td>-0.02</td>\n",
       "      <td>0.06</td>\n",
       "    </tr>\n",
       "  </tbody>\n",
       "</table>\n",
       "</div>"
      ],
      "text/plain": [
       "      Stocks  Gold  T-Bills\n",
       "Year                       \n",
       "1968    0.11  0.11     0.05\n",
       "1969   -0.09  0.08     0.07\n",
       "1970    0.04 -0.14     0.07\n",
       "1971    0.14  0.14     0.04\n",
       "1972    0.19  0.44     0.04\n",
       "1973   -0.15  0.66     0.07\n",
       "1974   -0.27  0.64     0.08\n",
       "1975    0.37  0.00     0.06\n",
       "1976    0.24 -0.22     0.05\n",
       "1977   -0.07  0.18     0.05\n",
       "1978    0.07  0.31     0.07\n",
       "1979    0.19  0.59     0.10\n",
       "1980    0.33  0.99     0.11\n",
       "1981   -0.05 -0.25     0.15\n",
       "1982    0.22  0.04     0.11\n",
       "1983    0.23 -0.11     0.09\n",
       "1984    0.06 -0.15     0.10\n",
       "1985    0.32 -0.12     0.08\n",
       "1986    0.19  0.16     0.06\n",
       "1987    0.05  0.22     0.05\n",
       "1988    0.17 -0.02     0.06"
      ]
     },
     "execution_count": 104,
     "metadata": {},
     "output_type": "execute_result"
    }
   ],
   "source": [
    "data = pd.read_csv(\"data/42.csv\", index_col=0)\n",
    "data = data.set_index(\"Year\") / 100\n",
    "\n",
    "data"
   ]
  },
  {
   "cell_type": "markdown",
   "metadata": {},
   "source": [
    "\\begin{aligned}\n",
    "\\max && \\text{Expected return on portfolio}\\\\\n",
    "\\text{s.t.} && \\text{Each investment is between 20\\% and 50\\%}\\\\\n",
    "            &&  \\text{The risk index of the portfolio is 0.15}\\\\\\\\\n",
    "\\max && \\mathbb{E}_p = \\sum^3_{i=1}w_i\\mathbb{E}_i\\\\[15pt]\n",
    "\\text{s.t.} && 0.2 \\le w_i \\le 0.5 \\quad \\text{for } i \\in \\{1,2,3\\}\\\\[10pt]\n",
    "            &&  \\mathbb{R}_p = 0.15\\\\[10pt]\n",
    "            && \\sum^3_{i=1}w_i = 1\\\\[10pt]\n",
    "\\text{where} && \\mathbb{R}_p = \\sum^3_{i=1}w_i\\mathbb{R}_i\n",
    "\\end{aligned}"
   ]
  },
  {
   "cell_type": "code",
   "execution_count": 109,
   "metadata": {},
   "outputs": [
    {
     "data": {
      "text/plain": [
       "Stocks     0.169048\n",
       "Gold       0.265238\n",
       "T-Bills    0.074286\n",
       "dtype: float64"
      ]
     },
     "execution_count": 109,
     "metadata": {},
     "output_type": "execute_result"
    }
   ],
   "source": [
    "Ri = np.mean(np.abs(data), axis=0)\n",
    "Ri"
   ]
  },
  {
   "cell_type": "code",
   "execution_count": 110,
   "metadata": {},
   "outputs": [
    {
     "data": {
      "text/plain": [
       "Stocks     0.109048\n",
       "Gold       0.169048\n",
       "T-Bills    0.074286\n",
       "dtype: float64"
      ]
     },
     "execution_count": 110,
     "metadata": {},
     "output_type": "execute_result"
    }
   ],
   "source": [
    "Ei = np.mean(data, axis=0)\n",
    "Ei"
   ]
  },
  {
   "cell_type": "code",
   "execution_count": 135,
   "metadata": {},
   "outputs": [
    {
     "data": {
      "text/plain": [
       "1"
      ]
     },
     "execution_count": 135,
     "metadata": {},
     "output_type": "execute_result"
    }
   ],
   "source": [
    "model = LpProblem(\"max_exp_ret_port\", LpMaximize)\n",
    "\n",
    "assets = data.columns\n",
    "weights = LpVariable.dicts(\"w\", assets, lowBound=0.2, upBound=0.5)\n",
    "\n",
    "model += lpSum([weights[a] * Ei[a] for a in assets])\n",
    "\n",
    "model += lpSum([weights[a] * Ri[a] for a in assets]) == 0.15\n",
    "model += lpSum([weights[a] for a in assets]) == 1\n",
    "\n",
    "model.solve()"
   ]
  },
  {
   "cell_type": "code",
   "execution_count": 140,
   "metadata": {},
   "outputs": [
    {
     "name": "stdout",
     "output_type": "stream",
     "text": [
      "Expected return on portfolio: 10.93%\n"
     ]
    }
   ],
   "source": [
    "exp_ret = model.objective.value()\n",
    "\n",
    "print(f\"Expected return on portfolio: {exp_ret*100:,.2f}%\")"
   ]
  },
  {
   "cell_type": "code",
   "execution_count": 159,
   "metadata": {},
   "outputs": [],
   "source": [
    "    a1`opt_w = {a: f\"{w.varValue*100:,.2f}%\" for a, w in weights.items()}\n",
    "\n",
    "print(\"Allocations\")\n",
    "for k, v in opt_w.items():\n",
    "    print(f\"{k}\\t:\\t{v}\")"
   ]
  },
  {
   "cell_type": "markdown",
   "metadata": {},
   "source": [
    "\\begin{aligned}\n",
    "\\max && \\text{Expected return on portfolio}\\\\\n",
    "\\text{s.t.} && \\text{Each investment is between 20\\% and 50\\%}\\\\\n",
    "            &&  \\text{The risk index of the portfolio is 0.15}\n",
    "\\end{aligned}"
   ]
  },
  {
   "cell_type": "code",
   "execution_count": 158,
   "metadata": {},
   "outputs": [
    {
     "name": "stdout",
     "output_type": "stream",
     "text": [
      "Risk index of portfolio: 0.15\n"
     ]
    }
   ],
   "source": [
    "Rp = np.sum([weights[a].varValue * Ri[a] for a in assets])\n",
    "\n",
    "print(f\"Risk index of portfolio: {Rp:,.2f}\")"
   ]
  }
 ],
 "metadata": {
  "kernelspec": {
   "display_name": "base",
   "language": "python",
   "name": "python3"
  },
  "language_info": {
   "codemirror_mode": {
    "name": "ipython",
    "version": 3
   },
   "file_extension": ".py",
   "mimetype": "text/x-python",
   "name": "python",
   "nbconvert_exporter": "python",
   "pygments_lexer": "ipython3",
   "version": "3.11.5"
  }
 },
 "nbformat": 4,
 "nbformat_minor": 2
}

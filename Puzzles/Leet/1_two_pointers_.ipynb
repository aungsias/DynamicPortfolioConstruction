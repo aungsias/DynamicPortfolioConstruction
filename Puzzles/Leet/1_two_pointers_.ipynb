{
 "cells": [
  {
   "cell_type": "markdown",
   "metadata": {},
   "source": [
    "## 1. Two Sum\n",
    "\n",
    "Given an array `arr` and target `tgt`, return a subarray containing two integers from `arr` that add up to `tgt`.\n",
    "\n",
    "- Input:\n",
    "    - `arr = [1,6,2,5,3]`\n",
    "    - `tgt = 7` \n",
    "\n",
    "- Output:\n",
    "    - `[2,5]`"
   ]
  },
  {
   "cell_type": "code",
   "execution_count": 9,
   "metadata": {},
   "outputs": [
    {
     "data": {
      "text/plain": [
       "[1, 6]"
      ]
     },
     "execution_count": 9,
     "metadata": {},
     "output_type": "execute_result"
    }
   ],
   "source": [
    "class Solution():\n",
    "    def twoSum(self, arr, tgt):\n",
    "        arr.sort()\n",
    "\n",
    "        idx_l, idx_r = 0, len(arr) - 1\n",
    "\n",
    "        while idx_l < idx_r:\n",
    "            s = arr[idx_l] + arr[idx_r]\n",
    "            if s == tgt:\n",
    "                return [arr[idx_l], arr[idx_r]]\n",
    "\n",
    "            elif s < tgt:\n",
    "                idx_l += 1\n",
    "            \n",
    "            else:\n",
    "                idx_r -= 1\n",
    "    \n",
    "sol = Solution()\n",
    "\n",
    "arr = [1,6,2,5,3]\n",
    "tgt = 7\n",
    "\n",
    "sol.twoSum(arr, tgt)"
   ]
  },
  {
   "cell_type": "markdown",
   "metadata": {},
   "source": [
    "## 2. Subarray with Sum\n",
    "\n",
    "Find a subarray that adds up to a given sum in a non-negative number array.\n",
    "\n",
    "- Input:\n",
    "    - `arr = [1,6,2,5,3]`\n",
    "    - `tgt = 9` \n",
    "\n",
    "- Output:\n",
    "    - `[1,6,2]`"
   ]
  },
  {
   "cell_type": "code",
   "execution_count": 22,
   "metadata": {},
   "outputs": [
    {
     "data": {
      "text/plain": [
       "[1, 6, 2]"
      ]
     },
     "execution_count": 22,
     "metadata": {},
     "output_type": "execute_result"
    }
   ],
   "source": [
    "class Solution():\n",
    "    def subarraySum(self, arr, tgt):\n",
    "        start = s = 0\n",
    "\n",
    "        for end in range(len(arr)):\n",
    "            s += arr[end]\n",
    "\n",
    "            while s > tgt:\n",
    "                s -= arr[start]\n",
    "                start += 1\n",
    "            \n",
    "            if s == tgt:\n",
    "                return arr[start:end+1]\n",
    "        \n",
    "\n",
    "sol = Solution()\n",
    "arr = [1000,1,6,2,3]\n",
    "tgt = 9\n",
    "\n",
    "sol.subarraySum(arr, tgt)"
   ]
  }
 ],
 "metadata": {
  "kernelspec": {
   "display_name": "base",
   "language": "python",
   "name": "python3"
  },
  "language_info": {
   "codemirror_mode": {
    "name": "ipython",
    "version": 3
   },
   "file_extension": ".py",
   "mimetype": "text/x-python",
   "name": "python",
   "nbconvert_exporter": "python",
   "pygments_lexer": "ipython3",
   "version": "3.11.5"
  }
 },
 "nbformat": 4,
 "nbformat_minor": 2
}

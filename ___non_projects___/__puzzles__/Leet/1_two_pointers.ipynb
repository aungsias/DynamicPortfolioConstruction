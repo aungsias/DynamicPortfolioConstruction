{
 "cells": [
  {
   "cell_type": "markdown",
   "metadata": {},
   "source": [
    "## 1. Two Pointers"
   ]
  },
  {
   "cell_type": "markdown",
   "metadata": {},
   "source": [
    "### Examples"
   ]
  },
  {
   "cell_type": "markdown",
   "metadata": {},
   "source": [
    "\n",
    "<b>1. Opposite Direction Pointers</b>\n",
    "\n",
    "- <b>Find pair with given sum in a sorted array:</b><br>Given an array, find if there's a pair of elements that add up to a specific target sum."
   ]
  },
  {
   "cell_type": "code",
   "execution_count": 5,
   "metadata": {},
   "outputs": [
    {
     "name": "stdout",
     "output_type": "stream",
     "text": [
      "False\n",
      "[2, 9]\n"
     ]
    }
   ],
   "source": [
    "def find_pair_with_sum(arr, tgt):\n",
    "    arr.sort()\n",
    "    left, right = 0, len(arr) - 1\n",
    "\n",
    "    while left < right:\n",
    "        current_sum = arr[left] + arr[right]\n",
    "\n",
    "        if current_sum == tgt:\n",
    "            return [arr[left], arr[right]]\n",
    "        \n",
    "        elif current_sum < tgt:\n",
    "            left += 1\n",
    "            \n",
    "        else:\n",
    "            right -= 1\n",
    "            \n",
    "    return False\n",
    "\n",
    "arr, t1, t2 = [2, 3, 5, 0, 9], 17, 11\n",
    "print(find_pair_with_sum(arr, t1)) # --> False\n",
    "print(find_pair_with_sum(arr, t2)) # --> [0, 4]"
   ]
  },
  {
   "cell_type": "markdown",
   "metadata": {},
   "source": [
    "<b>2. Same Direction Pointers</b>\n",
    "\n",
    "- <b>Subarray with given sum:</b><br>Find a subarray that adds up to a given sum in a non-negative number array."
   ]
  },
  {
   "cell_type": "code",
   "execution_count": 3,
   "metadata": {},
   "outputs": [
    {
     "name": "stdout",
     "output_type": "stream",
     "text": [
      "[1, 5]\n",
      "False\n"
     ]
    }
   ],
   "source": [
    "def find_subarray_with_sum(arr, tgt):\n",
    "    start = current_sum = 0\n",
    "\n",
    "    for end in range(len(arr)):\n",
    "        current_sum += arr[end]\n",
    "\n",
    "        while current_sum > tgt:\n",
    "            current_sum -= arr[start]\n",
    "            start += 1\n",
    "\n",
    "        if current_sum == tgt:\n",
    "            return arr[start:end+1]\n",
    "            \n",
    "    return False\n",
    "\n",
    "\n",
    "arr, t1, t2 = [1, 5, 10, 5, 2, 22], 6, 100\n",
    "print(find_subarray_with_sum(arr, t1)) # --> [1, 5]\n",
    "print(find_subarray_with_sum(arr, t2)) # --> False"
   ]
  },
  {
   "cell_type": "markdown",
   "metadata": {},
   "source": [
    "## Problems"
   ]
  },
  {
   "cell_type": "markdown",
   "metadata": {},
   "source": [
    "1. Given a sorted array `arr` and a target `tgt`, return an array of three numbers in `arr` that add up to `tgt`."
   ]
  },
  {
   "cell_type": "code",
   "execution_count": 14,
   "metadata": {},
   "outputs": [
    {
     "data": {
      "text/plain": [
       "[1, 3, 10]"
      ]
     },
     "execution_count": 14,
     "metadata": {},
     "output_type": "execute_result"
    }
   ],
   "source": [
    "def find_triplet_sum(arr, tgt):\n",
    "\n",
    "    for i in range(len(arr) - 2):\n",
    "        left = i + 1\n",
    "        right = len(arr) - 1\n",
    "\n",
    "        while left < right:\n",
    "            current_sum = arr[i] + arr[left] + arr[right]\n",
    "\n",
    "            if current_sum == tgt:\n",
    "                return [arr[i], arr[left], arr[right]]\n",
    "\n",
    "            elif current_sum < tgt:\n",
    "                left += 1\n",
    "            \n",
    "            else:\n",
    "                right -= 1\n",
    "    \n",
    "    return False\n",
    "            \n",
    "find_triplet_sum([1,2,3,6,10], 14)"
   ]
  },
  {
   "cell_type": "markdown",
   "metadata": {},
   "source": [
    "2. Given two sorted arrays `arr1` & `arr2`, merge them into a single sorted array."
   ]
  },
  {
   "cell_type": "code",
   "execution_count": 52,
   "metadata": {},
   "outputs": [
    {
     "data": {
      "text/plain": [
       "[0, 1, 2, 5, 5, 6, 10]"
      ]
     },
     "execution_count": 52,
     "metadata": {},
     "output_type": "execute_result"
    }
   ],
   "source": [
    "def merge_sorted_arrays(arr1, arr2):\n",
    "    s1 = s2 = 0\n",
    "    merged = []\n",
    "\n",
    "    while s1 < len(arr1) and s2 < len(arr2):\n",
    "\n",
    "        if arr2[s2] > arr1[s1]:\n",
    "            merged.append(arr1[s1])\n",
    "            s1 += 1\n",
    "        else:\n",
    "            merged.append(arr2[s2])\n",
    "            s2 += 1\n",
    "            \n",
    "    while s1 < len(arr1):\n",
    "        merged.append(arr1[s1])\n",
    "        s1 += 1\n",
    "    \n",
    "    while s2 < len(arr2):\n",
    "        merged.append(arr2[s2])\n",
    "        s2 += 1\n",
    "    \n",
    "    return merged\n",
    "\n",
    "merge_sorted_arrays([1,2,5], [0,5,6,10])"
   ]
  }
 ],
 "metadata": {
  "kernelspec": {
   "display_name": "base",
   "language": "python",
   "name": "python3"
  },
  "language_info": {
   "codemirror_mode": {
    "name": "ipython",
    "version": 3
   },
   "file_extension": ".py",
   "mimetype": "text/x-python",
   "name": "python",
   "nbconvert_exporter": "python",
   "pygments_lexer": "ipython3",
   "version": "3.11.5"
  }
 },
 "nbformat": 4,
 "nbformat_minor": 2
}

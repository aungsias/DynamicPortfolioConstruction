{
 "cells": [
  {
   "cell_type": "code",
   "execution_count": 6,
   "metadata": {},
   "outputs": [],
   "source": [
    "# Data manipulation\n",
    "import pandas as pd\n",
    "import numpy as np\n",
    "\n",
    "# Visualization\n",
    "import matplotlib.pyplot as plt\n",
    "\n",
    "# Tensors\n",
    "import torch\n",
    "\n",
    "from portfolio_stats import PortfolioStats\n",
    "\n",
    "# Optimization\n",
    "from workflow.tools.optimize import max_sharpe_mv_opt\n",
    "\n",
    "# Walk forward modeling\n",
    "from sklearn.model_selection import TimeSeriesSplit\n",
    "\n",
    "# Misc.\n",
    "from workflow.tools.utils import set_plot_style\n",
    "\n",
    "set_plot_style()"
   ]
  },
  {
   "cell_type": "code",
   "execution_count": 2,
   "metadata": {},
   "outputs": [
    {
     "data": {
      "text/html": [
       "<div>\n",
       "<style scoped>\n",
       "    .dataframe tbody tr th:only-of-type {\n",
       "        vertical-align: middle;\n",
       "    }\n",
       "\n",
       "    .dataframe tbody tr th {\n",
       "        vertical-align: top;\n",
       "    }\n",
       "\n",
       "    .dataframe thead th {\n",
       "        text-align: right;\n",
       "    }\n",
       "</style>\n",
       "<table border=\"1\" class=\"dataframe\">\n",
       "  <thead>\n",
       "    <tr style=\"text-align: right;\">\n",
       "      <th></th>\n",
       "      <th>BONDS</th>\n",
       "      <th>COMMODITIES</th>\n",
       "      <th>STOCKS</th>\n",
       "      <th>VOLATILIITY</th>\n",
       "    </tr>\n",
       "    <tr>\n",
       "      <th>Date</th>\n",
       "      <th></th>\n",
       "      <th></th>\n",
       "      <th></th>\n",
       "      <th></th>\n",
       "    </tr>\n",
       "  </thead>\n",
       "  <tbody>\n",
       "    <tr>\n",
       "      <th>2006-02-07</th>\n",
       "      <td>-0.000699</td>\n",
       "      <td>-0.029352</td>\n",
       "      <td>-0.009784</td>\n",
       "      <td>0.041313</td>\n",
       "    </tr>\n",
       "    <tr>\n",
       "      <th>2006-02-08</th>\n",
       "      <td>-0.000498</td>\n",
       "      <td>-0.004264</td>\n",
       "      <td>0.007168</td>\n",
       "      <td>-0.057548</td>\n",
       "    </tr>\n",
       "    <tr>\n",
       "      <th>2006-02-09</th>\n",
       "      <td>0.000598</td>\n",
       "      <td>0.009358</td>\n",
       "      <td>-0.001906</td>\n",
       "      <td>0.022352</td>\n",
       "    </tr>\n",
       "    <tr>\n",
       "      <th>2006-02-10</th>\n",
       "      <td>-0.002099</td>\n",
       "      <td>-0.018373</td>\n",
       "      <td>0.002065</td>\n",
       "      <td>-0.019239</td>\n",
       "    </tr>\n",
       "    <tr>\n",
       "      <th>2006-02-13</th>\n",
       "      <td>0.000700</td>\n",
       "      <td>-0.015646</td>\n",
       "      <td>-0.004533</td>\n",
       "      <td>0.036617</td>\n",
       "    </tr>\n",
       "  </tbody>\n",
       "</table>\n",
       "</div>"
      ],
      "text/plain": [
       "               BONDS  COMMODITIES    STOCKS  VOLATILIITY\n",
       "Date                                                    \n",
       "2006-02-07 -0.000699    -0.029352 -0.009784     0.041313\n",
       "2006-02-08 -0.000498    -0.004264  0.007168    -0.057548\n",
       "2006-02-09  0.000598     0.009358 -0.001906     0.022352\n",
       "2006-02-10 -0.002099    -0.018373  0.002065    -0.019239\n",
       "2006-02-13  0.000700    -0.015646 -0.004533     0.036617"
      ]
     },
     "execution_count": 2,
     "metadata": {},
     "output_type": "execute_result"
    }
   ],
   "source": [
    "features = pd.read_csv(\"workflow/data/features.csv\", index_col=0, parse_dates=True)\n",
    "rets = features[[col for col in features.columns if \"RET\" in col]]\n",
    "indices = features.drop(rets.columns, axis=1).columns\n",
    "rets.columns = indices\n",
    "\n",
    "rets.head()"
   ]
  },
  {
   "cell_type": "code",
   "execution_count": 3,
   "metadata": {},
   "outputs": [
    {
     "data": {
      "text/plain": [
       "<Axes: xlabel='Date'>"
      ]
     },
     "execution_count": 3,
     "metadata": {},
     "output_type": "execute_result"
    },
    {
     "data": {
      "image/png": "[encoded data removed]",
      "text/plain": [
       "<Figure size 640x480 with 1 Axes>"
      ]
     },
     "metadata": {},
     "output_type": "display_data"
    }
   ],
   "source": [
    "from scipy.optimize import minimize\n",
    "np.random.seed(42)\n",
    "\n",
    "trading_days = 252\n",
    "rebalance_after = 2\n",
    "tss = TimeSeriesSplit(test_size=trading_days*rebalance_after)\n",
    "\n",
    "dates = rets.index\n",
    "\n",
    "n_assets = len(indices)\n",
    "init_weights = np.array([1/n_assets] * n_assets)\n",
    "mvms_allocations = pd.DataFrame(columns=indices, index=features.index)\n",
    "\n",
    "for train_idx, test_idx in tss.split(rets):\n",
    "    past_rets = rets.iloc[train_idx].values\n",
    "    opt_weights = max_sharpe_mv_opt(init_weights, past_rets, leverage=True)\n",
    "    mvms_allocations.loc[dates[test_idx][0]] = opt_weights\n",
    "\n",
    "mvms_allocations = mvms_allocations.ffill().shift().dropna()\n",
    "mvms_allocations.loc[mvms_allocations.index.min()] = 0\n",
    "\n",
    "mvms_rets = (rets * mvms_allocations).dropna().sum(axis=1)\n",
    "mvms_rets.cumsum().plot()"
   ]
  },
  {
   "cell_type": "code",
   "execution_count": 10,
   "metadata": {},
   "outputs": [
    {
     "data": {
      "text/html": [
       "<div>\n",
       "<style scoped>\n",
       "    .dataframe tbody tr th:only-of-type {\n",
       "        vertical-align: middle;\n",
       "    }\n",
       "\n",
       "    .dataframe tbody tr th {\n",
       "        vertical-align: top;\n",
       "    }\n",
       "\n",
       "    .dataframe thead th {\n",
       "        text-align: right;\n",
       "    }\n",
       "</style>\n",
       "<table border=\"1\" class=\"dataframe\">\n",
       "  <thead>\n",
       "    <tr style=\"text-align: right;\">\n",
       "      <th></th>\n",
       "      <th>SHARPE</th>\n",
       "      <th>CUMU_RET</th>\n",
       "      <th>ANN_RET</th>\n",
       "      <th>ANN_VOL</th>\n",
       "      <th>MAX_DD</th>\n",
       "    </tr>\n",
       "  </thead>\n",
       "  <tbody>\n",
       "    <tr>\n",
       "      <th>0</th>\n",
       "      <td>0.627855</td>\n",
       "      <td>1.246383</td>\n",
       "      <td>0.124688</td>\n",
       "      <td>0.198593</td>\n",
       "      <td>-0.766396</td>\n",
       "    </tr>\n",
       "  </tbody>\n",
       "</table>\n",
       "</div>"
      ],
      "text/plain": [
       "     SHARPE  CUMU_RET   ANN_RET   ANN_VOL    MAX_DD\n",
       "0  0.627855  1.246383  0.124688  0.198593 -0.766396"
      ]
     },
     "execution_count": 10,
     "metadata": {},
     "output_type": "execute_result"
    }
   ],
   "source": [
    "ps = PortfolioStats(pd.DataFrame(mvms_rets), log=True)\n",
    "ps.info"
   ]
  }
 ],
 "metadata": {
  "kernelspec": {
   "display_name": "base",
   "language": "python",
   "name": "python3"
  },
  "language_info": {
   "codemirror_mode": {
    "name": "ipython",
    "version": 3
   },
   "file_extension": ".py",
   "mimetype": "text/x-python",
   "name": "python",
   "nbconvert_exporter": "python",
   "pygments_lexer": "ipython3",
   "version": "3.11.5"
  }
 },
 "nbformat": 4,
 "nbformat_minor": 2
}

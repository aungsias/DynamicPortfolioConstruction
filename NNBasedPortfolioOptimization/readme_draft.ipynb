{
 "cells": [
  {
   "cell_type": "markdown",
   "metadata": {},
   "source": [
    "# Portfolio Optimization via Neural Networks\n",
    "\n",
    "Aung Si<br>\n",
    "October 17<sup>th</sup>, 2023\n",
    "\n",
    "---"
   ]
  },
  {
   "cell_type": "markdown",
   "metadata": {},
   "source": [
    "## Contents\n",
    "1. [Overview](#Overview)\n",
    "2. Business Understanding: The Staticity of Mean Variance Optimization\n",
    "3. Methodology\n",
    "4. Data\n",
    "5. Feature Engineering\n",
    "6. Modeling\n",
    "7. Results\n",
    "8. Conclusion\n",
    "9. Limitations\n",
    "10. Future Work\n",
    "11. Repository Structure"
   ]
  },
  {
   "cell_type": "markdown",
   "metadata": {},
   "source": [
    "## Overview\n",
    "\n",
    "This endeavor draws substantive influence from the University of Oxford's [Deep Learning for Portfolio Optimization](https://arxiv.org/abs/2005.13665). However, the project diverges at crucial junctures in its execution.\n",
    "\n",
    "*To be completed.*"
   ]
  }
 ],
 "metadata": {
  "kernelspec": {
   "display_name": "base",
   "language": "python",
   "name": "python3"
  },
  "language_info": {
   "codemirror_mode": {
    "name": "ipython",
    "version": 3
   },
   "file_extension": ".py",
   "mimetype": "text/x-python",
   "name": "python",
   "nbconvert_exporter": "python",
   "pygments_lexer": "ipython3",
   "version": "3.11.5"
  }
 },
 "nbformat": 4,
 "nbformat_minor": 2
}
